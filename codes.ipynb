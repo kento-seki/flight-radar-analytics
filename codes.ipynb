{
 "cells": [
  {
   "cell_type": "code",
   "execution_count": 96,
   "metadata": {},
   "outputs": [],
   "source": [
    "import pandas as pd\n",
    "import Requester\n",
    "import time\n",
    "from datetime import datetime\n",
    "import json\n",
    "import re"
   ]
  },
  {
   "cell_type": "code",
   "execution_count": 59,
   "metadata": {},
   "outputs": [],
   "source": [
    "def today_beginning():\n",
    "    today = datetime.now()\n",
    "    today_midnight = datetime(today.year, today.month, today.day, 0, 0, 0)\n",
    "    return int(time.mktime(today_midnight.timetuple()))\n",
    "\n",
    "today_unix = today_beginning()"
   ]
  },
  {
   "cell_type": "code",
   "execution_count": 60,
   "metadata": {},
   "outputs": [
    {
     "name": "stdout",
     "output_type": "stream",
     "text": [
      "1000 flights retrieved\n"
     ]
    }
   ],
   "source": [
    "syd = requester.AirportDataRequester(\"YSSY\")\n",
    "flights = syd.get_arrivals(today_unix)\n",
    "departures = syd.get_departures(today_unix)\n",
    "\n",
    "flights.extend(departures)\n",
    "print(f'{len(flights)} flights retrieved')"
   ]
  },
  {
   "cell_type": "markdown",
   "metadata": {},
   "source": [
    "### Aircraft codes"
   ]
  },
  {
   "cell_type": "code",
   "execution_count": 94,
   "metadata": {},
   "outputs": [],
   "source": [
    "def get_family(code):\n",
    "\n",
    "    # These are the FIRST 3 CHARACTERS from the ICAO/IATA aircraft type code\n",
    "    families = {\n",
    "        'A320': ('320', '321', '32Q', '32X', '32Y', 'A20', 'A21', 'A32'),\n",
    "        'A330': ('330', '332', '333', '33F', '33L', '33V', '33X', 'A33'),\n",
    "        'A340': ('340', '342', '343', '345', '346'),\n",
    "        'A350': ('350', '351', '359', '35K', '35X', 'A35'),\n",
    "        'A380': ('380', '388', 'A38'),\n",
    "        'BA146': ('146', 'B46', '14Y', '14Z'),\n",
    "        'B717': ('717', '71F', '71M', '71Q', '71R', '71W', 'B71'),\n",
    "        'B737': ('738', '73H', '73J', '73M', '73W', '73X', '73Y', '7S8', 'B38', 'B73'),\n",
    "        'B747': ('74F', '74Y', '744', '74E', '74H', '74J', '74M', '74N', '74R', '74W', '74X', 'B74'),\n",
    "        'B767': ('763', '76W', '76Z', '76V'),\n",
    "        'B777': ('77F', '77L', '77W', '77X', '77Y', 'B77'),\n",
    "        'B787': ('788', '789', '78X', '78Z', 'B78'),\n",
    "        'E190': ('E90'),\n",
    "        'DHC8': ('DH8', 'DHC', 'DHT', 'DH3', 'DH4'),\n",
    "        'S340': ('SF3')\n",
    "    }\n",
    "\n",
    "    for family, codes in families.items():\n",
    "        if code[:3] in codes:\n",
    "            return family\n",
    "    return 'Unknown'\n",
    "\n",
    "def group_into_aircraft_families(flights, write_CSV=False):\n",
    "    \"\"\"\n",
    "    Given a list of flight JSON objects, identifies the family each aircraft\n",
    "    belongs to and returns a pandas dataframe with unique records of the\n",
    "    aircraft code, name, and family.\n",
    "    \"\"\"\n",
    "    columns = ['code', 'name', 'family']\n",
    "    aircraft_list = []\n",
    "\n",
    "    for fl in flights:\n",
    "        if fl['flight']['aircraft'] is None:\n",
    "            continue\n",
    "        aircraft = fl['flight']['aircraft']['model']\n",
    "        code = aircraft['code']\n",
    "        name = aircraft['text']\n",
    "        family = get_family(code)\n",
    "\n",
    "        aircraft_list.append([code, name, family])\n",
    "\n",
    "    aircrafts = pd.DataFrame(aircraft_list, columns=columns)\n",
    "    aircrafts = aircrafts.drop_duplicates()\n",
    "    if write_CSV:\n",
    "        aircrafts.to_csv('aircrafts.csv', index=False)\n",
    "\n",
    "    return aircrafts"
   ]
  },
  {
   "cell_type": "code",
   "execution_count": 95,
   "metadata": {},
   "outputs": [
    {
     "data": {
      "text/html": [
       "<div>\n",
       "<style scoped>\n",
       "    .dataframe tbody tr th:only-of-type {\n",
       "        vertical-align: middle;\n",
       "    }\n",
       "\n",
       "    .dataframe tbody tr th {\n",
       "        vertical-align: top;\n",
       "    }\n",
       "\n",
       "    .dataframe thead th {\n",
       "        text-align: right;\n",
       "    }\n",
       "</style>\n",
       "<table border=\"1\" class=\"dataframe\">\n",
       "  <thead>\n",
       "    <tr style=\"text-align: right;\">\n",
       "      <th></th>\n",
       "      <th>code</th>\n",
       "      <th>name</th>\n",
       "      <th>family</th>\n",
       "    </tr>\n",
       "  </thead>\n",
       "  <tbody>\n",
       "    <tr>\n",
       "      <th>0</th>\n",
       "      <td>14Z</td>\n",
       "      <td></td>\n",
       "      <td>BA146</td>\n",
       "    </tr>\n",
       "    <tr>\n",
       "      <th>1</th>\n",
       "      <td>PC24</td>\n",
       "      <td>Pilatus PC-24</td>\n",
       "      <td>Unknown</td>\n",
       "    </tr>\n",
       "    <tr>\n",
       "      <th>2</th>\n",
       "      <td>B463</td>\n",
       "      <td>BAe 146-300(QT)</td>\n",
       "      <td>BA146</td>\n",
       "    </tr>\n",
       "    <tr>\n",
       "      <th>7</th>\n",
       "      <td>B350</td>\n",
       "      <td>Beech King Air 350C</td>\n",
       "      <td>Unknown</td>\n",
       "    </tr>\n",
       "    <tr>\n",
       "      <th>8</th>\n",
       "      <td>B789</td>\n",
       "      <td>Boeing 787-9 Dreamliner</td>\n",
       "      <td>B787</td>\n",
       "    </tr>\n",
       "    <tr>\n",
       "      <th>...</th>\n",
       "      <td>...</td>\n",
       "      <td>...</td>\n",
       "      <td>...</td>\n",
       "    </tr>\n",
       "    <tr>\n",
       "      <th>780</th>\n",
       "      <td>788</td>\n",
       "      <td></td>\n",
       "      <td>B787</td>\n",
       "    </tr>\n",
       "    <tr>\n",
       "      <th>800</th>\n",
       "      <td>F2TH</td>\n",
       "      <td>Dassault Falcon 2000LX</td>\n",
       "      <td>Unknown</td>\n",
       "    </tr>\n",
       "    <tr>\n",
       "      <th>836</th>\n",
       "      <td>A388</td>\n",
       "      <td></td>\n",
       "      <td>A380</td>\n",
       "    </tr>\n",
       "    <tr>\n",
       "      <th>925</th>\n",
       "      <td>74F</td>\n",
       "      <td></td>\n",
       "      <td>B747</td>\n",
       "    </tr>\n",
       "    <tr>\n",
       "      <th>944</th>\n",
       "      <td>B462</td>\n",
       "      <td></td>\n",
       "      <td>BA146</td>\n",
       "    </tr>\n",
       "  </tbody>\n",
       "</table>\n",
       "<p>93 rows × 3 columns</p>\n",
       "</div>"
      ],
      "text/plain": [
       "     code                     name   family\n",
       "0     14Z                             BA146\n",
       "1    PC24            Pilatus PC-24  Unknown\n",
       "2    B463          BAe 146-300(QT)    BA146\n",
       "7    B350      Beech King Air 350C  Unknown\n",
       "8    B789  Boeing 787-9 Dreamliner     B787\n",
       "..    ...                      ...      ...\n",
       "780   788                              B787\n",
       "800  F2TH   Dassault Falcon 2000LX  Unknown\n",
       "836  A388                              A380\n",
       "925   74F                              B747\n",
       "944  B462                             BA146\n",
       "\n",
       "[93 rows x 3 columns]"
      ]
     },
     "execution_count": 95,
     "metadata": {},
     "output_type": "execute_result"
    }
   ],
   "source": [
    "group_into_aircraft_families(flights)"
   ]
  },
  {
   "cell_type": "code",
   "execution_count": null,
   "metadata": {},
   "outputs": [],
   "source": []
  }
 ],
 "metadata": {
  "kernelspec": {
   "display_name": "flightRadarKernel",
   "language": "python",
   "name": "flightradarkernel"
  },
  "language_info": {
   "codemirror_mode": {
    "name": "ipython",
    "version": 3
   },
   "file_extension": ".py",
   "mimetype": "text/x-python",
   "name": "python",
   "nbconvert_exporter": "python",
   "pygments_lexer": "ipython3",
   "version": "3.12.3"
  }
 },
 "nbformat": 4,
 "nbformat_minor": 2
}
