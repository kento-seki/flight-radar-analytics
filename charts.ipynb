{
 "cells": [
  {
   "cell_type": "code",
   "execution_count": 1,
   "metadata": {},
   "outputs": [],
   "source": [
    "import importlib\n",
    "import AirportDataRequester\n",
    "import CodeConverter\n",
    "importlib.reload(AirportDataRequester)\n",
    "importlib.reload(CodeConverter)\n",
    "\n",
    "import pandas as pd\n",
    "import json\n",
    "import time\n",
    "from datetime import datetime, timedelta\n",
    "import plotly.graph_objects as go\n",
    "import plotly.express as px"
   ]
  },
  {
   "cell_type": "code",
   "execution_count": 2,
   "metadata": {},
   "outputs": [],
   "source": [
    "def pretty_print(jsonData):\n",
    "    print(json.dumps(jsonData, indent=4))\n",
    "\n",
    "def today_beginning():\n",
    "    today = datetime.now()\n",
    "    today_midnight = datetime(today.year, today.month, today.day, 0, 0, 0)\n",
    "    return int(time.mktime(today_midnight.timetuple()))\n",
    "\n",
    "def tomorrow_beginning():\n",
    "    now = datetime.now()\n",
    "    tomorrow = now + timedelta(days=1)\n",
    "    tomorrow_midnight = datetime(tomorrow.year, tomorrow.month, tomorrow.day, 0, 0, 0)\n",
    "    return int(time.mktime(tomorrow_midnight.timetuple()))"
   ]
  },
  {
   "cell_type": "code",
   "execution_count": 3,
   "metadata": {},
   "outputs": [
    {
     "data": {
      "text/html": [
       "<div>\n",
       "<style scoped>\n",
       "    .dataframe tbody tr th:only-of-type {\n",
       "        vertical-align: middle;\n",
       "    }\n",
       "\n",
       "    .dataframe tbody tr th {\n",
       "        vertical-align: top;\n",
       "    }\n",
       "\n",
       "    .dataframe thead th {\n",
       "        text-align: right;\n",
       "    }\n",
       "</style>\n",
       "<table border=\"1\" class=\"dataframe\">\n",
       "  <thead>\n",
       "    <tr style=\"text-align: right;\">\n",
       "      <th></th>\n",
       "      <th>origin</th>\n",
       "      <th>destination</th>\n",
       "      <th>aircraft</th>\n",
       "      <th>airline</th>\n",
       "      <th>flightNumber</th>\n",
       "      <th>scheduled</th>\n",
       "    </tr>\n",
       "  </thead>\n",
       "  <tbody>\n",
       "    <tr>\n",
       "      <th>0</th>\n",
       "      <td>YSSY</td>\n",
       "      <td>YIVL</td>\n",
       "      <td>B350</td>\n",
       "      <td>AMX</td>\n",
       "      <td>AM266</td>\n",
       "      <td>2024-11-25 00:30:00</td>\n",
       "    </tr>\n",
       "    <tr>\n",
       "      <th>1</th>\n",
       "      <td>YSSY</td>\n",
       "      <td>OMDB</td>\n",
       "      <td>A388</td>\n",
       "      <td>UAE</td>\n",
       "      <td>EK415</td>\n",
       "      <td>2024-11-25 06:00:00</td>\n",
       "    </tr>\n",
       "    <tr>\n",
       "      <th>2</th>\n",
       "      <td>YSSY</td>\n",
       "      <td>NFFN</td>\n",
       "      <td>B38M</td>\n",
       "      <td>FJI</td>\n",
       "      <td>FJ914</td>\n",
       "      <td>2024-11-25 06:00:00</td>\n",
       "    </tr>\n",
       "    <tr>\n",
       "      <th>3</th>\n",
       "      <td>YSSY</td>\n",
       "      <td>YMML</td>\n",
       "      <td>A320</td>\n",
       "      <td>JST</td>\n",
       "      <td>JQ501</td>\n",
       "      <td>2024-11-25 06:00:00</td>\n",
       "    </tr>\n",
       "    <tr>\n",
       "      <th>4</th>\n",
       "      <td>YSSY</td>\n",
       "      <td>YMAV</td>\n",
       "      <td>A320</td>\n",
       "      <td>JST</td>\n",
       "      <td>JQ603</td>\n",
       "      <td>2024-11-25 06:00:00</td>\n",
       "    </tr>\n",
       "    <tr>\n",
       "      <th>...</th>\n",
       "      <td>...</td>\n",
       "      <td>...</td>\n",
       "      <td>...</td>\n",
       "      <td>...</td>\n",
       "      <td>...</td>\n",
       "      <td>...</td>\n",
       "    </tr>\n",
       "    <tr>\n",
       "      <th>942</th>\n",
       "      <td>YPAD</td>\n",
       "      <td>YSSY</td>\n",
       "      <td>14Z</td>\n",
       "      <td>QFA</td>\n",
       "      <td>QF7484</td>\n",
       "      <td>2024-11-25 23:15:00</td>\n",
       "    </tr>\n",
       "    <tr>\n",
       "      <th>943</th>\n",
       "      <td>YBCG</td>\n",
       "      <td>YSSY</td>\n",
       "      <td>B463</td>\n",
       "      <td>JTE</td>\n",
       "      <td>NC7434</td>\n",
       "      <td>2024-11-25 23:38:00</td>\n",
       "    </tr>\n",
       "    <tr>\n",
       "      <th>944</th>\n",
       "      <td>YMML</td>\n",
       "      <td>YSSY</td>\n",
       "      <td>B463</td>\n",
       "      <td>JTE</td>\n",
       "      <td>NC7487</td>\n",
       "      <td>2024-11-25 23:44:00</td>\n",
       "    </tr>\n",
       "    <tr>\n",
       "      <th>945</th>\n",
       "      <td>YBBN</td>\n",
       "      <td>YSSY</td>\n",
       "      <td>B462</td>\n",
       "      <td>QFA</td>\n",
       "      <td>QF7419</td>\n",
       "      <td>2024-11-25 23:45:00</td>\n",
       "    </tr>\n",
       "    <tr>\n",
       "      <th>946</th>\n",
       "      <td>YBCG</td>\n",
       "      <td>YSSY</td>\n",
       "      <td>B463</td>\n",
       "      <td>QFA</td>\n",
       "      <td>QF7434</td>\n",
       "      <td>2024-11-25 23:50:00</td>\n",
       "    </tr>\n",
       "  </tbody>\n",
       "</table>\n",
       "<p>947 rows × 6 columns</p>\n",
       "</div>"
      ],
      "text/plain": [
       "    origin destination aircraft airline flightNumber           scheduled\n",
       "0     YSSY        YIVL     B350     AMX        AM266 2024-11-25 00:30:00\n",
       "1     YSSY        OMDB     A388     UAE        EK415 2024-11-25 06:00:00\n",
       "2     YSSY        NFFN     B38M     FJI        FJ914 2024-11-25 06:00:00\n",
       "3     YSSY        YMML     A320     JST        JQ501 2024-11-25 06:00:00\n",
       "4     YSSY        YMAV     A320     JST        JQ603 2024-11-25 06:00:00\n",
       "..     ...         ...      ...     ...          ...                 ...\n",
       "942   YPAD        YSSY      14Z     QFA       QF7484 2024-11-25 23:15:00\n",
       "943   YBCG        YSSY     B463     JTE       NC7434 2024-11-25 23:38:00\n",
       "944   YMML        YSSY     B463     JTE       NC7487 2024-11-25 23:44:00\n",
       "945   YBBN        YSSY     B462     QFA       QF7419 2024-11-25 23:45:00\n",
       "946   YBCG        YSSY     B463     QFA       QF7434 2024-11-25 23:50:00\n",
       "\n",
       "[947 rows x 6 columns]"
      ]
     },
     "execution_count": 3,
     "metadata": {},
     "output_type": "execute_result"
    }
   ],
   "source": [
    "search_airport = 'YSSY'\n",
    "\n",
    "# Get all incoming and outgoing flights today\n",
    "syd = AirportDataRequester.AirportDataRequester(search_airport)\n",
    "df = syd.get_flights_dataframe(today_beginning())\n",
    "df"
   ]
  },
  {
   "cell_type": "code",
   "execution_count": 4,
   "metadata": {},
   "outputs": [
    {
     "data": {
      "text/html": [
       "<div>\n",
       "<style scoped>\n",
       "    .dataframe tbody tr th:only-of-type {\n",
       "        vertical-align: middle;\n",
       "    }\n",
       "\n",
       "    .dataframe tbody tr th {\n",
       "        vertical-align: top;\n",
       "    }\n",
       "\n",
       "    .dataframe thead th {\n",
       "        text-align: right;\n",
       "    }\n",
       "</style>\n",
       "<table border=\"1\" class=\"dataframe\">\n",
       "  <thead>\n",
       "    <tr style=\"text-align: right;\">\n",
       "      <th></th>\n",
       "      <th>origin</th>\n",
       "      <th>destination</th>\n",
       "      <th>aircraft</th>\n",
       "      <th>airline</th>\n",
       "      <th>flightNumber</th>\n",
       "      <th>scheduled</th>\n",
       "      <th>aircraftFamily</th>\n",
       "      <th>mode</th>\n",
       "      <th>timeScheduled</th>\n",
       "    </tr>\n",
       "  </thead>\n",
       "  <tbody>\n",
       "    <tr>\n",
       "      <th>741</th>\n",
       "      <td>YBBN</td>\n",
       "      <td>YSSY</td>\n",
       "      <td>B738</td>\n",
       "      <td>QFA</td>\n",
       "      <td>QF529</td>\n",
       "      <td>2024-11-25 14:50:00</td>\n",
       "      <td>B737</td>\n",
       "      <td>landing</td>\n",
       "      <td>02:50 PM</td>\n",
       "    </tr>\n",
       "    <tr>\n",
       "      <th>103</th>\n",
       "      <td>YSSY</td>\n",
       "      <td>NZQN</td>\n",
       "      <td>A20N</td>\n",
       "      <td>ANZ</td>\n",
       "      <td>NZ232</td>\n",
       "      <td>2024-11-25 09:05:00</td>\n",
       "      <td>A320</td>\n",
       "      <td>takeoff</td>\n",
       "      <td>09:05 AM</td>\n",
       "    </tr>\n",
       "    <tr>\n",
       "      <th>770</th>\n",
       "      <td>YMML</td>\n",
       "      <td>YSSY</td>\n",
       "      <td>B738</td>\n",
       "      <td>QFA</td>\n",
       "      <td>QF6111</td>\n",
       "      <td>2024-11-25 16:15:00</td>\n",
       "      <td>B737</td>\n",
       "      <td>landing</td>\n",
       "      <td>04:15 PM</td>\n",
       "    </tr>\n",
       "    <tr>\n",
       "      <th>20</th>\n",
       "      <td>YSSY</td>\n",
       "      <td>WADD</td>\n",
       "      <td>A21N</td>\n",
       "      <td>JST</td>\n",
       "      <td>JQ39</td>\n",
       "      <td>2024-11-25 06:35:00</td>\n",
       "      <td>A320</td>\n",
       "      <td>takeoff</td>\n",
       "      <td>06:35 AM</td>\n",
       "    </tr>\n",
       "    <tr>\n",
       "      <th>866</th>\n",
       "      <td>PHNL</td>\n",
       "      <td>YSSY</td>\n",
       "      <td>B748</td>\n",
       "      <td>UPS</td>\n",
       "      <td>5X34</td>\n",
       "      <td>2024-11-25 19:22:00</td>\n",
       "      <td>B747</td>\n",
       "      <td>landing</td>\n",
       "      <td>07:22 PM</td>\n",
       "    </tr>\n",
       "  </tbody>\n",
       "</table>\n",
       "</div>"
      ],
      "text/plain": [
       "    origin destination aircraft airline flightNumber           scheduled  \\\n",
       "741   YBBN        YSSY     B738     QFA        QF529 2024-11-25 14:50:00   \n",
       "103   YSSY        NZQN     A20N     ANZ        NZ232 2024-11-25 09:05:00   \n",
       "770   YMML        YSSY     B738     QFA       QF6111 2024-11-25 16:15:00   \n",
       "20    YSSY        WADD     A21N     JST         JQ39 2024-11-25 06:35:00   \n",
       "866   PHNL        YSSY     B748     UPS         5X34 2024-11-25 19:22:00   \n",
       "\n",
       "    aircraftFamily     mode timeScheduled  \n",
       "741           B737  landing      02:50 PM  \n",
       "103           A320  takeoff      09:05 AM  \n",
       "770           B737  landing      04:15 PM  \n",
       "20            A320  takeoff      06:35 AM  \n",
       "866           B747  landing      07:22 PM  "
      ]
     },
     "execution_count": 4,
     "metadata": {},
     "output_type": "execute_result"
    }
   ],
   "source": [
    "# Add column for the aircraft family\n",
    "converter = CodeConverter.CodeConverter()\n",
    "df[\"aircraftFamily\"] = df[\"aircraft\"].apply(converter.get_aircraft_family)\n",
    "\n",
    "# Add column for mode\n",
    "df['mode'] = df['origin'].apply(lambda x: \"takeoff\" if search_airport in x else \"landing\")\n",
    "\n",
    "# Add column for time only\n",
    "df['timeScheduled'] = df['scheduled'].apply(lambda x: x.strftime('%I:%M %p'))\n",
    "\n",
    "# Fill None values with empty string\n",
    "df.fillna(\"n/a\", inplace=True)\n",
    "\n",
    "df.sample(5)"
   ]
  },
  {
   "cell_type": "code",
   "execution_count": 5,
   "metadata": {},
   "outputs": [
    {
     "data": {
      "application/vnd.plotly.v1+json": {
       "config": {
        "plotlyServerURL": "https://plot.ly"
       },
       "data": [
        {
         "text": [
          356,
          143,
          111,
          85,
          57,
          40,
          29,
          28,
          20,
          14,
          9
         ],
         "textposition": "auto",
         "type": "bar",
         "x": [
          "B737",
          "A320",
          "DHC8",
          "S340",
          "A330",
          "B787",
          "B777",
          "A350",
          "A380",
          "BA146",
          "B747"
         ],
         "y": [
          356,
          143,
          111,
          85,
          57,
          40,
          29,
          28,
          20,
          14,
          9
         ]
        }
       ],
       "layout": {
        "height": 500,
        "template": {
         "data": {
          "bar": [
           {
            "error_x": {
             "color": "#2a3f5f"
            },
            "error_y": {
             "color": "#2a3f5f"
            },
            "marker": {
             "line": {
              "color": "white",
              "width": 0.5
             },
             "pattern": {
              "fillmode": "overlay",
              "size": 10,
              "solidity": 0.2
             }
            },
            "type": "bar"
           }
          ],
          "barpolar": [
           {
            "marker": {
             "line": {
              "color": "white",
              "width": 0.5
             },
             "pattern": {
              "fillmode": "overlay",
              "size": 10,
              "solidity": 0.2
             }
            },
            "type": "barpolar"
           }
          ],
          "carpet": [
           {
            "aaxis": {
             "endlinecolor": "#2a3f5f",
             "gridcolor": "#C8D4E3",
             "linecolor": "#C8D4E3",
             "minorgridcolor": "#C8D4E3",
             "startlinecolor": "#2a3f5f"
            },
            "baxis": {
             "endlinecolor": "#2a3f5f",
             "gridcolor": "#C8D4E3",
             "linecolor": "#C8D4E3",
             "minorgridcolor": "#C8D4E3",
             "startlinecolor": "#2a3f5f"
            },
            "type": "carpet"
           }
          ],
          "choropleth": [
           {
            "colorbar": {
             "outlinewidth": 0,
             "ticks": ""
            },
            "type": "choropleth"
           }
          ],
          "contour": [
           {
            "colorbar": {
             "outlinewidth": 0,
             "ticks": ""
            },
            "colorscale": [
             [
              0,
              "#0d0887"
             ],
             [
              0.1111111111111111,
              "#46039f"
             ],
             [
              0.2222222222222222,
              "#7201a8"
             ],
             [
              0.3333333333333333,
              "#9c179e"
             ],
             [
              0.4444444444444444,
              "#bd3786"
             ],
             [
              0.5555555555555556,
              "#d8576b"
             ],
             [
              0.6666666666666666,
              "#ed7953"
             ],
             [
              0.7777777777777778,
              "#fb9f3a"
             ],
             [
              0.8888888888888888,
              "#fdca26"
             ],
             [
              1,
              "#f0f921"
             ]
            ],
            "type": "contour"
           }
          ],
          "contourcarpet": [
           {
            "colorbar": {
             "outlinewidth": 0,
             "ticks": ""
            },
            "type": "contourcarpet"
           }
          ],
          "heatmap": [
           {
            "colorbar": {
             "outlinewidth": 0,
             "ticks": ""
            },
            "colorscale": [
             [
              0,
              "#0d0887"
             ],
             [
              0.1111111111111111,
              "#46039f"
             ],
             [
              0.2222222222222222,
              "#7201a8"
             ],
             [
              0.3333333333333333,
              "#9c179e"
             ],
             [
              0.4444444444444444,
              "#bd3786"
             ],
             [
              0.5555555555555556,
              "#d8576b"
             ],
             [
              0.6666666666666666,
              "#ed7953"
             ],
             [
              0.7777777777777778,
              "#fb9f3a"
             ],
             [
              0.8888888888888888,
              "#fdca26"
             ],
             [
              1,
              "#f0f921"
             ]
            ],
            "type": "heatmap"
           }
          ],
          "heatmapgl": [
           {
            "colorbar": {
             "outlinewidth": 0,
             "ticks": ""
            },
            "colorscale": [
             [
              0,
              "#0d0887"
             ],
             [
              0.1111111111111111,
              "#46039f"
             ],
             [
              0.2222222222222222,
              "#7201a8"
             ],
             [
              0.3333333333333333,
              "#9c179e"
             ],
             [
              0.4444444444444444,
              "#bd3786"
             ],
             [
              0.5555555555555556,
              "#d8576b"
             ],
             [
              0.6666666666666666,
              "#ed7953"
             ],
             [
              0.7777777777777778,
              "#fb9f3a"
             ],
             [
              0.8888888888888888,
              "#fdca26"
             ],
             [
              1,
              "#f0f921"
             ]
            ],
            "type": "heatmapgl"
           }
          ],
          "histogram": [
           {
            "marker": {
             "pattern": {
              "fillmode": "overlay",
              "size": 10,
              "solidity": 0.2
             }
            },
            "type": "histogram"
           }
          ],
          "histogram2d": [
           {
            "colorbar": {
             "outlinewidth": 0,
             "ticks": ""
            },
            "colorscale": [
             [
              0,
              "#0d0887"
             ],
             [
              0.1111111111111111,
              "#46039f"
             ],
             [
              0.2222222222222222,
              "#7201a8"
             ],
             [
              0.3333333333333333,
              "#9c179e"
             ],
             [
              0.4444444444444444,
              "#bd3786"
             ],
             [
              0.5555555555555556,
              "#d8576b"
             ],
             [
              0.6666666666666666,
              "#ed7953"
             ],
             [
              0.7777777777777778,
              "#fb9f3a"
             ],
             [
              0.8888888888888888,
              "#fdca26"
             ],
             [
              1,
              "#f0f921"
             ]
            ],
            "type": "histogram2d"
           }
          ],
          "histogram2dcontour": [
           {
            "colorbar": {
             "outlinewidth": 0,
             "ticks": ""
            },
            "colorscale": [
             [
              0,
              "#0d0887"
             ],
             [
              0.1111111111111111,
              "#46039f"
             ],
             [
              0.2222222222222222,
              "#7201a8"
             ],
             [
              0.3333333333333333,
              "#9c179e"
             ],
             [
              0.4444444444444444,
              "#bd3786"
             ],
             [
              0.5555555555555556,
              "#d8576b"
             ],
             [
              0.6666666666666666,
              "#ed7953"
             ],
             [
              0.7777777777777778,
              "#fb9f3a"
             ],
             [
              0.8888888888888888,
              "#fdca26"
             ],
             [
              1,
              "#f0f921"
             ]
            ],
            "type": "histogram2dcontour"
           }
          ],
          "mesh3d": [
           {
            "colorbar": {
             "outlinewidth": 0,
             "ticks": ""
            },
            "type": "mesh3d"
           }
          ],
          "parcoords": [
           {
            "line": {
             "colorbar": {
              "outlinewidth": 0,
              "ticks": ""
             }
            },
            "type": "parcoords"
           }
          ],
          "pie": [
           {
            "automargin": true,
            "type": "pie"
           }
          ],
          "scatter": [
           {
            "fillpattern": {
             "fillmode": "overlay",
             "size": 10,
             "solidity": 0.2
            },
            "type": "scatter"
           }
          ],
          "scatter3d": [
           {
            "line": {
             "colorbar": {
              "outlinewidth": 0,
              "ticks": ""
             }
            },
            "marker": {
             "colorbar": {
              "outlinewidth": 0,
              "ticks": ""
             }
            },
            "type": "scatter3d"
           }
          ],
          "scattercarpet": [
           {
            "marker": {
             "colorbar": {
              "outlinewidth": 0,
              "ticks": ""
             }
            },
            "type": "scattercarpet"
           }
          ],
          "scattergeo": [
           {
            "marker": {
             "colorbar": {
              "outlinewidth": 0,
              "ticks": ""
             }
            },
            "type": "scattergeo"
           }
          ],
          "scattergl": [
           {
            "marker": {
             "colorbar": {
              "outlinewidth": 0,
              "ticks": ""
             }
            },
            "type": "scattergl"
           }
          ],
          "scattermapbox": [
           {
            "marker": {
             "colorbar": {
              "outlinewidth": 0,
              "ticks": ""
             }
            },
            "type": "scattermapbox"
           }
          ],
          "scatterpolar": [
           {
            "marker": {
             "colorbar": {
              "outlinewidth": 0,
              "ticks": ""
             }
            },
            "type": "scatterpolar"
           }
          ],
          "scatterpolargl": [
           {
            "marker": {
             "colorbar": {
              "outlinewidth": 0,
              "ticks": ""
             }
            },
            "type": "scatterpolargl"
           }
          ],
          "scatterternary": [
           {
            "marker": {
             "colorbar": {
              "outlinewidth": 0,
              "ticks": ""
             }
            },
            "type": "scatterternary"
           }
          ],
          "surface": [
           {
            "colorbar": {
             "outlinewidth": 0,
             "ticks": ""
            },
            "colorscale": [
             [
              0,
              "#0d0887"
             ],
             [
              0.1111111111111111,
              "#46039f"
             ],
             [
              0.2222222222222222,
              "#7201a8"
             ],
             [
              0.3333333333333333,
              "#9c179e"
             ],
             [
              0.4444444444444444,
              "#bd3786"
             ],
             [
              0.5555555555555556,
              "#d8576b"
             ],
             [
              0.6666666666666666,
              "#ed7953"
             ],
             [
              0.7777777777777778,
              "#fb9f3a"
             ],
             [
              0.8888888888888888,
              "#fdca26"
             ],
             [
              1,
              "#f0f921"
             ]
            ],
            "type": "surface"
           }
          ],
          "table": [
           {
            "cells": {
             "fill": {
              "color": "#EBF0F8"
             },
             "line": {
              "color": "white"
             }
            },
            "header": {
             "fill": {
              "color": "#C8D4E3"
             },
             "line": {
              "color": "white"
             }
            },
            "type": "table"
           }
          ]
         },
         "layout": {
          "annotationdefaults": {
           "arrowcolor": "#2a3f5f",
           "arrowhead": 0,
           "arrowwidth": 1
          },
          "autotypenumbers": "strict",
          "coloraxis": {
           "colorbar": {
            "outlinewidth": 0,
            "ticks": ""
           }
          },
          "colorscale": {
           "diverging": [
            [
             0,
             "#8e0152"
            ],
            [
             0.1,
             "#c51b7d"
            ],
            [
             0.2,
             "#de77ae"
            ],
            [
             0.3,
             "#f1b6da"
            ],
            [
             0.4,
             "#fde0ef"
            ],
            [
             0.5,
             "#f7f7f7"
            ],
            [
             0.6,
             "#e6f5d0"
            ],
            [
             0.7,
             "#b8e186"
            ],
            [
             0.8,
             "#7fbc41"
            ],
            [
             0.9,
             "#4d9221"
            ],
            [
             1,
             "#276419"
            ]
           ],
           "sequential": [
            [
             0,
             "#0d0887"
            ],
            [
             0.1111111111111111,
             "#46039f"
            ],
            [
             0.2222222222222222,
             "#7201a8"
            ],
            [
             0.3333333333333333,
             "#9c179e"
            ],
            [
             0.4444444444444444,
             "#bd3786"
            ],
            [
             0.5555555555555556,
             "#d8576b"
            ],
            [
             0.6666666666666666,
             "#ed7953"
            ],
            [
             0.7777777777777778,
             "#fb9f3a"
            ],
            [
             0.8888888888888888,
             "#fdca26"
            ],
            [
             1,
             "#f0f921"
            ]
           ],
           "sequentialminus": [
            [
             0,
             "#0d0887"
            ],
            [
             0.1111111111111111,
             "#46039f"
            ],
            [
             0.2222222222222222,
             "#7201a8"
            ],
            [
             0.3333333333333333,
             "#9c179e"
            ],
            [
             0.4444444444444444,
             "#bd3786"
            ],
            [
             0.5555555555555556,
             "#d8576b"
            ],
            [
             0.6666666666666666,
             "#ed7953"
            ],
            [
             0.7777777777777778,
             "#fb9f3a"
            ],
            [
             0.8888888888888888,
             "#fdca26"
            ],
            [
             1,
             "#f0f921"
            ]
           ]
          },
          "colorway": [
           "#636efa",
           "#EF553B",
           "#00cc96",
           "#ab63fa",
           "#FFA15A",
           "#19d3f3",
           "#FF6692",
           "#B6E880",
           "#FF97FF",
           "#FECB52"
          ],
          "font": {
           "color": "#2a3f5f"
          },
          "geo": {
           "bgcolor": "white",
           "lakecolor": "white",
           "landcolor": "white",
           "showlakes": true,
           "showland": true,
           "subunitcolor": "#C8D4E3"
          },
          "hoverlabel": {
           "align": "left"
          },
          "hovermode": "closest",
          "mapbox": {
           "style": "light"
          },
          "paper_bgcolor": "white",
          "plot_bgcolor": "white",
          "polar": {
           "angularaxis": {
            "gridcolor": "#EBF0F8",
            "linecolor": "#EBF0F8",
            "ticks": ""
           },
           "bgcolor": "white",
           "radialaxis": {
            "gridcolor": "#EBF0F8",
            "linecolor": "#EBF0F8",
            "ticks": ""
           }
          },
          "scene": {
           "xaxis": {
            "backgroundcolor": "white",
            "gridcolor": "#DFE8F3",
            "gridwidth": 2,
            "linecolor": "#EBF0F8",
            "showbackground": true,
            "ticks": "",
            "zerolinecolor": "#EBF0F8"
           },
           "yaxis": {
            "backgroundcolor": "white",
            "gridcolor": "#DFE8F3",
            "gridwidth": 2,
            "linecolor": "#EBF0F8",
            "showbackground": true,
            "ticks": "",
            "zerolinecolor": "#EBF0F8"
           },
           "zaxis": {
            "backgroundcolor": "white",
            "gridcolor": "#DFE8F3",
            "gridwidth": 2,
            "linecolor": "#EBF0F8",
            "showbackground": true,
            "ticks": "",
            "zerolinecolor": "#EBF0F8"
           }
          },
          "shapedefaults": {
           "line": {
            "color": "#2a3f5f"
           }
          },
          "ternary": {
           "aaxis": {
            "gridcolor": "#DFE8F3",
            "linecolor": "#A2B1C6",
            "ticks": ""
           },
           "baxis": {
            "gridcolor": "#DFE8F3",
            "linecolor": "#A2B1C6",
            "ticks": ""
           },
           "bgcolor": "white",
           "caxis": {
            "gridcolor": "#DFE8F3",
            "linecolor": "#A2B1C6",
            "ticks": ""
           }
          },
          "title": {
           "x": 0.05
          },
          "xaxis": {
           "automargin": true,
           "gridcolor": "#EBF0F8",
           "linecolor": "#EBF0F8",
           "ticks": "",
           "title": {
            "standoff": 15
           },
           "zerolinecolor": "#EBF0F8",
           "zerolinewidth": 2
          },
          "yaxis": {
           "automargin": true,
           "gridcolor": "#EBF0F8",
           "linecolor": "#EBF0F8",
           "ticks": "",
           "title": {
            "standoff": 15
           },
           "zerolinecolor": "#EBF0F8",
           "zerolinewidth": 2
          }
         }
        },
        "title": {
         "text": "Top 11 Aircraft Families Appearing Today at YSSY"
        },
        "width": 1000,
        "xaxis": {
         "title": {
          "text": "Aircraft Family"
         }
        },
        "yaxis": {
         "title": {
          "text": "Count"
         }
        }
       }
      }
     },
     "metadata": {},
     "output_type": "display_data"
    }
   ],
   "source": [
    "# Plot aircraft families apperances\n",
    "top_aircraft = df[df['aircraftFamily'] != 'Unknown'].value_counts('aircraftFamily')[:20]\n",
    "\n",
    "fig = go.Figure(data=[\n",
    "    go.Bar(x=top_aircraft.index, y=top_aircraft.values, text=top_aircraft.values, textposition='auto')\n",
    "])\n",
    "\n",
    "count = len(top_aircraft) if len(top_aircraft) < 20 else 20\n",
    "\n",
    "fig.update_layout(\n",
    "    title=f\"Top {count} Aircraft Families Appearing Today at {search_airport}\",\n",
    "    xaxis_title=\"Aircraft Family\",\n",
    "    yaxis_title=\"Count\",\n",
    "    template=\"plotly_white\",\n",
    "    width=1000,\n",
    "    height=500\n",
    ")\n",
    "fig.show()"
   ]
  },
  {
   "cell_type": "code",
   "execution_count": 6,
   "metadata": {},
   "outputs": [],
   "source": [
    "def plot_activity_by_aircraft_family(df):\n",
    "    \"\"\"\n",
    "    df must be a pandas dataframe containing columns\n",
    "    * 'scheduled'\n",
    "    * 'aircraftFamily'\n",
    "    * 'mode'\n",
    "    * 'flightNumber'\n",
    "    * 'timeScheduled'\n",
    "    * 'origin'\n",
    "    * 'destination'\n",
    "    * 'aircraft'\n",
    "    \"\"\"\n",
    "\n",
    "    symbol_map = {\n",
    "        \"takeoff\": \"triangle-up\",\n",
    "        \"landing\": \"triangle-down\"\n",
    "    }\n",
    "\n",
    "    fig = px.scatter(\n",
    "        df,\n",
    "        x=\"scheduled\",\n",
    "        y=\"aircraftFamily\",\n",
    "        color=\"aircraftFamily\",\n",
    "        symbol=\"mode\",\n",
    "        symbol_map=symbol_map,\n",
    "        hover_name=\"flightNumber\",\n",
    "        title=\"Flight Schedule by Aircraft Family\",\n",
    "        labels={\"scheduled\": \"Scheduled Time\", \"aircraftFamily\": \"Aircraft Family\"},\n",
    "        category_orders={\"aircraftFamily\": df[\"aircraftFamily\"].value_counts().index},\n",
    "        custom_data=[\"flightNumber\", \"timeScheduled\", \"origin\", \"destination\", \"aircraft\"]\n",
    "    )\n",
    "\n",
    "    fig.update_traces(\n",
    "        hovertemplate =\n",
    "                    \"Number: <b>%{customdata[0]}</b><br>\" +\n",
    "                    \"Time: <b>%{customdata[1]}</b><br><br>\" +\n",
    "                    \"Origin: %{customdata[2]}<br>\" +\n",
    "                    \"Destination: %{customdata[3]}\" +\n",
    "                    \"<extra></extra>\",\n",
    "        mode='markers',\n",
    "        marker={'sizemode':'area', 'sizeref':10},\n",
    "        marker_size=10\n",
    "    )\n",
    "\n",
    "\n",
    "    fig.update_layout(\n",
    "        height=600,\n",
    "        xaxis_title=\"Scheduled Time\",\n",
    "        yaxis_title=\"Aircraft Family\",\n",
    "        template=\"plotly_white\",\n",
    "        showlegend=False,\n",
    "        hoverlabel_align = 'right',\n",
    "    )\n",
    "\n",
    "    fig.show()"
   ]
  },
  {
   "cell_type": "code",
   "execution_count": 7,
   "metadata": {},
   "outputs": [
    {
     "data": {
      "application/vnd.plotly.v1+json": {
       "config": {
        "plotlyServerURL": "https://plot.ly"
       },
       "data": [
        {
         "customdata": [
          [
           "FJ914",
           "06:00 AM",
           "YSSY",
           "NFFN",
           "B38M"
          ],
          [
           "QF401",
           "06:00 AM",
           "YSSY",
           "YMML",
           "B738"
          ],
          [
           "VA800",
           "06:00 AM",
           "YSSY",
           "YMML",
           "B738"
          ],
          [
           "VA901",
           "06:00 AM",
           "YSSY",
           "YBBN",
           "B738"
          ],
          [
           "FJ931",
           "06:00 AM",
           "YSSY",
           "YMML",
           "B38M"
          ],
          [
           "QF500",
           "06:05 AM",
           "YSSY",
           "YBBN",
           "B738"
          ],
          [
           "VA549",
           "06:15 AM",
           "YSSY",
           "YPPH",
           "B738"
          ],
          [
           "QF641",
           "06:25 AM",
           "YSSY",
           "YPPH",
           "B738"
          ],
          [
           "VA804",
           "06:30 AM",
           "YSSY",
           "YMML",
           "B738"
          ],
          [
           "QF731",
           "06:40 AM",
           "YSSY",
           "YPAD",
           "73H"
          ],
          [
           "VA806",
           "06:45 AM",
           "YSSY",
           "YMML",
           "B738"
          ],
          [
           "QF409",
           "07:00 AM",
           "YSSY",
           "YMML",
           "B738"
          ],
          [
           "VA808",
           "07:00 AM",
           "YSSY",
           "YMML",
           "B738"
          ],
          [
           "VA909",
           "07:00 AM",
           "YSSY",
           "YBBN",
           "B737"
          ],
          [
           "QF141",
           "07:05 AM",
           "YSSY",
           "NZAA",
           "B738"
          ],
          [
           "QF504",
           "07:05 AM",
           "YSSY",
           "YBBN",
           "B738"
          ],
          [
           "QF413",
           "07:10 AM",
           "YSSY",
           "YMML",
           "B738"
          ],
          [
           "VA1528",
           "07:10 AM",
           "YSSY",
           "YMHB",
           "B738"
          ],
          [
           "OD172",
           "07:15 AM",
           "YSSY",
           "WADD",
           "B38M"
          ],
          [
           "VA404",
           "07:15 AM",
           "YSSY",
           "YPAD",
           "B738"
          ],
          [
           "VA551",
           "07:15 AM",
           "YSSY",
           "YPPH",
           "B738"
          ],
          [
           "VA810",
           "07:15 AM",
           "YSSY",
           "YMML",
           "B38M"
          ],
          [
           "VA505",
           "07:20 AM",
           "YSSY",
           "YBCG",
           "B738"
          ],
          [
           "QF415",
           "07:30 AM",
           "YSSY",
           "YMML",
           "B738"
          ],
          [
           "QF506",
           "07:30 AM",
           "YSSY",
           "YBBN",
           "B738"
          ],
          [
           "VA812",
           "07:30 AM",
           "YSSY",
           "YMML",
           "B738"
          ],
          [
           "VA913",
           "07:30 AM",
           "YSSY",
           "YBBN",
           "B738"
          ],
          [
           "VA814",
           "07:45 AM",
           "YSSY",
           "YMML",
           "B738"
          ],
          [
           "QF417",
           "07:50 AM",
           "YSSY",
           "YMML",
           "B738"
          ],
          [
           "QF419",
           "08:00 AM",
           "YSSY",
           "YMML",
           "B738"
          ],
          [
           "VA816",
           "08:00 AM",
           "YSSY",
           "YMML",
           "B38M"
          ],
          [
           "VA917",
           "08:00 AM",
           "YSSY",
           "YBBN",
           "B738"
          ],
          [
           "QF508",
           "08:05 AM",
           "YSSY",
           "YBBN",
           "B738"
          ],
          [
           "VA477",
           "08:10 AM",
           "YSSY",
           "YBSU",
           "B738"
          ],
          [
           "VA1409",
           "08:10 AM",
           "YSSY",
           "YBCS",
           "B738"
          ],
          [
           "VA818",
           "08:15 AM",
           "YSSY",
           "YMML",
           "B738"
          ],
          [
           "QF840",
           "08:20 AM",
           "YSSY",
           "YPDN",
           "B738"
          ],
          [
           "VA509",
           "08:20 AM",
           "YSSY",
           "YBCG",
           "B738"
          ],
          [
           "VA181",
           "08:30 AM",
           "YSSY",
           "NFFN",
           "B38M"
          ],
          [
           "VA820",
           "08:30 AM",
           "YSSY",
           "YMML",
           "B738"
          ],
          [
           "VA921",
           "08:30 AM",
           "YSSY",
           "YBBN",
           "B738"
          ],
          [
           "QF423",
           "08:30 AM",
           "YSSY",
           "YMML",
           "B738"
          ],
          [
           "QF101",
           "08:40 AM",
           "YSSY",
           "NFFN",
           "B738"
          ],
          [
           "QF143",
           "08:55 AM",
           "YSSY",
           "NZAA",
           "B738"
          ],
          [
           "QF427",
           "09:00 AM",
           "YSSY",
           "YMML",
           "B738"
          ],
          [
           "VA824",
           "09:00 AM",
           "YSSY",
           "YMML",
           "B738"
          ],
          [
           "VA925",
           "09:00 AM",
           "YSSY",
           "YBBN",
           "B738"
          ],
          [
           "QF790",
           "09:15 AM",
           "YSSY",
           "YBAS",
           "B738"
          ],
          [
           "VA161",
           "09:15 AM",
           "YSSY",
           "NZQN",
           "B738"
          ],
          [
           "VA412",
           "09:15 AM",
           "YSSY",
           "YPAD",
           "B738"
          ],
          [
           "VA555",
           "09:15 AM",
           "YSSY",
           "YPPH",
           "B738"
          ],
          [
           "VA511",
           "09:20 AM",
           "YSSY",
           "YBCG",
           "B738"
          ],
          [
           "QF733",
           "09:25 AM",
           "YSSY",
           "YPAD",
           "B738"
          ],
          [
           "QF431",
           "09:30 AM",
           "YSSY",
           "YMML",
           "B738"
          ],
          [
           "QF510",
           "09:30 AM",
           "YSSY",
           "YBBN",
           "B738"
          ],
          [
           "QF728",
           "09:30 AM",
           "YSSY",
           "YAYE",
           "B738"
          ],
          [
           "VA826",
           "09:30 AM",
           "YSSY",
           "YMML",
           "B738"
          ],
          [
           "QF121",
           "09:35 AM",
           "YSSY",
           "NZQN",
           "B738"
          ],
          [
           "QF161",
           "09:40 AM",
           "YSSY",
           "NZWN",
           "B738"
          ],
          [
           "QF578",
           "09:40 AM",
           "YSSY",
           "YBHM",
           "B738"
          ],
          [
           "QF592",
           "09:45 AM",
           "YSSY",
           "YBCG",
           "B738"
          ],
          [
           "QF922",
           "09:45 AM",
           "YSSY",
           "YBCS",
           "B738"
          ],
          [
           "QF902",
           "09:55 AM",
           "YSSY",
           "YBSU",
           "B738"
          ],
          [
           "QF433",
           "10:00 AM",
           "YSSY",
           "YMML",
           "B738"
          ],
          [
           "VA830",
           "10:00 AM",
           "YSSY",
           "YMML",
           "B738"
          ],
          [
           "VA931",
           "10:00 AM",
           "YSSY",
           "YBBN",
           "B738"
          ],
          [
           "VA1530",
           "10:00 AM",
           "YSSY",
           "YMHB",
           "B738"
          ],
          [
           "QF512",
           "10:05 AM",
           "YSSY",
           "YBBN",
           "B738"
          ],
          [
           "QF137",
           "10:20 AM",
           "YSSY",
           "NZCH",
           "B738"
          ],
          [
           "VA515",
           "10:20 AM",
           "YSSY",
           "YBCG",
           "B738"
          ],
          [
           "QF435",
           "10:30 AM",
           "YSSY",
           "YMML",
           "B738"
          ],
          [
           "VA832",
           "10:30 AM",
           "YSSY",
           "YMML",
           "B738"
          ],
          [
           "VA933",
           "10:30 AM",
           "YSSY",
           "YBBN",
           "B738"
          ],
          [
           "QF645",
           "10:35 AM",
           "YSSY",
           "YPPH",
           "B738"
          ],
          [
           "QF735",
           "10:40 AM",
           "YSSY",
           "YPAD",
           "B738"
          ],
          [
           "VA1139",
           "10:50 AM",
           "YSSY",
           "YBNA",
           "B737"
          ],
          [
           "QF437",
           "11:00 AM",
           "YSSY",
           "YMML",
           "B738"
          ],
          [
           "VA834",
           "11:00 AM",
           "YSSY",
           "YMML",
           "B738"
          ],
          [
           "VA935",
           "11:00 AM",
           "YSSY",
           "YBBN",
           "B738"
          ],
          [
           "QF516",
           "11:05 AM",
           "YSSY",
           "YBBN",
           "B738"
          ],
          [
           "QF439",
           "11:25 AM",
           "YSSY",
           "YMML",
           "B738"
          ],
          [
           "VA836",
           "11:30 AM",
           "YSSY",
           "YMML",
           "B738"
          ],
          [
           "QF441",
           "12:00 PM",
           "YSSY",
           "YMML",
           "B738"
          ],
          [
           "VA838",
           "12:00 PM",
           "YSSY",
           "YMML",
           "B738"
          ],
          [
           "PX2",
           "12:15 PM",
           "YSSY",
           "AYPY",
           "B738"
          ],
          [
           "QF520",
           "12:15 PM",
           "YSSY",
           "YBBN",
           "B738"
          ],
          [
           "VA418",
           "12:15 PM",
           "YSSY",
           "YPAD",
           "B737"
          ],
          [
           "VA519",
           "12:20 PM",
           "YSSY",
           "YBCG",
           "B738"
          ],
          [
           "VA557",
           "12:25 PM",
           "YSSY",
           "YPPH",
           "B738"
          ],
          [
           "QF649",
           "12:35 PM",
           "YSSY",
           "YPPH",
           "B738"
          ],
          [
           "QF737",
           "12:35 PM",
           "YSSY",
           "YPAD",
           "B738"
          ],
          [
           "VA1283",
           "12:40 PM",
           "YSSY",
           "YBHM",
           "B738"
          ],
          [
           "QF145",
           "12:40 PM",
           "YSSY",
           "NZAA",
           "B738"
          ],
          [
           "VA1419",
           "12:50 PM",
           "YSSY",
           "YBCS",
           "B738"
          ],
          [
           "QF445",
           "01:00 PM",
           "YSSY",
           "YMML",
           "B738"
          ],
          [
           "VA842",
           "01:00 PM",
           "YSSY",
           "YMML",
           "B738"
          ],
          [
           "VA943",
           "01:00 PM",
           "YSSY",
           "YBBN",
           "B738"
          ],
          [
           "QF524",
           "01:05 PM",
           "YSSY",
           "YBBN",
           "B738"
          ],
          [
           "VA523",
           "01:20 PM",
           "YSSY",
           "YBCG",
           "B738"
          ],
          [
           "VA1090",
           "01:20 PM",
           "YSSY",
           "YMLT",
           "B738"
          ],
          [
           "VA559",
           "01:25 PM",
           "YSSY",
           "YPPH",
           "B738"
          ],
          [
           "QF594",
           "01:30 PM",
           "YSSY",
           "YBCG",
           "B738"
          ],
          [
           "VA525",
           "01:50 PM",
           "YSSY",
           "YBCG",
           "B738"
          ],
          [
           "QF449",
           "02:00 PM",
           "YSSY",
           "YMML",
           "B738"
          ],
          [
           "QF526",
           "02:00 PM",
           "YSSY",
           "YBBN",
           "B738"
          ],
          [
           "VA846",
           "02:00 PM",
           "YSSY",
           "YMML",
           "B738"
          ],
          [
           "VA1141",
           "02:25 PM",
           "YSSY",
           "YBNA",
           "B738"
          ],
          [
           "QF451",
           "02:30 PM",
           "YSSY",
           "YMML",
           "B738"
          ],
          [
           "VA1421",
           "02:40 PM",
           "YSSY",
           "YBCS",
           "B738"
          ],
          [
           "QF453",
           "02:45 PM",
           "YSSY",
           "YMML",
           "73H"
          ],
          [
           "QF455",
           "03:00 PM",
           "YSSY",
           "YMML",
           "B738"
          ],
          [
           "VA850",
           "03:00 PM",
           "YSSY",
           "YMML",
           "B738"
          ],
          [
           "VA951",
           "03:00 PM",
           "YSSY",
           "YBBN",
           "B737"
          ],
          [
           "VA487",
           "03:05 PM",
           "YSSY",
           "YBSU",
           "B738"
          ],
          [
           "QF651",
           "03:20 PM",
           "YSSY",
           "YPPH",
           "B738"
          ],
          [
           "QF459",
           "03:30 PM",
           "YSSY",
           "YMML",
           "B738"
          ],
          [
           "QF463",
           "04:00 PM",
           "YSSY",
           "YMML",
           "B738"
          ],
          [
           "QF739",
           "04:00 PM",
           "YSSY",
           "YPAD",
           "B738"
          ],
          [
           "VA957",
           "04:00 PM",
           "YSSY",
           "YBBN",
           "B738"
          ],
          [
           "VA858",
           "04:00 PM",
           "YSSY",
           "YMML",
           "B738"
          ],
          [
           "QF123",
           "04:05 PM",
           "YSSY",
           "NZQN",
           "B738"
          ],
          [
           "QF532",
           "04:05 PM",
           "YSSY",
           "YBBN",
           "B738"
          ],
          [
           "QF803",
           "04:05 PM",
           "YSSY",
           "YSCB",
           "B738"
          ],
          [
           "QF467",
           "04:15 PM",
           "YSSY",
           "YMML",
           "B738"
          ],
          [
           "VA533",
           "04:20 PM",
           "YSSY",
           "YBCG",
           "B738"
          ],
          [
           "VA428",
           "04:30 PM",
           "YSSY",
           "YPAD",
           "B738"
          ],
          [
           "VA862",
           "04:30 PM",
           "YSSY",
           "YMML",
           "B738"
          ],
          [
           "QF534",
           "04:45 PM",
           "YSSY",
           "YBBN",
           "B738"
          ],
          [
           "QF471",
           "05:00 PM",
           "YSSY",
           "YMML",
           "B738"
          ],
          [
           "VA866",
           "05:00 PM",
           "YSSY",
           "YMML",
           "B738"
          ],
          [
           "VA965",
           "05:00 PM",
           "YSSY",
           "YBBN",
           "B738"
          ],
          [
           "QF473",
           "05:15 PM",
           "YSSY",
           "YMML",
           "B738"
          ],
          [
           "QF540",
           "05:20 PM",
           "YSSY",
           "YBBN",
           "B738"
          ],
          [
           "VA537",
           "05:20 PM",
           "YSSY",
           "YBCG",
           "B738"
          ],
          [
           "QF475",
           "05:30 PM",
           "YSSY",
           "YMML",
           "B738"
          ],
          [
           "VA434",
           "05:30 PM",
           "YSSY",
           "YPAD",
           "B738"
          ],
          [
           "VA870",
           "05:30 PM",
           "YSSY",
           "YMML",
           "B738"
          ],
          [
           "QF542",
           "05:35 PM",
           "YSSY",
           "YBBN",
           "B738"
          ],
          [
           "QF743",
           "05:45 PM",
           "YSSY",
           "YPAD",
           "B738"
          ],
          [
           "VA65",
           "05:45 PM",
           "YSSY",
           "WADD",
           "B738"
          ],
          [
           "QF147",
           "05:50 PM",
           "YSSY",
           "NZAA",
           "B738"
          ],
          [
           "VA1536",
           "05:50 PM",
           "YSSY",
           "YMHB",
           "B737"
          ],
          [
           "QF479",
           "06:00 PM",
           "YSSY",
           "YMML",
           "B738"
          ],
          [
           "VA874",
           "06:00 PM",
           "YSSY",
           "YMML",
           "B738"
          ],
          [
           "VA973",
           "06:00 PM",
           "YSSY",
           "YBBN",
           "B738"
          ],
          [
           "QF544",
           "06:10 PM",
           "YSSY",
           "YBBN",
           "B738"
          ],
          [
           "VA567",
           "06:15 PM",
           "YSSY",
           "YPPH",
           "B738"
          ],
          [
           "VA876",
           "06:15 PM",
           "YSSY",
           "YMML",
           "B738"
          ],
          [
           "VA541",
           "06:20 PM",
           "YSSY",
           "YBCG",
           "B738"
          ],
          [
           "QF483",
           "06:30 PM",
           "YSSY",
           "YMML",
           "B738"
          ],
          [
           "VA878",
           "06:30 PM",
           "YSSY",
           "YMML",
           "73H"
          ],
          [
           "QF653",
           "06:35 PM",
           "YSSY",
           "YPPH",
           "B738"
          ],
          [
           "QF163",
           "06:40 PM",
           "YSSY",
           "NZWN",
           "B738"
          ],
          [
           "QF546",
           "06:40 PM",
           "YSSY",
           "YBBN",
           "B738"
          ],
          [
           "QF485",
           "06:45 PM",
           "YSSY",
           "YMML",
           "B738"
          ],
          [
           "QF139",
           "06:50 PM",
           "YSSY",
           "NZCH",
           "B738"
          ],
          [
           "QF745",
           "06:55 PM",
           "YSSY",
           "YPAD",
           "B738"
          ],
          [
           "VA882",
           "07:00 PM",
           "YSSY",
           "YMML",
           "B738"
          ],
          [
           "VA981",
           "07:00 PM",
           "YSSY",
           "YBBN",
           "B738"
          ],
          [
           "QF149",
           "07:15 PM",
           "YSSY",
           "NZAA",
           "B738"
          ],
          [
           "QF596",
           "07:20 PM",
           "YSSY",
           "YBCG",
           "B738"
          ],
          [
           "QF491",
           "07:30 PM",
           "YSSY",
           "YMML",
           "B738"
          ],
          [
           "VA442",
           "07:30 PM",
           "YSSY",
           "YPAD",
           "B738"
          ],
          [
           "QF904",
           "07:40 PM",
           "YSSY",
           "YBSU",
           "B738"
          ],
          [
           "VA888",
           "08:00 PM",
           "YSSY",
           "YMML",
           "B738"
          ],
          [
           "QF552",
           "08:05 PM",
           "YSSY",
           "YBBN",
           "B738"
          ],
          [
           "VA569",
           "08:15 PM",
           "YSSY",
           "YPPH",
           "B738"
          ],
          [
           "VA545",
           "08:20 PM",
           "YSSY",
           "YBCG",
           "B738"
          ],
          [
           "QF749",
           "08:55 PM",
           "YSSY",
           "YPAD",
           "73H"
          ],
          [
           "VA898",
           "09:30 PM",
           "YSSY",
           "YMML",
           "B738"
          ],
          [
           "VA999",
           "09:30 PM",
           "YSSY",
           "YBBN",
           "B738"
          ],
          [
           "TFX402",
           "09:30 PM",
           "YSSY",
           "YBBN",
           "B738"
          ],
          [
           "QF556",
           "09:35 PM",
           "YSSY",
           "YBBN",
           "B738"
          ],
          [
           "QF499",
           "10:00 PM",
           "YSSY",
           "YMML",
           "B738"
          ],
          [
           "QF7395",
           "10:00 PM",
           "YSSY",
           "YPAD",
           "B734"
          ],
          [
           "TFX22",
           "10:20 PM",
           "YSSY",
           "YMML",
           "B738"
          ],
          [
           "TFX41",
           "10:25 PM",
           "YSSY",
           "YBBN",
           "B738"
          ],
          [
           "AWK2",
           "10:40 PM",
           "YSSY",
           "NZAA",
           "B734"
          ]
         ],
         "hovertemplate": "Number: <b>%{customdata[0]}</b><br>Time: <b>%{customdata[1]}</b><br><br>Origin: %{customdata[2]}<br>Destination: %{customdata[3]}<extra></extra>",
         "hovertext": [
          "FJ914",
          "QF401",
          "VA800",
          "VA901",
          "FJ931",
          "QF500",
          "VA549",
          "QF641",
          "VA804",
          "QF731",
          "VA806",
          "QF409",
          "VA808",
          "VA909",
          "QF141",
          "QF504",
          "QF413",
          "VA1528",
          "OD172",
          "VA404",
          "VA551",
          "VA810",
          "VA505",
          "QF415",
          "QF506",
          "VA812",
          "VA913",
          "VA814",
          "QF417",
          "QF419",
          "VA816",
          "VA917",
          "QF508",
          "VA477",
          "VA1409",
          "VA818",
          "QF840",
          "VA509",
          "VA181",
          "VA820",
          "VA921",
          "QF423",
          "QF101",
          "QF143",
          "QF427",
          "VA824",
          "VA925",
          "QF790",
          "VA161",
          "VA412",
          "VA555",
          "VA511",
          "QF733",
          "QF431",
          "QF510",
          "QF728",
          "VA826",
          "QF121",
          "QF161",
          "QF578",
          "QF592",
          "QF922",
          "QF902",
          "QF433",
          "VA830",
          "VA931",
          "VA1530",
          "QF512",
          "QF137",
          "VA515",
          "QF435",
          "VA832",
          "VA933",
          "QF645",
          "QF735",
          "VA1139",
          "QF437",
          "VA834",
          "VA935",
          "QF516",
          "QF439",
          "VA836",
          "QF441",
          "VA838",
          "PX2",
          "QF520",
          "VA418",
          "VA519",
          "VA557",
          "QF649",
          "QF737",
          "VA1283",
          "QF145",
          "VA1419",
          "QF445",
          "VA842",
          "VA943",
          "QF524",
          "VA523",
          "VA1090",
          "VA559",
          "QF594",
          "VA525",
          "QF449",
          "QF526",
          "VA846",
          "VA1141",
          "QF451",
          "VA1421",
          "QF453",
          "QF455",
          "VA850",
          "VA951",
          "VA487",
          "QF651",
          "QF459",
          "QF463",
          "QF739",
          "VA957",
          "VA858",
          "QF123",
          "QF532",
          "QF803",
          "QF467",
          "VA533",
          "VA428",
          "VA862",
          "QF534",
          "QF471",
          "VA866",
          "VA965",
          "QF473",
          "QF540",
          "VA537",
          "QF475",
          "VA434",
          "VA870",
          "QF542",
          "QF743",
          "VA65",
          "QF147",
          "VA1536",
          "QF479",
          "VA874",
          "VA973",
          "QF544",
          "VA567",
          "VA876",
          "VA541",
          "QF483",
          "VA878",
          "QF653",
          "QF163",
          "QF546",
          "QF485",
          "QF139",
          "QF745",
          "VA882",
          "VA981",
          "QF149",
          "QF596",
          "QF491",
          "VA442",
          "QF904",
          "VA888",
          "QF552",
          "VA569",
          "VA545",
          "QF749",
          "VA898",
          "VA999",
          "TFX402",
          "QF556",
          "QF499",
          "QF7395",
          "TFX22",
          "TFX41",
          "AWK2"
         ],
         "legendgroup": "B737, takeoff",
         "marker": {
          "color": "#636efa",
          "size": 10,
          "sizemode": "area",
          "sizeref": 10,
          "symbol": "triangle-up"
         },
         "mode": "markers",
         "name": "B737, takeoff",
         "orientation": "v",
         "showlegend": true,
         "type": "scatter",
         "x": [
          "2024-11-25T06:00:00",
          "2024-11-25T06:00:00",
          "2024-11-25T06:00:00",
          "2024-11-25T06:00:00",
          "2024-11-25T06:00:00",
          "2024-11-25T06:05:00",
          "2024-11-25T06:15:00",
          "2024-11-25T06:25:00",
          "2024-11-25T06:30:00",
          "2024-11-25T06:40:00",
          "2024-11-25T06:45:00",
          "2024-11-25T07:00:00",
          "2024-11-25T07:00:00",
          "2024-11-25T07:00:00",
          "2024-11-25T07:05:00",
          "2024-11-25T07:05:00",
          "2024-11-25T07:10:00",
          "2024-11-25T07:10:00",
          "2024-11-25T07:15:00",
          "2024-11-25T07:15:00",
          "2024-11-25T07:15:00",
          "2024-11-25T07:15:00",
          "2024-11-25T07:20:00",
          "2024-11-25T07:30:00",
          "2024-11-25T07:30:00",
          "2024-11-25T07:30:00",
          "2024-11-25T07:30:00",
          "2024-11-25T07:45:00",
          "2024-11-25T07:50:00",
          "2024-11-25T08:00:00",
          "2024-11-25T08:00:00",
          "2024-11-25T08:00:00",
          "2024-11-25T08:05:00",
          "2024-11-25T08:10:00",
          "2024-11-25T08:10:00",
          "2024-11-25T08:15:00",
          "2024-11-25T08:20:00",
          "2024-11-25T08:20:00",
          "2024-11-25T08:30:00",
          "2024-11-25T08:30:00",
          "2024-11-25T08:30:00",
          "2024-11-25T08:30:00",
          "2024-11-25T08:40:00",
          "2024-11-25T08:55:00",
          "2024-11-25T09:00:00",
          "2024-11-25T09:00:00",
          "2024-11-25T09:00:00",
          "2024-11-25T09:15:00",
          "2024-11-25T09:15:00",
          "2024-11-25T09:15:00",
          "2024-11-25T09:15:00",
          "2024-11-25T09:20:00",
          "2024-11-25T09:25:00",
          "2024-11-25T09:30:00",
          "2024-11-25T09:30:00",
          "2024-11-25T09:30:00",
          "2024-11-25T09:30:00",
          "2024-11-25T09:35:00",
          "2024-11-25T09:40:00",
          "2024-11-25T09:40:00",
          "2024-11-25T09:45:00",
          "2024-11-25T09:45:00",
          "2024-11-25T09:55:00",
          "2024-11-25T10:00:00",
          "2024-11-25T10:00:00",
          "2024-11-25T10:00:00",
          "2024-11-25T10:00:00",
          "2024-11-25T10:05:00",
          "2024-11-25T10:20:00",
          "2024-11-25T10:20:00",
          "2024-11-25T10:30:00",
          "2024-11-25T10:30:00",
          "2024-11-25T10:30:00",
          "2024-11-25T10:35:00",
          "2024-11-25T10:40:00",
          "2024-11-25T10:50:00",
          "2024-11-25T11:00:00",
          "2024-11-25T11:00:00",
          "2024-11-25T11:00:00",
          "2024-11-25T11:05:00",
          "2024-11-25T11:25:00",
          "2024-11-25T11:30:00",
          "2024-11-25T12:00:00",
          "2024-11-25T12:00:00",
          "2024-11-25T12:15:00",
          "2024-11-25T12:15:00",
          "2024-11-25T12:15:00",
          "2024-11-25T12:20:00",
          "2024-11-25T12:25:00",
          "2024-11-25T12:35:00",
          "2024-11-25T12:35:00",
          "2024-11-25T12:40:00",
          "2024-11-25T12:40:00",
          "2024-11-25T12:50:00",
          "2024-11-25T13:00:00",
          "2024-11-25T13:00:00",
          "2024-11-25T13:00:00",
          "2024-11-25T13:05:00",
          "2024-11-25T13:20:00",
          "2024-11-25T13:20:00",
          "2024-11-25T13:25:00",
          "2024-11-25T13:30:00",
          "2024-11-25T13:50:00",
          "2024-11-25T14:00:00",
          "2024-11-25T14:00:00",
          "2024-11-25T14:00:00",
          "2024-11-25T14:25:00",
          "2024-11-25T14:30:00",
          "2024-11-25T14:40:00",
          "2024-11-25T14:45:00",
          "2024-11-25T15:00:00",
          "2024-11-25T15:00:00",
          "2024-11-25T15:00:00",
          "2024-11-25T15:05:00",
          "2024-11-25T15:20:00",
          "2024-11-25T15:30:00",
          "2024-11-25T16:00:00",
          "2024-11-25T16:00:00",
          "2024-11-25T16:00:00",
          "2024-11-25T16:00:00",
          "2024-11-25T16:05:00",
          "2024-11-25T16:05:00",
          "2024-11-25T16:05:00",
          "2024-11-25T16:15:00",
          "2024-11-25T16:20:00",
          "2024-11-25T16:30:00",
          "2024-11-25T16:30:00",
          "2024-11-25T16:45:00",
          "2024-11-25T17:00:00",
          "2024-11-25T17:00:00",
          "2024-11-25T17:00:00",
          "2024-11-25T17:15:00",
          "2024-11-25T17:20:00",
          "2024-11-25T17:20:00",
          "2024-11-25T17:30:00",
          "2024-11-25T17:30:00",
          "2024-11-25T17:30:00",
          "2024-11-25T17:35:00",
          "2024-11-25T17:45:00",
          "2024-11-25T17:45:00",
          "2024-11-25T17:50:00",
          "2024-11-25T17:50:00",
          "2024-11-25T18:00:00",
          "2024-11-25T18:00:00",
          "2024-11-25T18:00:00",
          "2024-11-25T18:10:00",
          "2024-11-25T18:15:00",
          "2024-11-25T18:15:00",
          "2024-11-25T18:20:00",
          "2024-11-25T18:30:00",
          "2024-11-25T18:30:00",
          "2024-11-25T18:35:00",
          "2024-11-25T18:40:00",
          "2024-11-25T18:40:00",
          "2024-11-25T18:45:00",
          "2024-11-25T18:50:00",
          "2024-11-25T18:55:00",
          "2024-11-25T19:00:00",
          "2024-11-25T19:00:00",
          "2024-11-25T19:15:00",
          "2024-11-25T19:20:00",
          "2024-11-25T19:30:00",
          "2024-11-25T19:30:00",
          "2024-11-25T19:40:00",
          "2024-11-25T20:00:00",
          "2024-11-25T20:05:00",
          "2024-11-25T20:15:00",
          "2024-11-25T20:20:00",
          "2024-11-25T20:55:00",
          "2024-11-25T21:30:00",
          "2024-11-25T21:30:00",
          "2024-11-25T21:30:00",
          "2024-11-25T21:35:00",
          "2024-11-25T22:00:00",
          "2024-11-25T22:00:00",
          "2024-11-25T22:20:00",
          "2024-11-25T22:25:00",
          "2024-11-25T22:40:00"
         ],
         "xaxis": "x",
         "y": [
          "B737",
          "B737",
          "B737",
          "B737",
          "B737",
          "B737",
          "B737",
          "B737",
          "B737",
          "B737",
          "B737",
          "B737",
          "B737",
          "B737",
          "B737",
          "B737",
          "B737",
          "B737",
          "B737",
          "B737",
          "B737",
          "B737",
          "B737",
          "B737",
          "B737",
          "B737",
          "B737",
          "B737",
          "B737",
          "B737",
          "B737",
          "B737",
          "B737",
          "B737",
          "B737",
          "B737",
          "B737",
          "B737",
          "B737",
          "B737",
          "B737",
          "B737",
          "B737",
          "B737",
          "B737",
          "B737",
          "B737",
          "B737",
          "B737",
          "B737",
          "B737",
          "B737",
          "B737",
          "B737",
          "B737",
          "B737",
          "B737",
          "B737",
          "B737",
          "B737",
          "B737",
          "B737",
          "B737",
          "B737",
          "B737",
          "B737",
          "B737",
          "B737",
          "B737",
          "B737",
          "B737",
          "B737",
          "B737",
          "B737",
          "B737",
          "B737",
          "B737",
          "B737",
          "B737",
          "B737",
          "B737",
          "B737",
          "B737",
          "B737",
          "B737",
          "B737",
          "B737",
          "B737",
          "B737",
          "B737",
          "B737",
          "B737",
          "B737",
          "B737",
          "B737",
          "B737",
          "B737",
          "B737",
          "B737",
          "B737",
          "B737",
          "B737",
          "B737",
          "B737",
          "B737",
          "B737",
          "B737",
          "B737",
          "B737",
          "B737",
          "B737",
          "B737",
          "B737",
          "B737",
          "B737",
          "B737",
          "B737",
          "B737",
          "B737",
          "B737",
          "B737",
          "B737",
          "B737",
          "B737",
          "B737",
          "B737",
          "B737",
          "B737",
          "B737",
          "B737",
          "B737",
          "B737",
          "B737",
          "B737",
          "B737",
          "B737",
          "B737",
          "B737",
          "B737",
          "B737",
          "B737",
          "B737",
          "B737",
          "B737",
          "B737",
          "B737",
          "B737",
          "B737",
          "B737",
          "B737",
          "B737",
          "B737",
          "B737",
          "B737",
          "B737",
          "B737",
          "B737",
          "B737",
          "B737",
          "B737",
          "B737",
          "B737",
          "B737",
          "B737",
          "B737",
          "B737",
          "B737",
          "B737",
          "B737",
          "B737",
          "B737",
          "B737",
          "B737",
          "B737",
          "B737",
          "B737",
          "B737",
          "B737"
         ],
         "yaxis": "y"
        },
        {
         "customdata": [
          [
           "VA570",
           "06:10 AM",
           "YPPH",
           "YSSY",
           "B738"
          ],
          [
           "OD171",
           "06:15 AM",
           "WADD",
           "YSSY",
           "B38M"
          ],
          [
           "QF843",
           "06:25 AM",
           "YPDN",
           "YSSY",
           "B738"
          ],
          [
           "QF400",
           "07:10 AM",
           "YMML",
           "YSSY",
           "B738"
          ],
          [
           "QF402",
           "07:25 AM",
           "YMML",
           "YSSY",
           "B738"
          ],
          [
           "VA803",
           "07:25 AM",
           "YMML",
           "YSSY",
           "B38M"
          ],
          [
           "QF140",
           "07:35 AM",
           "NZAA",
           "YSSY",
           "B738"
          ],
          [
           "QF138",
           "07:35 AM",
           "NZCH",
           "YSSY",
           "B738"
          ],
          [
           "QF501",
           "07:35 AM",
           "YBBN",
           "YSSY",
           "B738"
          ],
          [
           "VA66",
           "07:40 AM",
           "WADD",
           "YSSY",
           "B738"
          ],
          [
           "VA900",
           "07:40 AM",
           "YBBN",
           "YSSY",
           "B738"
          ],
          [
           "QF162",
           "07:45 AM",
           "NZWN",
           "YSSY",
           "B738"
          ],
          [
           "VA805",
           "07:45 AM",
           "YMML",
           "YSSY",
           "B738"
          ],
          [
           "QF406",
           "07:55 AM",
           "YMML",
           "YSSY",
           "B738"
          ],
          [
           "QF503",
           "07:55 AM",
           "YBBN",
           "YSSY",
           "B738"
          ],
          [
           "VA807",
           "07:55 AM",
           "YMML",
           "YSSY",
           "B738"
          ],
          [
           "QF408",
           "08:10 AM",
           "YMML",
           "YSSY",
           "B738"
          ],
          [
           "VA904",
           "08:10 AM",
           "YBBN",
           "YSSY",
           "B738"
          ],
          [
           "QF124",
           "08:15 AM",
           "NZQN",
           "YSSY",
           "B738"
          ],
          [
           "QF410",
           "08:25 AM",
           "YMML",
           "YSSY",
           "B738"
          ],
          [
           "QF730",
           "08:25 AM",
           "YPAD",
           "YSSY",
           "B738"
          ],
          [
           "VA401",
           "08:25 AM",
           "YPAD",
           "YSSY",
           "B738"
          ],
          [
           "VA811",
           "08:25 AM",
           "YMML",
           "YSSY",
           "B738"
          ],
          [
           "QF591",
           "08:30 AM",
           "YBCG",
           "YSSY",
           "B738"
          ],
          [
           "VA500",
           "08:30 AM",
           "YBCG",
           "YSSY",
           "B738"
          ],
          [
           "QF505",
           "08:40 AM",
           "YBBN",
           "YSSY",
           "73H"
          ],
          [
           "VA813",
           "08:40 AM",
           "YMML",
           "YSSY",
           "B738"
          ],
          [
           "VA908",
           "08:40 AM",
           "YBBN",
           "YSSY",
           "B738"
          ],
          [
           "QF414",
           "08:55 AM",
           "YMML",
           "YSSY",
           "B738"
          ],
          [
           "QF732",
           "08:55 AM",
           "YPAD",
           "YSSY",
           "B738"
          ],
          [
           "VA815",
           "08:55 AM",
           "YMML",
           "YSSY",
           "B738"
          ],
          [
           "QF905",
           "09:00 AM",
           "YBSU",
           "YSSY",
           "B738"
          ],
          [
           "QF142",
           "09:10 AM",
           "NZAA",
           "YSSY",
           "B738"
          ],
          [
           "QF416",
           "09:10 AM",
           "YMML",
           "YSSY",
           "B738"
          ],
          [
           "VA817",
           "09:10 AM",
           "YMML",
           "YSSY",
           "B738"
          ],
          [
           "VA912",
           "09:10 AM",
           "YBBN",
           "YSSY",
           "B738"
          ],
          [
           "QF507",
           "09:20 AM",
           "YBBN",
           "YSSY",
           "B738"
          ],
          [
           "QF418",
           "09:25 AM",
           "YMML",
           "YSSY",
           "73H"
          ],
          [
           "VA819",
           "09:25 AM",
           "YMML",
           "YSSY",
           "B738"
          ],
          [
           "QF420",
           "09:40 AM",
           "YMML",
           "YSSY",
           "73H"
          ],
          [
           "VA916",
           "09:40 AM",
           "YBBN",
           "YSSY",
           "B738"
          ],
          [
           "QF509",
           "09:50 AM",
           "YBBN",
           "YSSY",
           "B738"
          ],
          [
           "VA504",
           "09:50 AM",
           "YBCG",
           "YSSY",
           "B738"
          ],
          [
           "QF422",
           "09:55 AM",
           "YMML",
           "YSSY",
           "B738"
          ],
          [
           "VA823",
           "09:55 AM",
           "YMML",
           "YSSY",
           "B737"
          ],
          [
           "VA920",
           "10:10 AM",
           "YBBN",
           "YSSY",
           "B738"
          ],
          [
           "QF511",
           "10:20 AM",
           "YBBN",
           "YSSY",
           "B738"
          ],
          [
           "QF426",
           "10:25 AM",
           "YMML",
           "YSSY",
           "B738"
          ],
          [
           "VA827",
           "10:25 AM",
           "YMML",
           "YSSY",
           "B738"
          ],
          [
           "QF428",
           "10:40 AM",
           "YMML",
           "YSSY",
           "B738"
          ],
          [
           "VA924",
           "10:40 AM",
           "YBBN",
           "YSSY",
           "B737"
          ],
          [
           "QF513",
           "10:50 AM",
           "YBBN",
           "YSSY",
           "B738"
          ],
          [
           "VA508",
           "10:50 AM",
           "YBCG",
           "YSSY",
           "B738"
          ],
          [
           "QF430",
           "10:55 AM",
           "YMML",
           "YSSY",
           "B738"
          ],
          [
           "VA829",
           "10:55 AM",
           "YMML",
           "YSSY",
           "73H"
          ],
          [
           "PX1",
           "11:15 AM",
           "AYPY",
           "YSSY",
           "B738"
          ],
          [
           "QF736",
           "11:20 AM",
           "YPAD",
           "YSSY",
           "73H"
          ],
          [
           "QF432",
           "11:25 AM",
           "YMML",
           "YSSY",
           "B738"
          ],
          [
           "VA833",
           "11:25 AM",
           "YMML",
           "YSSY",
           "73H"
          ],
          [
           "VA1531",
           "11:35 AM",
           "YMHB",
           "YSSY",
           "B738"
          ],
          [
           "VA932",
           "11:40 AM",
           "YBBN",
           "YSSY",
           "B738"
          ],
          [
           "VA512",
           "11:50 AM",
           "YBCG",
           "YSSY",
           "B738"
          ],
          [
           "QF434",
           "11:55 AM",
           "YMML",
           "YSSY",
           "B738"
          ],
          [
           "VA413",
           "11:55 AM",
           "YPAD",
           "YSSY",
           "B738"
          ],
          [
           "VA478",
           "12:05 PM",
           "YBSU",
           "YSSY",
           "B738"
          ],
          [
           "VA835",
           "12:10 PM",
           "YMML",
           "YSSY",
           "B738"
          ],
          [
           "QF517",
           "12:20 PM",
           "YBBN",
           "YSSY",
           "B738"
          ],
          [
           "VA837",
           "12:25 PM",
           "YMML",
           "YSSY",
           "B738"
          ],
          [
           "QF6112",
           "12:30 PM",
           "YMML",
           "YSSY",
           "B738"
          ],
          [
           "QF642",
           "12:35 PM",
           "YPPH",
           "YSSY",
           "B738"
          ],
          [
           "VA938",
           "12:40 PM",
           "YBBN",
           "YSSY",
           "B738"
          ],
          [
           "VA516",
           "12:50 PM",
           "YBCG",
           "YSSY",
           "B738"
          ],
          [
           "VA550",
           "01:10 PM",
           "YPPH",
           "YSSY",
           "B738"
          ],
          [
           "QF521",
           "01:15 PM",
           "YBBN",
           "YSSY",
           "B738"
          ],
          [
           "QF595",
           "01:20 PM",
           "YBCG",
           "YSSY",
           "B738"
          ],
          [
           "QF440",
           "01:25 PM",
           "YMML",
           "YSSY",
           "B738"
          ],
          [
           "VA841",
           "01:25 PM",
           "YMML",
           "YSSY",
           "B738"
          ],
          [
           "VA942",
           "01:40 PM",
           "YBBN",
           "YSSY",
           "B738"
          ],
          [
           "QF525",
           "01:50 PM",
           "YBBN",
           "YSSY",
           "B738"
          ],
          [
           "VA518",
           "01:50 PM",
           "YBCG",
           "YSSY",
           "B738"
          ],
          [
           "QF903",
           "01:55 PM",
           "YBSU",
           "YSSY",
           "B738"
          ],
          [
           "QF738",
           "02:05 PM",
           "YPAD",
           "YSSY",
           "B738"
          ],
          [
           "VA1140",
           "02:10 PM",
           "YBNA",
           "YSSY",
           "B737"
          ],
          [
           "QF444",
           "02:25 PM",
           "YMML",
           "YSSY",
           "B738"
          ],
          [
           "VA845",
           "02:25 PM",
           "YMML",
           "YSSY",
           "B738"
          ],
          [
           "VA1533",
           "02:25 PM",
           "YMHB",
           "YSSY",
           "B738"
          ],
          [
           "VA946",
           "02:40 PM",
           "YBBN",
           "YSSY",
           "B738"
          ],
          [
           "QF529",
           "02:50 PM",
           "YBBN",
           "YSSY",
           "B738"
          ],
          [
           "QF144",
           "02:55 PM",
           "NZAA",
           "YSSY",
           "B738"
          ],
          [
           "VA1416",
           "02:55 PM",
           "YBCS",
           "YSSY",
           "B738"
          ],
          [
           "QF579",
           "03:10 PM",
           "YBHM",
           "YSSY",
           "B738"
          ],
          [
           "QF644",
           "03:10 PM",
           "YPPH",
           "YSSY",
           "B738"
          ],
          [
           "QF740",
           "03:20 PM",
           "YPAD",
           "YSSY",
           "B738"
          ],
          [
           "QF448",
           "03:25 PM",
           "YMML",
           "YSSY",
           "B738"
          ],
          [
           "VA849",
           "03:25 PM",
           "YMML",
           "YSSY",
           "B738"
          ],
          [
           "VA524",
           "03:50 PM",
           "YBCG",
           "YSSY",
           "B738"
          ],
          [
           "QF791",
           "04:00 PM",
           "YBAS",
           "YSSY",
           "B738"
          ],
          [
           "QF533",
           "04:05 PM",
           "YBBN",
           "YSSY",
           "B738"
          ],
          [
           "QF6111",
           "04:15 PM",
           "YMML",
           "YSSY",
           "B738"
          ],
          [
           "QF646",
           "04:20 PM",
           "YPPH",
           "YSSY",
           "B738"
          ],
          [
           "VA554",
           "04:20 PM",
           "YPPH",
           "YSSY",
           "B738"
          ],
          [
           "VA162",
           "04:25 PM",
           "NZQN",
           "YSSY",
           "B738"
          ],
          [
           "VA853",
           "04:25 PM",
           "YMML",
           "YSSY",
           "B738"
          ],
          [
           "QF923",
           "04:30 PM",
           "YBCS",
           "YSSY",
           "B738"
          ],
          [
           "QF729",
           "04:40 PM",
           "YAYE",
           "YSSY",
           "B738"
          ],
          [
           "VA954",
           "04:40 PM",
           "YBBN",
           "YSSY",
           "B738"
          ],
          [
           "QF122",
           "04:45 PM",
           "NZQN",
           "YSSY",
           "B738"
          ],
          [
           "VA526",
           "04:50 PM",
           "YBCG",
           "YSSY",
           "B738"
          ],
          [
           "VA425",
           "04:55 PM",
           "YPAD",
           "YSSY",
           "B737"
          ],
          [
           "VA855",
           "04:55 PM",
           "YMML",
           "YSSY",
           "B738"
          ],
          [
           "QF460",
           "05:00 PM",
           "YMML",
           "YSSY",
           "B738"
          ],
          [
           "QF597",
           "05:05 PM",
           "YBCG",
           "YSSY",
           "B738"
          ],
          [
           "QF742",
           "05:15 PM",
           "YPAD",
           "YSSY",
           "B738"
          ],
          [
           "VA528",
           "05:20 PM",
           "YBCG",
           "YSSY",
           "B738"
          ],
          [
           "VA1093",
           "05:20 PM",
           "YMLT",
           "YSSY",
           "B738"
          ],
          [
           "QF462",
           "05:25 PM",
           "YMML",
           "YSSY",
           "B738"
          ],
          [
           "VA556",
           "05:25 PM",
           "YPPH",
           "YSSY",
           "B738"
          ],
          [
           "VA859",
           "05:25 PM",
           "YMML",
           "YSSY",
           "B738"
          ],
          [
           "QF146",
           "05:40 PM",
           "NZAA",
           "YSSY",
           "B738"
          ],
          [
           "QF164",
           "05:40 PM",
           "NZWN",
           "YSSY",
           "B738"
          ],
          [
           "VA958",
           "05:40 PM",
           "YBBN",
           "YSSY",
           "B738"
          ],
          [
           "VA1142",
           "05:45 PM",
           "YBNA",
           "YSSY",
           "B738"
          ],
          [
           "QF541",
           "05:50 PM",
           "YBBN",
           "YSSY",
           "B738"
          ],
          [
           "QF466",
           "05:55 PM",
           "YMML",
           "YSSY",
           "B738"
          ],
          [
           "QF841",
           "05:55 PM",
           "YPDN",
           "YSSY",
           "B738"
          ],
          [
           "VA863",
           "05:55 PM",
           "YMML",
           "YSSY",
           "B738"
          ],
          [
           "QF543",
           "06:00 PM",
           "YBBN",
           "YSSY",
           "B738"
          ],
          [
           "QF136",
           "06:05 PM",
           "NZCH",
           "YSSY",
           "B738"
          ],
          [
           "QF468",
           "06:10 PM",
           "YMML",
           "YSSY",
           "B738"
          ],
          [
           "VA1282",
           "06:10 PM",
           "YBHM",
           "YSSY",
           "B738"
          ],
          [
           "QF102",
           "06:20 PM",
           "NFFN",
           "YSSY",
           "B738"
          ],
          [
           "QF470",
           "06:25 PM",
           "YMML",
           "YSSY",
           "B738"
          ],
          [
           "VA182",
           "06:25 PM",
           "NFFN",
           "YSSY",
           "B38M"
          ],
          [
           "VA867",
           "06:25 PM",
           "YMML",
           "YSSY",
           "B738"
          ],
          [
           "QF472",
           "06:40 PM",
           "YMML",
           "YSSY",
           "B738"
          ],
          [
           "VA869",
           "06:40 PM",
           "YMML",
           "YSSY",
           "B738"
          ],
          [
           "VA962",
           "06:40 PM",
           "YBBN",
           "YSSY",
           "B737"
          ],
          [
           "QF474",
           "06:55 PM",
           "YMML",
           "YSSY",
           "B738"
          ],
          [
           "VA492",
           "06:55 PM",
           "YBSU",
           "YSSY",
           "B738"
          ],
          [
           "VA871",
           "06:55 PM",
           "YMML",
           "YSSY",
           "B738"
          ],
          [
           "QF806",
           "07:05 PM",
           "YSCB",
           "YSSY",
           "B738"
          ],
          [
           "QF478",
           "07:25 PM",
           "YMML",
           "YSSY",
           "73H"
          ],
          [
           "VA875",
           "07:25 PM",
           "YMML",
           "YSSY",
           "B738"
          ],
          [
           "VA431",
           "07:30 PM",
           "YPAD",
           "YSSY",
           "B738"
          ],
          [
           "VA560",
           "07:30 PM",
           "YPPH",
           "YSSY",
           "B738"
          ],
          [
           "VA970",
           "07:40 PM",
           "YBBN",
           "YSSY",
           "B738"
          ],
          [
           "VA1422",
           "07:45 PM",
           "YBCS",
           "YSSY",
           "B738"
          ],
          [
           "QF545",
           "07:50 PM",
           "YBBN",
           "YSSY",
           "B738"
          ],
          [
           "VA879",
           "07:55 PM",
           "YMML",
           "YSSY",
           "73H"
          ],
          [
           "QF482",
           "08:00 PM",
           "YMML",
           "YSSY",
           "B738"
          ],
          [
           "TFX49",
           "08:23 PM",
           "YPDN",
           "YSSY",
           "B738"
          ],
          [
           "QF486",
           "08:25 PM",
           "YMML",
           "YSSY",
           "B738"
          ],
          [
           "VA883",
           "08:25 PM",
           "YMML",
           "YSSY",
           "B738"
          ],
          [
           "QF547",
           "08:30 PM",
           "YBBN",
           "YSSY",
           "B738"
          ],
          [
           "QF650",
           "08:35 PM",
           "YPPH",
           "YSSY",
           "B738"
          ],
          [
           "QF148",
           "08:40 PM",
           "NZAA",
           "YSSY",
           "B738"
          ],
          [
           "QF744",
           "08:40 PM",
           "YPAD",
           "YSSY",
           "B738"
          ],
          [
           "VA978",
           "08:40 PM",
           "YBBN",
           "YSSY",
           "B738"
          ],
          [
           "VA542",
           "08:50 PM",
           "YBCG",
           "YSSY",
           "73H"
          ],
          [
           "VA887",
           "08:55 PM",
           "YMML",
           "YSSY",
           "B738"
          ],
          [
           "QF7391",
           "08:55 PM",
           "YMML",
           "YSSY",
           "B734"
          ],
          [
           "AWK1",
           "09:03 PM",
           "NZAA",
           "YSSY",
           "B734"
          ],
          [
           "TFX34",
           "09:07 PM",
           "YPAD",
           "YSSY",
           "B738"
          ],
          [
           "TFX21",
           "09:08 PM",
           "YBBN",
           "YSSY",
           "B738"
          ],
          [
           "VA439",
           "09:10 PM",
           "YPAD",
           "YSSY",
           "B738"
          ],
          [
           "QF555",
           "09:20 PM",
           "YBBN",
           "YSSY",
           "B738"
          ],
          [
           "VA1426",
           "09:35 PM",
           "YBCS",
           "YSSY",
           "B738"
          ],
          [
           "FJ915",
           "09:50 PM",
           "NFFN",
           "YSSY",
           "B38M"
          ],
          [
           "VA544",
           "09:50 PM",
           "YBCG",
           "YSSY",
           "B738"
          ],
          [
           "VA895",
           "09:55 PM",
           "YMML",
           "YSSY",
           "B738"
          ],
          [
           "VA441",
           "10:10 PM",
           "YPAD",
           "YSSY",
           "B738"
          ],
          [
           "VA1537",
           "10:15 PM",
           "YMHB",
           "YSSY",
           "B737"
          ],
          [
           "QF498",
           "10:25 PM",
           "YMML",
           "YSSY",
           "B738"
          ],
          [
           "QF559",
           "10:25 PM",
           "YBBN",
           "YSSY",
           "B738"
          ],
          [
           "QF748",
           "10:25 PM",
           "YPAD",
           "YSSY",
           "B738"
          ],
          [
           "VA990",
           "10:25 PM",
           "YBBN",
           "YSSY",
           "B738"
          ],
          [
           "QF652",
           "10:30 PM",
           "YPPH",
           "YSSY",
           "B738"
          ],
          [
           "VA562",
           "10:30 PM",
           "YPPH",
           "YSSY",
           "B738"
          ]
         ],
         "hovertemplate": "Number: <b>%{customdata[0]}</b><br>Time: <b>%{customdata[1]}</b><br><br>Origin: %{customdata[2]}<br>Destination: %{customdata[3]}<extra></extra>",
         "hovertext": [
          "VA570",
          "OD171",
          "QF843",
          "QF400",
          "QF402",
          "VA803",
          "QF140",
          "QF138",
          "QF501",
          "VA66",
          "VA900",
          "QF162",
          "VA805",
          "QF406",
          "QF503",
          "VA807",
          "QF408",
          "VA904",
          "QF124",
          "QF410",
          "QF730",
          "VA401",
          "VA811",
          "QF591",
          "VA500",
          "QF505",
          "VA813",
          "VA908",
          "QF414",
          "QF732",
          "VA815",
          "QF905",
          "QF142",
          "QF416",
          "VA817",
          "VA912",
          "QF507",
          "QF418",
          "VA819",
          "QF420",
          "VA916",
          "QF509",
          "VA504",
          "QF422",
          "VA823",
          "VA920",
          "QF511",
          "QF426",
          "VA827",
          "QF428",
          "VA924",
          "QF513",
          "VA508",
          "QF430",
          "VA829",
          "PX1",
          "QF736",
          "QF432",
          "VA833",
          "VA1531",
          "VA932",
          "VA512",
          "QF434",
          "VA413",
          "VA478",
          "VA835",
          "QF517",
          "VA837",
          "QF6112",
          "QF642",
          "VA938",
          "VA516",
          "VA550",
          "QF521",
          "QF595",
          "QF440",
          "VA841",
          "VA942",
          "QF525",
          "VA518",
          "QF903",
          "QF738",
          "VA1140",
          "QF444",
          "VA845",
          "VA1533",
          "VA946",
          "QF529",
          "QF144",
          "VA1416",
          "QF579",
          "QF644",
          "QF740",
          "QF448",
          "VA849",
          "VA524",
          "QF791",
          "QF533",
          "QF6111",
          "QF646",
          "VA554",
          "VA162",
          "VA853",
          "QF923",
          "QF729",
          "VA954",
          "QF122",
          "VA526",
          "VA425",
          "VA855",
          "QF460",
          "QF597",
          "QF742",
          "VA528",
          "VA1093",
          "QF462",
          "VA556",
          "VA859",
          "QF146",
          "QF164",
          "VA958",
          "VA1142",
          "QF541",
          "QF466",
          "QF841",
          "VA863",
          "QF543",
          "QF136",
          "QF468",
          "VA1282",
          "QF102",
          "QF470",
          "VA182",
          "VA867",
          "QF472",
          "VA869",
          "VA962",
          "QF474",
          "VA492",
          "VA871",
          "QF806",
          "QF478",
          "VA875",
          "VA431",
          "VA560",
          "VA970",
          "VA1422",
          "QF545",
          "VA879",
          "QF482",
          "TFX49",
          "QF486",
          "VA883",
          "QF547",
          "QF650",
          "QF148",
          "QF744",
          "VA978",
          "VA542",
          "VA887",
          "QF7391",
          "AWK1",
          "TFX34",
          "TFX21",
          "VA439",
          "QF555",
          "VA1426",
          "FJ915",
          "VA544",
          "VA895",
          "VA441",
          "VA1537",
          "QF498",
          "QF559",
          "QF748",
          "VA990",
          "QF652",
          "VA562"
         ],
         "legendgroup": "B737, landing",
         "marker": {
          "color": "#636efa",
          "size": 10,
          "sizemode": "area",
          "sizeref": 10,
          "symbol": "triangle-down"
         },
         "mode": "markers",
         "name": "B737, landing",
         "orientation": "v",
         "showlegend": true,
         "type": "scatter",
         "x": [
          "2024-11-25T06:10:00",
          "2024-11-25T06:15:00",
          "2024-11-25T06:25:00",
          "2024-11-25T07:10:00",
          "2024-11-25T07:25:00",
          "2024-11-25T07:25:00",
          "2024-11-25T07:35:00",
          "2024-11-25T07:35:00",
          "2024-11-25T07:35:00",
          "2024-11-25T07:40:00",
          "2024-11-25T07:40:00",
          "2024-11-25T07:45:00",
          "2024-11-25T07:45:00",
          "2024-11-25T07:55:00",
          "2024-11-25T07:55:00",
          "2024-11-25T07:55:00",
          "2024-11-25T08:10:00",
          "2024-11-25T08:10:00",
          "2024-11-25T08:15:00",
          "2024-11-25T08:25:00",
          "2024-11-25T08:25:00",
          "2024-11-25T08:25:00",
          "2024-11-25T08:25:00",
          "2024-11-25T08:30:00",
          "2024-11-25T08:30:00",
          "2024-11-25T08:40:00",
          "2024-11-25T08:40:00",
          "2024-11-25T08:40:00",
          "2024-11-25T08:55:00",
          "2024-11-25T08:55:00",
          "2024-11-25T08:55:00",
          "2024-11-25T09:00:00",
          "2024-11-25T09:10:00",
          "2024-11-25T09:10:00",
          "2024-11-25T09:10:00",
          "2024-11-25T09:10:00",
          "2024-11-25T09:20:00",
          "2024-11-25T09:25:00",
          "2024-11-25T09:25:00",
          "2024-11-25T09:40:00",
          "2024-11-25T09:40:00",
          "2024-11-25T09:50:00",
          "2024-11-25T09:50:00",
          "2024-11-25T09:55:00",
          "2024-11-25T09:55:00",
          "2024-11-25T10:10:00",
          "2024-11-25T10:20:00",
          "2024-11-25T10:25:00",
          "2024-11-25T10:25:00",
          "2024-11-25T10:40:00",
          "2024-11-25T10:40:00",
          "2024-11-25T10:50:00",
          "2024-11-25T10:50:00",
          "2024-11-25T10:55:00",
          "2024-11-25T10:55:00",
          "2024-11-25T11:15:00",
          "2024-11-25T11:20:00",
          "2024-11-25T11:25:00",
          "2024-11-25T11:25:00",
          "2024-11-25T11:35:00",
          "2024-11-25T11:40:00",
          "2024-11-25T11:50:00",
          "2024-11-25T11:55:00",
          "2024-11-25T11:55:00",
          "2024-11-25T12:05:00",
          "2024-11-25T12:10:00",
          "2024-11-25T12:20:00",
          "2024-11-25T12:25:00",
          "2024-11-25T12:30:00",
          "2024-11-25T12:35:00",
          "2024-11-25T12:40:00",
          "2024-11-25T12:50:00",
          "2024-11-25T13:10:00",
          "2024-11-25T13:15:00",
          "2024-11-25T13:20:00",
          "2024-11-25T13:25:00",
          "2024-11-25T13:25:00",
          "2024-11-25T13:40:00",
          "2024-11-25T13:50:00",
          "2024-11-25T13:50:00",
          "2024-11-25T13:55:00",
          "2024-11-25T14:05:00",
          "2024-11-25T14:10:00",
          "2024-11-25T14:25:00",
          "2024-11-25T14:25:00",
          "2024-11-25T14:25:00",
          "2024-11-25T14:40:00",
          "2024-11-25T14:50:00",
          "2024-11-25T14:55:00",
          "2024-11-25T14:55:00",
          "2024-11-25T15:10:00",
          "2024-11-25T15:10:00",
          "2024-11-25T15:20:00",
          "2024-11-25T15:25:00",
          "2024-11-25T15:25:00",
          "2024-11-25T15:50:00",
          "2024-11-25T16:00:00",
          "2024-11-25T16:05:00",
          "2024-11-25T16:15:00",
          "2024-11-25T16:20:00",
          "2024-11-25T16:20:00",
          "2024-11-25T16:25:00",
          "2024-11-25T16:25:00",
          "2024-11-25T16:30:00",
          "2024-11-25T16:40:00",
          "2024-11-25T16:40:00",
          "2024-11-25T16:45:00",
          "2024-11-25T16:50:00",
          "2024-11-25T16:55:00",
          "2024-11-25T16:55:00",
          "2024-11-25T17:00:00",
          "2024-11-25T17:05:00",
          "2024-11-25T17:15:00",
          "2024-11-25T17:20:00",
          "2024-11-25T17:20:00",
          "2024-11-25T17:25:00",
          "2024-11-25T17:25:00",
          "2024-11-25T17:25:00",
          "2024-11-25T17:40:00",
          "2024-11-25T17:40:00",
          "2024-11-25T17:40:00",
          "2024-11-25T17:45:00",
          "2024-11-25T17:50:00",
          "2024-11-25T17:55:00",
          "2024-11-25T17:55:00",
          "2024-11-25T17:55:00",
          "2024-11-25T18:00:00",
          "2024-11-25T18:05:00",
          "2024-11-25T18:10:00",
          "2024-11-25T18:10:00",
          "2024-11-25T18:20:00",
          "2024-11-25T18:25:00",
          "2024-11-25T18:25:00",
          "2024-11-25T18:25:00",
          "2024-11-25T18:40:00",
          "2024-11-25T18:40:00",
          "2024-11-25T18:40:00",
          "2024-11-25T18:55:00",
          "2024-11-25T18:55:00",
          "2024-11-25T18:55:00",
          "2024-11-25T19:05:00",
          "2024-11-25T19:25:00",
          "2024-11-25T19:25:00",
          "2024-11-25T19:30:00",
          "2024-11-25T19:30:00",
          "2024-11-25T19:40:00",
          "2024-11-25T19:45:00",
          "2024-11-25T19:50:00",
          "2024-11-25T19:55:00",
          "2024-11-25T20:00:00",
          "2024-11-25T20:23:00",
          "2024-11-25T20:25:00",
          "2024-11-25T20:25:00",
          "2024-11-25T20:30:00",
          "2024-11-25T20:35:00",
          "2024-11-25T20:40:00",
          "2024-11-25T20:40:00",
          "2024-11-25T20:40:00",
          "2024-11-25T20:50:00",
          "2024-11-25T20:55:00",
          "2024-11-25T20:55:00",
          "2024-11-25T21:03:00",
          "2024-11-25T21:07:00",
          "2024-11-25T21:08:00",
          "2024-11-25T21:10:00",
          "2024-11-25T21:20:00",
          "2024-11-25T21:35:00",
          "2024-11-25T21:50:00",
          "2024-11-25T21:50:00",
          "2024-11-25T21:55:00",
          "2024-11-25T22:10:00",
          "2024-11-25T22:15:00",
          "2024-11-25T22:25:00",
          "2024-11-25T22:25:00",
          "2024-11-25T22:25:00",
          "2024-11-25T22:25:00",
          "2024-11-25T22:30:00",
          "2024-11-25T22:30:00"
         ],
         "xaxis": "x",
         "y": [
          "B737",
          "B737",
          "B737",
          "B737",
          "B737",
          "B737",
          "B737",
          "B737",
          "B737",
          "B737",
          "B737",
          "B737",
          "B737",
          "B737",
          "B737",
          "B737",
          "B737",
          "B737",
          "B737",
          "B737",
          "B737",
          "B737",
          "B737",
          "B737",
          "B737",
          "B737",
          "B737",
          "B737",
          "B737",
          "B737",
          "B737",
          "B737",
          "B737",
          "B737",
          "B737",
          "B737",
          "B737",
          "B737",
          "B737",
          "B737",
          "B737",
          "B737",
          "B737",
          "B737",
          "B737",
          "B737",
          "B737",
          "B737",
          "B737",
          "B737",
          "B737",
          "B737",
          "B737",
          "B737",
          "B737",
          "B737",
          "B737",
          "B737",
          "B737",
          "B737",
          "B737",
          "B737",
          "B737",
          "B737",
          "B737",
          "B737",
          "B737",
          "B737",
          "B737",
          "B737",
          "B737",
          "B737",
          "B737",
          "B737",
          "B737",
          "B737",
          "B737",
          "B737",
          "B737",
          "B737",
          "B737",
          "B737",
          "B737",
          "B737",
          "B737",
          "B737",
          "B737",
          "B737",
          "B737",
          "B737",
          "B737",
          "B737",
          "B737",
          "B737",
          "B737",
          "B737",
          "B737",
          "B737",
          "B737",
          "B737",
          "B737",
          "B737",
          "B737",
          "B737",
          "B737",
          "B737",
          "B737",
          "B737",
          "B737",
          "B737",
          "B737",
          "B737",
          "B737",
          "B737",
          "B737",
          "B737",
          "B737",
          "B737",
          "B737",
          "B737",
          "B737",
          "B737",
          "B737",
          "B737",
          "B737",
          "B737",
          "B737",
          "B737",
          "B737",
          "B737",
          "B737",
          "B737",
          "B737",
          "B737",
          "B737",
          "B737",
          "B737",
          "B737",
          "B737",
          "B737",
          "B737",
          "B737",
          "B737",
          "B737",
          "B737",
          "B737",
          "B737",
          "B737",
          "B737",
          "B737",
          "B737",
          "B737",
          "B737",
          "B737",
          "B737",
          "B737",
          "B737",
          "B737",
          "B737",
          "B737",
          "B737",
          "B737",
          "B737",
          "B737",
          "B737",
          "B737",
          "B737",
          "B737",
          "B737",
          "B737",
          "B737",
          "B737",
          "B737",
          "B737",
          "B737",
          "B737",
          "B737",
          "B737"
         ],
         "yaxis": "y"
        },
        {
         "customdata": [
          [
           "JQ501",
           "06:00 AM",
           "YSSY",
           "YMML",
           "A320"
          ],
          [
           "JQ603",
           "06:00 AM",
           "YSSY",
           "YMAV",
           "A320"
          ],
          [
           "JQ950",
           "06:00 AM",
           "YSSY",
           "YBCS",
           "A321"
          ],
          [
           "JQ400",
           "06:10 AM",
           "YSSY",
           "YBCG",
           "A320"
          ],
          [
           "JQ719",
           "06:10 AM",
           "YSSY",
           "YMHB",
           "A21N"
          ],
          [
           "JQ747",
           "06:10 AM",
           "YSSY",
           "YMLT",
           "A320"
          ],
          [
           "JQ810",
           "06:20 AM",
           "YSSY",
           "YBBN",
           "A320"
          ],
          [
           "JQ223",
           "06:25 AM",
           "YSSY",
           "NZQN",
           "A320"
          ],
          [
           "JQ39",
           "06:35 AM",
           "YSSY",
           "WADD",
           "A21N"
          ],
          [
           "JQ912",
           "06:40 AM",
           "YSSY",
           "YBTL",
           "A320"
          ],
          [
           "JQ505",
           "07:00 AM",
           "YSSY",
           "YMML",
           "A320"
          ],
          [
           "JQ760",
           "07:05 AM",
           "YSSY",
           "YPAD",
           "A321"
          ],
          [
           "JQ402",
           "07:10 AM",
           "YSSY",
           "YBCG",
           "A320"
          ],
          [
           "JQ456",
           "07:20 AM",
           "YSSY",
           "YBNA",
           "A320"
          ],
          [
           "JQ784",
           "07:20 AM",
           "YSSY",
           "YBSU",
           "A320"
          ],
          [
           "NZ110",
           "07:55 AM",
           "YSSY",
           "NZAA",
           "A20N"
          ],
          [
           "JQ605",
           "08:10 AM",
           "YSSY",
           "YMAV",
           "A320"
          ],
          [
           "JQ507",
           "08:20 AM",
           "YSSY",
           "YMML",
           "A320"
          ],
          [
           "JQ201",
           "09:00 AM",
           "YSSY",
           "NZAA",
           "A320"
          ],
          [
           "NZ232",
           "09:05 AM",
           "YSSY",
           "NZQN",
           "A20N"
          ],
          [
           "JQ404",
           "09:10 AM",
           "YSSY",
           "YBCG",
           "A320"
          ],
          [
           "JQ509",
           "09:15 AM",
           "YSSY",
           "YMML",
           "A320"
          ],
          [
           "JQ762",
           "09:30 AM",
           "YSSY",
           "YPAD",
           "A320"
          ],
          [
           "JQ812",
           "09:35 AM",
           "YSSY",
           "YBBN",
           "A320"
          ],
          [
           "JQ786",
           "10:15 AM",
           "YSSY",
           "YBSU",
           "A320"
          ],
          [
           "JQ458",
           "10:20 AM",
           "YSSY",
           "YBNA",
           "A320"
          ],
          [
           "JQ511",
           "10:55 AM",
           "YSSY",
           "YMML",
           "A320"
          ],
          [
           "JQ406",
           "11:00 AM",
           "YSSY",
           "YBCG",
           "A320"
          ],
          [
           "JQ898",
           "11:10 AM",
           "YSSY",
           "YBLN",
           "A320"
          ],
          [
           "JQ840",
           "11:20 AM",
           "YSSY",
           "YBPN",
           "A320"
          ],
          [
           "JQ952",
           "11:30 AM",
           "YSSY",
           "YBCS",
           "A21N"
          ],
          [
           "JQ513",
           "11:40 AM",
           "YSSY",
           "YMML",
           "A320"
          ],
          [
           "JQ848",
           "11:45 AM",
           "YSSY",
           "YBHM",
           "A320"
          ],
          [
           "JQ986",
           "11:55 AM",
           "YSSY",
           "YPPH",
           "A21N"
          ],
          [
           "JQ721",
           "12:30 PM",
           "YSSY",
           "YMHB",
           "A321"
          ],
          [
           "JQ515",
           "12:35 PM",
           "YSSY",
           "YMML",
           "A320"
          ],
          [
           "JQ609",
           "12:35 PM",
           "YSSY",
           "YMAV",
           "A320"
          ],
          [
           "JQ814",
           "01:00 PM",
           "YSSY",
           "YBBN",
           "A320"
          ],
          [
           "JQ788",
           "01:20 PM",
           "YSSY",
           "YBSU",
           "A320"
          ],
          [
           "JQ517",
           "01:35 PM",
           "YSSY",
           "YMML",
           "A320"
          ],
          [
           "NZ106",
           "01:55 PM",
           "YSSY",
           "NZAA",
           "A21N"
          ],
          [
           "JQ822",
           "02:00 PM",
           "YSSY",
           "YBBN",
           "A321"
          ],
          [
           "JQ460",
           "02:40 PM",
           "YSSY",
           "YBNA",
           "A320"
          ],
          [
           "JQ412",
           "02:55 PM",
           "YSSY",
           "YBCG",
           "A320"
          ],
          [
           "JQ764",
           "03:05 PM",
           "YSSY",
           "YPAD",
           "A320"
          ],
          [
           "JQ519",
           "03:10 PM",
           "YSSY",
           "YMML",
           "A320"
          ],
          [
           "JQ954",
           "03:35 PM",
           "YSSY",
           "YBCS",
           "A320"
          ],
          [
           "JQ511",
           "03:45 PM",
           "YSSY",
           "YMML",
           "A320"
          ],
          [
           "JQ521",
           "04:25 PM",
           "YSSY",
           "YMML",
           "A21N"
          ],
          [
           "JQ818",
           "04:55 PM",
           "YSSY",
           "YBBN",
           "A320"
          ],
          [
           "JQ523",
           "05:00 PM",
           "YSSY",
           "YMML",
           "A320"
          ],
          [
           "JQ725",
           "05:05 PM",
           "YSSY",
           "YMHB",
           "A320"
          ],
          [
           "JQ766",
           "05:25 PM",
           "YSSY",
           "YPAD",
           "A321"
          ],
          [
           "JQ790",
           "05:35 PM",
           "YSSY",
           "YBSU",
           "A320"
          ],
          [
           "JQ37",
           "05:40 PM",
           "YSSY",
           "WADD",
           "A21N"
          ],
          [
           "JQ414",
           "05:45 PM",
           "YSSY",
           "YBCG",
           "A320"
          ],
          [
           "NZ226",
           "05:45 PM",
           "YSSY",
           "NZCH",
           "A20N"
          ],
          [
           "JQ527",
           "06:00 PM",
           "YSSY",
           "YMML",
           "A320"
          ],
          [
           "JQ820",
           "06:25 PM",
           "YSSY",
           "YBBN",
           "A321"
          ],
          [
           "NZ240",
           "06:25 PM",
           "YSSY",
           "NZWN",
           "A20N"
          ],
          [
           "JQ611",
           "06:45 PM",
           "YSSY",
           "YMAV",
           "A320"
          ],
          [
           "JQ416",
           "07:00 PM",
           "YSSY",
           "YBCG",
           "A320"
          ],
          [
           "NZ112",
           "07:15 PM",
           "YSSY",
           "NZAA",
           "A21N"
          ],
          [
           "JQ988",
           "07:50 PM",
           "YSSY",
           "YPPH",
           "A320"
          ],
          [
           "JQ768",
           "08:15 PM",
           "YSSY",
           "YPAD",
           "A320"
          ],
          [
           "JQ531",
           "08:55 PM",
           "YSSY",
           "YMML",
           "320"
          ],
          [
           "JQ824",
           "09:15 PM",
           "YSSY",
           "YBBN",
           "A320"
          ],
          [
           "JQ418",
           "09:45 PM",
           "YSSY",
           "YBCG",
           "A320"
          ],
          [
           "JQ613",
           "09:45 PM",
           "YSSY",
           "YMAV",
           "A320"
          ],
          [
           "QF7523",
           "10:10 PM",
           "YSSY",
           "NZAA",
           "32X"
          ],
          [
           "QF7340",
           "10:20 PM",
           "YSSY",
           "YBBN",
           "32X"
          ]
         ],
         "hovertemplate": "Number: <b>%{customdata[0]}</b><br>Time: <b>%{customdata[1]}</b><br><br>Origin: %{customdata[2]}<br>Destination: %{customdata[3]}<extra></extra>",
         "hovertext": [
          "JQ501",
          "JQ603",
          "JQ950",
          "JQ400",
          "JQ719",
          "JQ747",
          "JQ810",
          "JQ223",
          "JQ39",
          "JQ912",
          "JQ505",
          "JQ760",
          "JQ402",
          "JQ456",
          "JQ784",
          "NZ110",
          "JQ605",
          "JQ507",
          "JQ201",
          "NZ232",
          "JQ404",
          "JQ509",
          "JQ762",
          "JQ812",
          "JQ786",
          "JQ458",
          "JQ511",
          "JQ406",
          "JQ898",
          "JQ840",
          "JQ952",
          "JQ513",
          "JQ848",
          "JQ986",
          "JQ721",
          "JQ515",
          "JQ609",
          "JQ814",
          "JQ788",
          "JQ517",
          "NZ106",
          "JQ822",
          "JQ460",
          "JQ412",
          "JQ764",
          "JQ519",
          "JQ954",
          "JQ511",
          "JQ521",
          "JQ818",
          "JQ523",
          "JQ725",
          "JQ766",
          "JQ790",
          "JQ37",
          "JQ414",
          "NZ226",
          "JQ527",
          "JQ820",
          "NZ240",
          "JQ611",
          "JQ416",
          "NZ112",
          "JQ988",
          "JQ768",
          "JQ531",
          "JQ824",
          "JQ418",
          "JQ613",
          "QF7523",
          "QF7340"
         ],
         "legendgroup": "A320, takeoff",
         "marker": {
          "color": "#EF553B",
          "size": 10,
          "sizemode": "area",
          "sizeref": 10,
          "symbol": "triangle-up"
         },
         "mode": "markers",
         "name": "A320, takeoff",
         "orientation": "v",
         "showlegend": true,
         "type": "scatter",
         "x": [
          "2024-11-25T06:00:00",
          "2024-11-25T06:00:00",
          "2024-11-25T06:00:00",
          "2024-11-25T06:10:00",
          "2024-11-25T06:10:00",
          "2024-11-25T06:10:00",
          "2024-11-25T06:20:00",
          "2024-11-25T06:25:00",
          "2024-11-25T06:35:00",
          "2024-11-25T06:40:00",
          "2024-11-25T07:00:00",
          "2024-11-25T07:05:00",
          "2024-11-25T07:10:00",
          "2024-11-25T07:20:00",
          "2024-11-25T07:20:00",
          "2024-11-25T07:55:00",
          "2024-11-25T08:10:00",
          "2024-11-25T08:20:00",
          "2024-11-25T09:00:00",
          "2024-11-25T09:05:00",
          "2024-11-25T09:10:00",
          "2024-11-25T09:15:00",
          "2024-11-25T09:30:00",
          "2024-11-25T09:35:00",
          "2024-11-25T10:15:00",
          "2024-11-25T10:20:00",
          "2024-11-25T10:55:00",
          "2024-11-25T11:00:00",
          "2024-11-25T11:10:00",
          "2024-11-25T11:20:00",
          "2024-11-25T11:30:00",
          "2024-11-25T11:40:00",
          "2024-11-25T11:45:00",
          "2024-11-25T11:55:00",
          "2024-11-25T12:30:00",
          "2024-11-25T12:35:00",
          "2024-11-25T12:35:00",
          "2024-11-25T13:00:00",
          "2024-11-25T13:20:00",
          "2024-11-25T13:35:00",
          "2024-11-25T13:55:00",
          "2024-11-25T14:00:00",
          "2024-11-25T14:40:00",
          "2024-11-25T14:55:00",
          "2024-11-25T15:05:00",
          "2024-11-25T15:10:00",
          "2024-11-25T15:35:00",
          "2024-11-25T15:45:00",
          "2024-11-25T16:25:00",
          "2024-11-25T16:55:00",
          "2024-11-25T17:00:00",
          "2024-11-25T17:05:00",
          "2024-11-25T17:25:00",
          "2024-11-25T17:35:00",
          "2024-11-25T17:40:00",
          "2024-11-25T17:45:00",
          "2024-11-25T17:45:00",
          "2024-11-25T18:00:00",
          "2024-11-25T18:25:00",
          "2024-11-25T18:25:00",
          "2024-11-25T18:45:00",
          "2024-11-25T19:00:00",
          "2024-11-25T19:15:00",
          "2024-11-25T19:50:00",
          "2024-11-25T20:15:00",
          "2024-11-25T20:55:00",
          "2024-11-25T21:15:00",
          "2024-11-25T21:45:00",
          "2024-11-25T21:45:00",
          "2024-11-25T22:10:00",
          "2024-11-25T22:20:00"
         ],
         "xaxis": "x",
         "y": [
          "A320",
          "A320",
          "A320",
          "A320",
          "A320",
          "A320",
          "A320",
          "A320",
          "A320",
          "A320",
          "A320",
          "A320",
          "A320",
          "A320",
          "A320",
          "A320",
          "A320",
          "A320",
          "A320",
          "A320",
          "A320",
          "A320",
          "A320",
          "A320",
          "A320",
          "A320",
          "A320",
          "A320",
          "A320",
          "A320",
          "A320",
          "A320",
          "A320",
          "A320",
          "A320",
          "A320",
          "A320",
          "A320",
          "A320",
          "A320",
          "A320",
          "A320",
          "A320",
          "A320",
          "A320",
          "A320",
          "A320",
          "A320",
          "A320",
          "A320",
          "A320",
          "A320",
          "A320",
          "A320",
          "A320",
          "A320",
          "A320",
          "A320",
          "A320",
          "A320",
          "A320",
          "A320",
          "A320",
          "A320",
          "A320",
          "A320",
          "A320",
          "A320",
          "A320",
          "A320",
          "A320"
         ],
         "yaxis": "y"
        },
        {
         "customdata": [
          [
           "JQ989",
           "06:05 AM",
           "YPPH",
           "YSSY",
           "A320"
          ],
          [
           "JQ671",
           "06:10 AM",
           "YPDN",
           "YSSY",
           "A320"
          ],
          [
           "JQ602",
           "07:25 AM",
           "YMAV",
           "YSSY",
           "A320"
          ],
          [
           "JQ500",
           "07:30 AM",
           "YMML",
           "YSSY",
           "A320"
          ],
          [
           "NZ221",
           "07:50 AM",
           "NZCH",
           "YSSY",
           "A20N"
          ],
          [
           "JQ202",
           "08:00 AM",
           "NZAA",
           "YSSY",
           "A320"
          ],
          [
           "JQ502",
           "08:35 AM",
           "YMML",
           "YSSY",
           "A320"
          ],
          [
           "JQ401",
           "08:35 AM",
           "YBCG",
           "YSSY",
           "A320"
          ],
          [
           "JQ761",
           "08:45 AM",
           "YPAD",
           "YSSY",
           "A320"
          ],
          [
           "JQ811",
           "08:50 AM",
           "YBBN",
           "YSSY",
           "A320"
          ],
          [
           "JQ403",
           "09:35 AM",
           "YBCG",
           "YSSY",
           "A320"
          ],
          [
           "JQ604",
           "09:45 AM",
           "YMAV",
           "YSSY",
           "A320"
          ],
          [
           "JQ504",
           "09:50 AM",
           "YMML",
           "YSSY",
           "A320"
          ],
          [
           "JQ748",
           "10:10 AM",
           "YMLT",
           "YSSY",
           "A320"
          ],
          [
           "JQ813",
           "10:10 AM",
           "YBBN",
           "YSSY",
           "A320"
          ],
          [
           "JQ718",
           "10:35 AM",
           "YMHB",
           "YSSY",
           "A21N"
          ],
          [
           "JQ405",
           "10:40 AM",
           "YBCG",
           "YSSY",
           "A320"
          ],
          [
           "JQ951",
           "10:40 AM",
           "YBCS",
           "YSSY",
           "A21N"
          ],
          [
           "JQ457",
           "10:45 AM",
           "YBNA",
           "YSSY",
           "A320"
          ],
          [
           "JQ508",
           "10:50 AM",
           "YMML",
           "YSSY",
           "A320"
          ],
          [
           "JQ785",
           "11:15 AM",
           "YBSU",
           "YSSY",
           "A320"
          ],
          [
           "JQ763",
           "11:40 AM",
           "YPAD",
           "YSSY",
           "A321"
          ],
          [
           "JQ7957",
           "11:55 AM",
           "YBCS",
           "YSSY",
           "A320"
          ],
          [
           "JQ510",
           "12:00 PM",
           "YMML",
           "YSSY",
           "A320"
          ],
          [
           "JQ608",
           "12:00 PM",
           "YMAV",
           "YSSY",
           "A320"
          ],
          [
           "JQ815",
           "12:20 PM",
           "YBBN",
           "YSSY",
           "A320"
          ],
          [
           "JQ913",
           "12:35 PM",
           "YBTL",
           "YSSY",
           "A320"
          ],
          [
           "NZ105",
           "12:40 PM",
           "NZAA",
           "YSSY",
           "A21N"
          ],
          [
           "JQ512",
           "12:55 PM",
           "YMML",
           "YSSY",
           "A320"
          ],
          [
           "JQ953",
           "01:05 PM",
           "YBCS",
           "YSSY",
           "A321"
          ],
          [
           "JQ142",
           "01:10 PM",
           "NCRG",
           "YSSY",
           "A21N"
          ],
          [
           "JQ224",
           "01:35 PM",
           "NZQN",
           "YSSY",
           "A320"
          ],
          [
           "JQ459",
           "01:40 PM",
           "YBNA",
           "YSSY",
           "A320"
          ],
          [
           "JQ787",
           "02:05 PM",
           "YBSU",
           "YSSY",
           "A320"
          ],
          [
           "JQ409",
           "02:25 PM",
           "YBCG",
           "YSSY",
           "A320"
          ],
          [
           "JQ765",
           "02:25 PM",
           "YPAD",
           "YSSY",
           "A320"
          ],
          [
           "JQ514",
           "02:40 PM",
           "YMML",
           "YSSY",
           "A320"
          ],
          [
           "JQ516",
           "03:20 PM",
           "YMML",
           "YSSY",
           "A320"
          ],
          [
           "JQ518",
           "03:45 PM",
           "YMML",
           "YSSY",
           "A21N"
          ],
          [
           "JQ819",
           "04:15 PM",
           "YBBN",
           "YSSY",
           "A320"
          ],
          [
           "JQ610",
           "04:20 PM",
           "YMAV",
           "YSSY",
           "A320"
          ],
          [
           "NZ231",
           "04:35 PM",
           "NZQN",
           "YSSY",
           "A20N"
          ],
          [
           "JQ720",
           "04:45 PM",
           "YMHB",
           "YSSY",
           "A321"
          ],
          [
           "JQ841",
           "04:50 PM",
           "YBPN",
           "YSSY",
           "A320"
          ],
          [
           "JQ411",
           "05:05 PM",
           "YBCG",
           "YSSY",
           "A320"
          ],
          [
           "JQ789",
           "05:15 PM",
           "YBSU",
           "YSSY",
           "A320"
          ],
          [
           "NZ249",
           "05:20 PM",
           "NZWN",
           "YSSY",
           "A20N"
          ],
          [
           "JQ849",
           "05:25 PM",
           "YBHM",
           "YSSY",
           "A320"
          ],
          [
           "JQ825",
           "05:40 PM",
           "YBBN",
           "YSSY",
           "A321"
          ],
          [
           "JQ461",
           "06:00 PM",
           "YBNA",
           "YSSY",
           "A320"
          ],
          [
           "NZ111",
           "06:05 PM",
           "NZAA",
           "YSSY",
           "A21N"
          ],
          [
           "JQ415",
           "06:20 PM",
           "YBCG",
           "YSSY",
           "A320"
          ],
          [
           "JQ522",
           "06:55 PM",
           "YMML",
           "YSSY",
           "A320"
          ],
          [
           "JQ767",
           "07:35 PM",
           "YPAD",
           "YSSY",
           "A320"
          ],
          [
           "JQ524",
           "08:15 PM",
           "YMML",
           "YSSY",
           "A320"
          ],
          [
           "JQ40",
           "08:20 PM",
           "WADD",
           "YSSY",
           "A21N"
          ],
          [
           "JQ821",
           "08:30 PM",
           "YBBN",
           "YSSY",
           "A320"
          ],
          [
           "JQ514",
           "08:34 PM",
           "YMML",
           "YSSY",
           "A320"
          ],
          [
           "JQ526",
           "08:45 PM",
           "YMML",
           "YSSY",
           "A320"
          ],
          [
           "JQ417",
           "09:10 PM",
           "YBCG",
           "YSSY",
           "A320"
          ],
          [
           "JQ724",
           "09:20 PM",
           "YMHB",
           "YSSY",
           "A320"
          ],
          [
           "QF7354",
           "09:25 PM",
           "YMML",
           "YSSY",
           "A321"
          ],
          [
           "JQ899",
           "09:30 PM",
           "YBLN",
           "YSSY",
           "A320"
          ],
          [
           "JQ791",
           "09:35 PM",
           "YBSU",
           "YSSY",
           "A320"
          ],
          [
           "JQ530",
           "09:45 PM",
           "YMML",
           "YSSY",
           "A320"
          ],
          [
           "NZ109",
           "09:45 PM",
           "NZAA",
           "YSSY",
           "A20N"
          ],
          [
           "JQ987",
           "10:00 PM",
           "YPPH",
           "YSSY",
           "A21N"
          ],
          [
           "JQ769",
           "10:05 PM",
           "YPAD",
           "YSSY",
           "A321"
          ],
          [
           "JQ823",
           "10:10 PM",
           "YBBN",
           "YSSY",
           "A321"
          ],
          [
           "JQ419",
           "10:15 PM",
           "YBCG",
           "YSSY",
           "A320"
          ],
          [
           "JQ612",
           "10:20 PM",
           "YMAV",
           "YSSY",
           "A320"
          ],
          [
           "JQ957",
           "10:20 PM",
           "YBCS",
           "YSSY",
           "A320"
          ]
         ],
         "hovertemplate": "Number: <b>%{customdata[0]}</b><br>Time: <b>%{customdata[1]}</b><br><br>Origin: %{customdata[2]}<br>Destination: %{customdata[3]}<extra></extra>",
         "hovertext": [
          "JQ989",
          "JQ671",
          "JQ602",
          "JQ500",
          "NZ221",
          "JQ202",
          "JQ502",
          "JQ401",
          "JQ761",
          "JQ811",
          "JQ403",
          "JQ604",
          "JQ504",
          "JQ748",
          "JQ813",
          "JQ718",
          "JQ405",
          "JQ951",
          "JQ457",
          "JQ508",
          "JQ785",
          "JQ763",
          "JQ7957",
          "JQ510",
          "JQ608",
          "JQ815",
          "JQ913",
          "NZ105",
          "JQ512",
          "JQ953",
          "JQ142",
          "JQ224",
          "JQ459",
          "JQ787",
          "JQ409",
          "JQ765",
          "JQ514",
          "JQ516",
          "JQ518",
          "JQ819",
          "JQ610",
          "NZ231",
          "JQ720",
          "JQ841",
          "JQ411",
          "JQ789",
          "NZ249",
          "JQ849",
          "JQ825",
          "JQ461",
          "NZ111",
          "JQ415",
          "JQ522",
          "JQ767",
          "JQ524",
          "JQ40",
          "JQ821",
          "JQ514",
          "JQ526",
          "JQ417",
          "JQ724",
          "QF7354",
          "JQ899",
          "JQ791",
          "JQ530",
          "NZ109",
          "JQ987",
          "JQ769",
          "JQ823",
          "JQ419",
          "JQ612",
          "JQ957"
         ],
         "legendgroup": "A320, landing",
         "marker": {
          "color": "#EF553B",
          "size": 10,
          "sizemode": "area",
          "sizeref": 10,
          "symbol": "triangle-down"
         },
         "mode": "markers",
         "name": "A320, landing",
         "orientation": "v",
         "showlegend": true,
         "type": "scatter",
         "x": [
          "2024-11-25T06:05:00",
          "2024-11-25T06:10:00",
          "2024-11-25T07:25:00",
          "2024-11-25T07:30:00",
          "2024-11-25T07:50:00",
          "2024-11-25T08:00:00",
          "2024-11-25T08:35:00",
          "2024-11-25T08:35:00",
          "2024-11-25T08:45:00",
          "2024-11-25T08:50:00",
          "2024-11-25T09:35:00",
          "2024-11-25T09:45:00",
          "2024-11-25T09:50:00",
          "2024-11-25T10:10:00",
          "2024-11-25T10:10:00",
          "2024-11-25T10:35:00",
          "2024-11-25T10:40:00",
          "2024-11-25T10:40:00",
          "2024-11-25T10:45:00",
          "2024-11-25T10:50:00",
          "2024-11-25T11:15:00",
          "2024-11-25T11:40:00",
          "2024-11-25T11:55:00",
          "2024-11-25T12:00:00",
          "2024-11-25T12:00:00",
          "2024-11-25T12:20:00",
          "2024-11-25T12:35:00",
          "2024-11-25T12:40:00",
          "2024-11-25T12:55:00",
          "2024-11-25T13:05:00",
          "2024-11-25T13:10:00",
          "2024-11-25T13:35:00",
          "2024-11-25T13:40:00",
          "2024-11-25T14:05:00",
          "2024-11-25T14:25:00",
          "2024-11-25T14:25:00",
          "2024-11-25T14:40:00",
          "2024-11-25T15:20:00",
          "2024-11-25T15:45:00",
          "2024-11-25T16:15:00",
          "2024-11-25T16:20:00",
          "2024-11-25T16:35:00",
          "2024-11-25T16:45:00",
          "2024-11-25T16:50:00",
          "2024-11-25T17:05:00",
          "2024-11-25T17:15:00",
          "2024-11-25T17:20:00",
          "2024-11-25T17:25:00",
          "2024-11-25T17:40:00",
          "2024-11-25T18:00:00",
          "2024-11-25T18:05:00",
          "2024-11-25T18:20:00",
          "2024-11-25T18:55:00",
          "2024-11-25T19:35:00",
          "2024-11-25T20:15:00",
          "2024-11-25T20:20:00",
          "2024-11-25T20:30:00",
          "2024-11-25T20:34:00",
          "2024-11-25T20:45:00",
          "2024-11-25T21:10:00",
          "2024-11-25T21:20:00",
          "2024-11-25T21:25:00",
          "2024-11-25T21:30:00",
          "2024-11-25T21:35:00",
          "2024-11-25T21:45:00",
          "2024-11-25T21:45:00",
          "2024-11-25T22:00:00",
          "2024-11-25T22:05:00",
          "2024-11-25T22:10:00",
          "2024-11-25T22:15:00",
          "2024-11-25T22:20:00",
          "2024-11-25T22:20:00"
         ],
         "xaxis": "x",
         "y": [
          "A320",
          "A320",
          "A320",
          "A320",
          "A320",
          "A320",
          "A320",
          "A320",
          "A320",
          "A320",
          "A320",
          "A320",
          "A320",
          "A320",
          "A320",
          "A320",
          "A320",
          "A320",
          "A320",
          "A320",
          "A320",
          "A320",
          "A320",
          "A320",
          "A320",
          "A320",
          "A320",
          "A320",
          "A320",
          "A320",
          "A320",
          "A320",
          "A320",
          "A320",
          "A320",
          "A320",
          "A320",
          "A320",
          "A320",
          "A320",
          "A320",
          "A320",
          "A320",
          "A320",
          "A320",
          "A320",
          "A320",
          "A320",
          "A320",
          "A320",
          "A320",
          "A320",
          "A320",
          "A320",
          "A320",
          "A320",
          "A320",
          "A320",
          "A320",
          "A320",
          "A320",
          "A320",
          "A320",
          "A320",
          "A320",
          "A320",
          "A320",
          "A320",
          "A320",
          "A320",
          "A320",
          "A320"
         ],
         "yaxis": "y"
        },
        {
         "customdata": [
          [
           "QF1421",
           "06:05 AM",
           "YSSY",
           "YSCB",
           "DH8D"
          ],
          [
           "QF1423",
           "06:35 AM",
           "YSSY",
           "YSCB",
           "DH8D"
          ],
          [
           "QF2260",
           "07:00 AM",
           "YSSY",
           "YLHI",
           "DH8B"
          ],
          [
           "QF1425",
           "07:05 AM",
           "YSSY",
           "YSCB",
           "DH8D"
          ],
          [
           "QF1427",
           "07:25 AM",
           "YSSY",
           "YSCB",
           "DH8D"
          ],
          [
           "QF2180",
           "07:50 AM",
           "YSSY",
           "YMOR",
           "DH8D"
          ],
          [
           "QF1429",
           "08:05 AM",
           "YSSY",
           "YSCB",
           "DH8D"
          ],
          [
           "QF2102",
           "08:20 AM",
           "YSSY",
           "YCFS",
           "DH8D"
          ],
          [
           "QF2009",
           "08:25 AM",
           "YSSY",
           "YORG",
           "DH8D"
          ],
          [
           "QF2020",
           "08:30 AM",
           "YSSY",
           "YARM",
           "DH8D"
          ],
          [
           "QF2160",
           "08:35 AM",
           "YSSY",
           "YPMQ",
           "DH8D"
          ],
          [
           "QF2203",
           "08:40 AM",
           "YSSY",
           "YMAY",
           "DH8D"
          ],
          [
           "QF2038",
           "08:45 AM",
           "YSSY",
           "YSDU",
           "DH8D"
          ],
          [
           "QF2221",
           "08:50 AM",
           "YSSY",
           "YSWG",
           "DH8C"
          ],
          [
           "QF2002",
           "08:55 AM",
           "YSSY",
           "YSTW",
           "DH8D"
          ],
          [
           "QF1431",
           "09:20 AM",
           "YSSY",
           "YSCB",
           "DH8D"
          ],
          [
           "QF1433",
           "09:35 AM",
           "YSSY",
           "YSCB",
           "DH8D"
          ],
          [
           "QF2062",
           "09:45 AM",
           "YSSY",
           "YBNA",
           "DH8D"
          ],
          [
           "n/a",
           "10:30 AM",
           "YSSY",
           "YMML",
           "DH8D"
          ],
          [
           "QF1435",
           "10:35 AM",
           "YSSY",
           "YSCB",
           "DH8D"
          ],
          [
           "QF2162",
           "10:45 AM",
           "YSSY",
           "YPMQ",
           "DH8D"
          ],
          [
           "QF2017",
           "11:05 AM",
           "YSSY",
           "YBHI",
           "DH8D"
          ],
          [
           "QF2223",
           "11:35 AM",
           "YSSY",
           "YSWG",
           "DH8D"
          ],
          [
           "QF2104",
           "11:45 AM",
           "YSSY",
           "YCFS",
           "DH8D"
          ],
          [
           "QF1412",
           "11:50 AM",
           "YSSY",
           "YBWW",
           "DH8D"
          ],
          [
           "QF2040",
           "11:55 AM",
           "YSSY",
           "YSDU",
           "DH8D"
          ],
          [
           "QF2004",
           "12:05 PM",
           "YSSY",
           "YSTW",
           "DH8D"
          ],
          [
           "QF2177",
           "12:05 PM",
           "YSSY",
           "YMER",
           "DH8D"
          ],
          [
           "QF1439",
           "12:10 PM",
           "YSSY",
           "YSCB",
           "DH8D"
          ],
          [
           "QF2623",
           "12:15 PM",
           "YSSY",
           "YCOM",
           "DH8D"
          ],
          [
           "QF2123",
           "12:30 PM",
           "YSSY",
           "YGTH",
           "DH8D"
          ],
          [
           "QF2264",
           "12:30 PM",
           "YSSY",
           "YLHI",
           "DH8B"
          ],
          [
           "QF2225",
           "02:35 PM",
           "YSSY",
           "YSWG",
           "DH8D"
          ],
          [
           "QF1441",
           "02:50 PM",
           "YSSY",
           "YSCB",
           "DH8D"
          ],
          [
           "QF2207",
           "03:00 PM",
           "YSSY",
           "YMAY",
           "DH8D"
          ],
          [
           "QF2106",
           "03:05 PM",
           "YSSY",
           "YCFS",
           "DH8D"
          ],
          [
           "QF2164",
           "03:05 PM",
           "YSSY",
           "YPMQ",
           "DH8D"
          ],
          [
           "QF2011",
           "03:10 PM",
           "YSSY",
           "YORG",
           "DH8D"
          ],
          [
           "QF2006",
           "03:20 PM",
           "YSSY",
           "YSTW",
           "DH8D"
          ],
          [
           "QF2042",
           "03:20 PM",
           "YSSY",
           "YSDU",
           "DH8D"
          ],
          [
           "QF2030",
           "03:25 PM",
           "YSSY",
           "YARM",
           "DH8D"
          ],
          [
           "QF1445",
           "03:35 PM",
           "YSSY",
           "YSCB",
           "DH8D"
          ],
          [
           "QF2182",
           "05:15 PM",
           "YSSY",
           "YMOR",
           "DH8D"
          ],
          [
           "QF1455",
           "05:35 PM",
           "YSSY",
           "YSCB",
           "DH8D"
          ],
          [
           "QF1407",
           "05:55 PM",
           "YSSY",
           "YBDG",
           "DH8D"
          ],
          [
           "QF1401",
           "06:10 PM",
           "YSSY",
           "YMIA",
           "DH8D"
          ],
          [
           "QF1457",
           "06:35 PM",
           "YSSY",
           "YSCB",
           "DH8D"
          ],
          [
           "QF2166",
           "06:40 PM",
           "YSSY",
           "YPMQ",
           "DH8D"
          ],
          [
           "QF2044",
           "06:45 PM",
           "YSSY",
           "YSDU",
           "DH8D"
          ],
          [
           "QF2034",
           "06:50 PM",
           "YSSY",
           "YARM",
           "DH8D"
          ],
          [
           "QF2209",
           "06:50 PM",
           "YSSY",
           "YMAY",
           "DH8D"
          ],
          [
           "QF2227",
           "06:50 PM",
           "YSSY",
           "YSWG",
           "DH8D"
          ],
          [
           "QF2108",
           "07:00 PM",
           "YSSY",
           "YCFS",
           "DH8D"
          ],
          [
           "QF2008",
           "07:05 PM",
           "YSSY",
           "YSTW",
           "DH8D"
          ],
          [
           "QF2013",
           "07:20 PM",
           "YSSY",
           "YORG",
           "DH8D"
          ],
          [
           "QF1459",
           "09:10 PM",
           "YSSY",
           "YSCB",
           "DH8D"
          ]
         ],
         "hovertemplate": "Number: <b>%{customdata[0]}</b><br>Time: <b>%{customdata[1]}</b><br><br>Origin: %{customdata[2]}<br>Destination: %{customdata[3]}<extra></extra>",
         "hovertext": [
          "QF1421",
          "QF1423",
          "QF2260",
          "QF1425",
          "QF1427",
          "QF2180",
          "QF1429",
          "QF2102",
          "QF2009",
          "QF2020",
          "QF2160",
          "QF2203",
          "QF2038",
          "QF2221",
          "QF2002",
          "QF1431",
          "QF1433",
          "QF2062",
          "n/a",
          "QF1435",
          "QF2162",
          "QF2017",
          "QF2223",
          "QF2104",
          "QF1412",
          "QF2040",
          "QF2004",
          "QF2177",
          "QF1439",
          "QF2623",
          "QF2123",
          "QF2264",
          "QF2225",
          "QF1441",
          "QF2207",
          "QF2106",
          "QF2164",
          "QF2011",
          "QF2006",
          "QF2042",
          "QF2030",
          "QF1445",
          "QF2182",
          "QF1455",
          "QF1407",
          "QF1401",
          "QF1457",
          "QF2166",
          "QF2044",
          "QF2034",
          "QF2209",
          "QF2227",
          "QF2108",
          "QF2008",
          "QF2013",
          "QF1459"
         ],
         "legendgroup": "DHC8, takeoff",
         "marker": {
          "color": "#00cc96",
          "size": 10,
          "sizemode": "area",
          "sizeref": 10,
          "symbol": "triangle-up"
         },
         "mode": "markers",
         "name": "DHC8, takeoff",
         "orientation": "v",
         "showlegend": true,
         "type": "scatter",
         "x": [
          "2024-11-25T06:05:00",
          "2024-11-25T06:35:00",
          "2024-11-25T07:00:00",
          "2024-11-25T07:05:00",
          "2024-11-25T07:25:00",
          "2024-11-25T07:50:00",
          "2024-11-25T08:05:00",
          "2024-11-25T08:20:00",
          "2024-11-25T08:25:00",
          "2024-11-25T08:30:00",
          "2024-11-25T08:35:00",
          "2024-11-25T08:40:00",
          "2024-11-25T08:45:00",
          "2024-11-25T08:50:00",
          "2024-11-25T08:55:00",
          "2024-11-25T09:20:00",
          "2024-11-25T09:35:00",
          "2024-11-25T09:45:00",
          "2024-11-25T10:30:00",
          "2024-11-25T10:35:00",
          "2024-11-25T10:45:00",
          "2024-11-25T11:05:00",
          "2024-11-25T11:35:00",
          "2024-11-25T11:45:00",
          "2024-11-25T11:50:00",
          "2024-11-25T11:55:00",
          "2024-11-25T12:05:00",
          "2024-11-25T12:05:00",
          "2024-11-25T12:10:00",
          "2024-11-25T12:15:00",
          "2024-11-25T12:30:00",
          "2024-11-25T12:30:00",
          "2024-11-25T14:35:00",
          "2024-11-25T14:50:00",
          "2024-11-25T15:00:00",
          "2024-11-25T15:05:00",
          "2024-11-25T15:05:00",
          "2024-11-25T15:10:00",
          "2024-11-25T15:20:00",
          "2024-11-25T15:20:00",
          "2024-11-25T15:25:00",
          "2024-11-25T15:35:00",
          "2024-11-25T17:15:00",
          "2024-11-25T17:35:00",
          "2024-11-25T17:55:00",
          "2024-11-25T18:10:00",
          "2024-11-25T18:35:00",
          "2024-11-25T18:40:00",
          "2024-11-25T18:45:00",
          "2024-11-25T18:50:00",
          "2024-11-25T18:50:00",
          "2024-11-25T18:50:00",
          "2024-11-25T19:00:00",
          "2024-11-25T19:05:00",
          "2024-11-25T19:20:00",
          "2024-11-25T21:10:00"
         ],
         "xaxis": "x",
         "y": [
          "DHC8",
          "DHC8",
          "DHC8",
          "DHC8",
          "DHC8",
          "DHC8",
          "DHC8",
          "DHC8",
          "DHC8",
          "DHC8",
          "DHC8",
          "DHC8",
          "DHC8",
          "DHC8",
          "DHC8",
          "DHC8",
          "DHC8",
          "DHC8",
          "DHC8",
          "DHC8",
          "DHC8",
          "DHC8",
          "DHC8",
          "DHC8",
          "DHC8",
          "DHC8",
          "DHC8",
          "DHC8",
          "DHC8",
          "DHC8",
          "DHC8",
          "DHC8",
          "DHC8",
          "DHC8",
          "DHC8",
          "DHC8",
          "DHC8",
          "DHC8",
          "DHC8",
          "DHC8",
          "DHC8",
          "DHC8",
          "DHC8",
          "DHC8",
          "DHC8",
          "DHC8",
          "DHC8",
          "DHC8",
          "DHC8",
          "DHC8",
          "DHC8",
          "DHC8",
          "DHC8",
          "DHC8",
          "DHC8",
          "DHC8"
         ],
         "yaxis": "y"
        },
        {
         "customdata": [
          [
           "QF1420",
           "06:55 AM",
           "YSCB",
           "YSSY",
           "DH8D"
          ],
          [
           "QF2001",
           "07:35 AM",
           "YSTW",
           "YSSY",
           "DH8D"
          ],
          [
           "QF2014",
           "07:35 AM",
           "YORG",
           "YSSY",
           "DH8D"
          ],
          [
           "QF2037",
           "07:40 AM",
           "YSDU",
           "YSSY",
           "DH8C"
          ],
          [
           "QF2220",
           "07:40 AM",
           "YSWG",
           "YSSY",
           "DH8D"
          ],
          [
           "QF2019",
           "07:45 AM",
           "YARM",
           "YSSY",
           "DH8D"
          ],
          [
           "QF2161",
           "07:45 AM",
           "YPMQ",
           "YSSY",
           "DH8D"
          ],
          [
           "QF2101",
           "07:50 AM",
           "YCFS",
           "YSSY",
           "DH8D"
          ],
          [
           "QF1422",
           "08:00 AM",
           "YSCB",
           "YSSY",
           "DH8D"
          ],
          [
           "QF2202",
           "08:05 AM",
           "YMAY",
           "YSSY",
           "DH8C"
          ],
          [
           "QF1408",
           "08:25 AM",
           "YBDG",
           "YSSY",
           "DH8D"
          ],
          [
           "QF1424",
           "08:35 AM",
           "YSCB",
           "YSSY",
           "DH8D"
          ],
          [
           "QF1402",
           "08:45 AM",
           "YMIA",
           "YSSY",
           "DH8D"
          ],
          [
           "QF1426",
           "09:05 AM",
           "YSCB",
           "YSSY",
           "DH8D"
          ],
          [
           "QF1428",
           "09:35 AM",
           "YSCB",
           "YSSY",
           "DH8D"
          ],
          [
           "QF1430",
           "10:05 AM",
           "YSCB",
           "YSSY",
           "DH8D"
          ],
          [
           "QF1432",
           "10:35 AM",
           "YSCB",
           "YSSY",
           "DH8D"
          ],
          [
           "QF2010",
           "10:50 AM",
           "YORG",
           "YSSY",
           "DH8D"
          ],
          [
           "QF2163",
           "11:15 AM",
           "YPMQ",
           "YSSY",
           "DH8D"
          ],
          [
           "QF2103",
           "11:20 AM",
           "YCFS",
           "YSSY",
           "DH8D"
          ],
          [
           "QF2039",
           "11:25 AM",
           "YSDU",
           "YSSY",
           "DH8D"
          ],
          [
           "QF2003",
           "11:30 AM",
           "YSTW",
           "YSSY",
           "DH8D"
          ],
          [
           "QF2021",
           "11:30 AM",
           "YARM",
           "YSSY",
           "DH8D"
          ],
          [
           "QF1434",
           "11:35 AM",
           "YSCB",
           "YSSY",
           "DH8D"
          ],
          [
           "QF2222",
           "11:40 AM",
           "YSWG",
           "YSSY",
           "DH8C"
          ],
          [
           "QF2204",
           "11:45 AM",
           "YMAY",
           "YSSY",
           "DH8D"
          ],
          [
           "QF1436",
           "11:50 AM",
           "YSCB",
           "YSSY",
           "DH8D"
          ],
          [
           "QF2181",
           "11:50 AM",
           "YMOR",
           "YSSY",
           "DH8D"
          ],
          [
           "QF2261",
           "11:55 AM",
           "YLHI",
           "YSSY",
           "DH8B"
          ],
          [
           "QF1438",
           "12:50 PM",
           "YSCB",
           "YSSY",
           "DH8D"
          ],
          [
           "QF2063",
           "01:15 PM",
           "YBNA",
           "YSSY",
           "DH8D"
          ],
          [
           "QF2224",
           "02:25 PM",
           "YSWG",
           "YSSY",
           "DH8D"
          ],
          [
           "QF1442",
           "02:30 PM",
           "YSCB",
           "YSSY",
           "DH8D"
          ],
          [
           "QF2005",
           "02:35 PM",
           "YSTW",
           "YSSY",
           "DH8D"
          ],
          [
           "QF2041",
           "02:35 PM",
           "YSDU",
           "YSSY",
           "DH8D"
          ],
          [
           "QF2105",
           "02:50 PM",
           "YCFS",
           "YSSY",
           "DH8D"
          ],
          [
           "QF2624",
           "02:50 PM",
           "YCOM",
           "YSSY",
           "DH8D"
          ],
          [
           "QF2178",
           "02:55 PM",
           "YMER",
           "YSSY",
           "DH8D"
          ],
          [
           "QF1411",
           "03:50 PM",
           "YBWW",
           "YSSY",
           "DH8D"
          ],
          [
           "QF2016",
           "04:00 PM",
           "YBHI",
           "YSSY",
           "DH8D"
          ],
          [
           "QF2122",
           "04:15 PM",
           "YGTH",
           "YSSY",
           "DH8D"
          ],
          [
           "QF2167",
           "05:00 PM",
           "YPMQ",
           "YSSY",
           "DH8D"
          ],
          [
           "QF1444",
           "05:05 PM",
           "YSCB",
           "YSSY",
           "DH8D"
          ],
          [
           "QF2265",
           "05:20 PM",
           "YLHI",
           "YSSY",
           "DH8B"
          ],
          [
           "QF2226",
           "05:25 PM",
           "YSWG",
           "YSSY",
           "DH8D"
          ],
          [
           "QF2012",
           "05:35 PM",
           "YORG",
           "YSSY",
           "DH8D"
          ],
          [
           "QF2169",
           "05:40 PM",
           "YPMQ",
           "YSSY",
           "DH8D"
          ],
          [
           "QF2007",
           "05:55 PM",
           "YSTW",
           "YSSY",
           "DH8D"
          ],
          [
           "QF2043",
           "06:00 PM",
           "YSDU",
           "YSSY",
           "DH8D"
          ],
          [
           "QF1450",
           "06:05 PM",
           "YSCB",
           "YSSY",
           "DH8D"
          ],
          [
           "QF2107",
           "06:05 PM",
           "YCFS",
           "YSSY",
           "DH8D"
          ],
          [
           "QF2208",
           "06:05 PM",
           "YMAY",
           "YSSY",
           "DH8D"
          ],
          [
           "QF2031",
           "06:15 PM",
           "YARM",
           "YSSY",
           "DH8D"
          ],
          [
           "QF1456",
           "08:05 PM",
           "YSCB",
           "YSSY",
           "DH8D"
          ],
          [
           "QF2183",
           "08:45 PM",
           "YMOR",
           "YSSY",
           "DH8D"
          ]
         ],
         "hovertemplate": "Number: <b>%{customdata[0]}</b><br>Time: <b>%{customdata[1]}</b><br><br>Origin: %{customdata[2]}<br>Destination: %{customdata[3]}<extra></extra>",
         "hovertext": [
          "QF1420",
          "QF2001",
          "QF2014",
          "QF2037",
          "QF2220",
          "QF2019",
          "QF2161",
          "QF2101",
          "QF1422",
          "QF2202",
          "QF1408",
          "QF1424",
          "QF1402",
          "QF1426",
          "QF1428",
          "QF1430",
          "QF1432",
          "QF2010",
          "QF2163",
          "QF2103",
          "QF2039",
          "QF2003",
          "QF2021",
          "QF1434",
          "QF2222",
          "QF2204",
          "QF1436",
          "QF2181",
          "QF2261",
          "QF1438",
          "QF2063",
          "QF2224",
          "QF1442",
          "QF2005",
          "QF2041",
          "QF2105",
          "QF2624",
          "QF2178",
          "QF1411",
          "QF2016",
          "QF2122",
          "QF2167",
          "QF1444",
          "QF2265",
          "QF2226",
          "QF2012",
          "QF2169",
          "QF2007",
          "QF2043",
          "QF1450",
          "QF2107",
          "QF2208",
          "QF2031",
          "QF1456",
          "QF2183"
         ],
         "legendgroup": "DHC8, landing",
         "marker": {
          "color": "#00cc96",
          "size": 10,
          "sizemode": "area",
          "sizeref": 10,
          "symbol": "triangle-down"
         },
         "mode": "markers",
         "name": "DHC8, landing",
         "orientation": "v",
         "showlegend": true,
         "type": "scatter",
         "x": [
          "2024-11-25T06:55:00",
          "2024-11-25T07:35:00",
          "2024-11-25T07:35:00",
          "2024-11-25T07:40:00",
          "2024-11-25T07:40:00",
          "2024-11-25T07:45:00",
          "2024-11-25T07:45:00",
          "2024-11-25T07:50:00",
          "2024-11-25T08:00:00",
          "2024-11-25T08:05:00",
          "2024-11-25T08:25:00",
          "2024-11-25T08:35:00",
          "2024-11-25T08:45:00",
          "2024-11-25T09:05:00",
          "2024-11-25T09:35:00",
          "2024-11-25T10:05:00",
          "2024-11-25T10:35:00",
          "2024-11-25T10:50:00",
          "2024-11-25T11:15:00",
          "2024-11-25T11:20:00",
          "2024-11-25T11:25:00",
          "2024-11-25T11:30:00",
          "2024-11-25T11:30:00",
          "2024-11-25T11:35:00",
          "2024-11-25T11:40:00",
          "2024-11-25T11:45:00",
          "2024-11-25T11:50:00",
          "2024-11-25T11:50:00",
          "2024-11-25T11:55:00",
          "2024-11-25T12:50:00",
          "2024-11-25T13:15:00",
          "2024-11-25T14:25:00",
          "2024-11-25T14:30:00",
          "2024-11-25T14:35:00",
          "2024-11-25T14:35:00",
          "2024-11-25T14:50:00",
          "2024-11-25T14:50:00",
          "2024-11-25T14:55:00",
          "2024-11-25T15:50:00",
          "2024-11-25T16:00:00",
          "2024-11-25T16:15:00",
          "2024-11-25T17:00:00",
          "2024-11-25T17:05:00",
          "2024-11-25T17:20:00",
          "2024-11-25T17:25:00",
          "2024-11-25T17:35:00",
          "2024-11-25T17:40:00",
          "2024-11-25T17:55:00",
          "2024-11-25T18:00:00",
          "2024-11-25T18:05:00",
          "2024-11-25T18:05:00",
          "2024-11-25T18:05:00",
          "2024-11-25T18:15:00",
          "2024-11-25T20:05:00",
          "2024-11-25T20:45:00"
         ],
         "xaxis": "x",
         "y": [
          "DHC8",
          "DHC8",
          "DHC8",
          "DHC8",
          "DHC8",
          "DHC8",
          "DHC8",
          "DHC8",
          "DHC8",
          "DHC8",
          "DHC8",
          "DHC8",
          "DHC8",
          "DHC8",
          "DHC8",
          "DHC8",
          "DHC8",
          "DHC8",
          "DHC8",
          "DHC8",
          "DHC8",
          "DHC8",
          "DHC8",
          "DHC8",
          "DHC8",
          "DHC8",
          "DHC8",
          "DHC8",
          "DHC8",
          "DHC8",
          "DHC8",
          "DHC8",
          "DHC8",
          "DHC8",
          "DHC8",
          "DHC8",
          "DHC8",
          "DHC8",
          "DHC8",
          "DHC8",
          "DHC8",
          "DHC8",
          "DHC8",
          "DHC8",
          "DHC8",
          "DHC8",
          "DHC8",
          "DHC8",
          "DHC8",
          "DHC8",
          "DHC8",
          "DHC8",
          "DHC8",
          "DHC8",
          "DHC8"
         ],
         "yaxis": "y"
        },
        {
         "customdata": [
          [
           "ZL6852",
           "07:00 AM",
           "YSSY",
           "YSDU",
           "SF34"
          ],
          [
           "VA630",
           "07:35 AM",
           "YSSY",
           "YSCB",
           "SF34"
          ],
          [
           "ZL6166",
           "08:10 AM",
           "YSSY",
           "YORG",
           "SF3"
          ],
          [
           "ZL6824",
           "08:15 AM",
           "YSSY",
           "YSDU",
           "SF34"
          ],
          [
           "ZL6463",
           "08:25 AM",
           "YSSY",
           "YGTH",
           "SF34"
          ],
          [
           "ZL6661",
           "08:45 AM",
           "YSSY",
           "YSWG",
           "SF34"
          ],
          [
           "VA634",
           "08:50 AM",
           "YSSY",
           "YSCB",
           "SF34"
          ],
          [
           "ZL6767",
           "08:50 AM",
           "YSSY",
           "YMAY",
           "SF34"
          ],
          [
           "ZL6416",
           "09:00 AM",
           "YSSY",
           "YCFS",
           "SF34"
          ],
          [
           "ZL6117",
           "09:05 AM",
           "YSSY",
           "YMER",
           "SF34"
          ],
          [
           "ZL6518",
           "09:05 AM",
           "YSSY",
           "YPKS",
           "SF3"
          ],
          [
           "ZL6530",
           "09:05 AM",
           "YSSY",
           "YORG",
           "SF34"
          ],
          [
           "ZL6362",
           "09:10 AM",
           "YSSY",
           "YPMQ",
           "SF3"
          ],
          [
           "VA638",
           "09:50 AM",
           "YSSY",
           "YSCB",
           "SF34"
          ],
          [
           "VA640",
           "10:35 AM",
           "YSSY",
           "YSCB",
           "SF34"
          ],
          [
           "ZL6828",
           "11:40 AM",
           "YSSY",
           "YSDU",
           "SF34"
          ],
          [
           "VA644",
           "12:20 PM",
           "YSSY",
           "YSCB",
           "SF34"
          ],
          [
           "ZL6773",
           "12:40 PM",
           "YSSY",
           "YMAY",
           "SF34"
          ],
          [
           "ZL6866",
           "01:25 PM",
           "YSSY",
           "YBHI",
           "SF34"
          ],
          [
           "ZL6469",
           "02:05 PM",
           "YSSY",
           "YNAR",
           "SF34"
          ],
          [
           "ZL6372",
           "02:10 PM",
           "YSSY",
           "YPMQ",
           "SF34"
          ],
          [
           "ZL6133",
           "02:15 PM",
           "YSSY",
           "YMER",
           "SF3"
          ],
          [
           "ZL6436",
           "02:30 PM",
           "YSSY",
           "YCFS",
           "SF34"
          ],
          [
           "ZL6673",
           "03:15 PM",
           "YSSY",
           "YSWG",
           "SF34"
          ],
          [
           "ZL6832",
           "03:25 PM",
           "YSSY",
           "YSDU",
           "SF34"
          ],
          [
           "ZL6526",
           "03:55 PM",
           "YSSY",
           "YPKS",
           "SF3"
          ],
          [
           "VA656",
           "04:05 PM",
           "YSSY",
           "YSCB",
           "SF34"
          ],
          [
           "ZL6178",
           "04:15 PM",
           "YSSY",
           "YORG",
           "SF3"
          ],
          [
           "ZL6540",
           "04:15 PM",
           "YSSY",
           "YORG",
           "SF34"
          ],
          [
           "VA658",
           "04:50 PM",
           "YSSY",
           "YSCB",
           "SF34"
          ],
          [
           "VA662",
           "05:50 PM",
           "YSSY",
           "YSCB",
           "SF34"
          ],
          [
           "ZL6392",
           "06:10 PM",
           "YSSY",
           "YPMQ",
           "SF34"
          ],
          [
           "ZL6783",
           "06:15 PM",
           "YSSY",
           "YMAY",
           "SF34"
          ],
          [
           "ZL6139",
           "06:25 PM",
           "YSSY",
           "YMRY",
           "SF34"
          ],
          [
           "ZL6438",
           "06:45 PM",
           "YSSY",
           "YCFS",
           "SF34"
          ],
          [
           "ZL6477",
           "06:55 PM",
           "YSSY",
           "YGTH",
           "SF34"
          ],
          [
           "ZL6681",
           "06:55 PM",
           "YSSY",
           "YSWG",
           "SF34"
          ],
          [
           "VA670",
           "07:05 PM",
           "YSSY",
           "YSCB",
           "SF34"
          ],
          [
           "ZL6836",
           "07:05 PM",
           "YSSY",
           "YSDU",
           "SF34"
          ],
          [
           "ZL6534",
           "07:10 PM",
           "YSSY",
           "YPKS",
           "SF34"
          ],
          [
           "ZL6188",
           "07:15 PM",
           "YSSY",
           "YORG",
           "SF3"
          ],
          [
           "VA672",
           "08:35 PM",
           "YSSY",
           "YSCB",
           "SF34"
          ]
         ],
         "hovertemplate": "Number: <b>%{customdata[0]}</b><br>Time: <b>%{customdata[1]}</b><br><br>Origin: %{customdata[2]}<br>Destination: %{customdata[3]}<extra></extra>",
         "hovertext": [
          "ZL6852",
          "VA630",
          "ZL6166",
          "ZL6824",
          "ZL6463",
          "ZL6661",
          "VA634",
          "ZL6767",
          "ZL6416",
          "ZL6117",
          "ZL6518",
          "ZL6530",
          "ZL6362",
          "VA638",
          "VA640",
          "ZL6828",
          "VA644",
          "ZL6773",
          "ZL6866",
          "ZL6469",
          "ZL6372",
          "ZL6133",
          "ZL6436",
          "ZL6673",
          "ZL6832",
          "ZL6526",
          "VA656",
          "ZL6178",
          "ZL6540",
          "VA658",
          "VA662",
          "ZL6392",
          "ZL6783",
          "ZL6139",
          "ZL6438",
          "ZL6477",
          "ZL6681",
          "VA670",
          "ZL6836",
          "ZL6534",
          "ZL6188",
          "VA672"
         ],
         "legendgroup": "S340, takeoff",
         "marker": {
          "color": "#ab63fa",
          "size": 10,
          "sizemode": "area",
          "sizeref": 10,
          "symbol": "triangle-up"
         },
         "mode": "markers",
         "name": "S340, takeoff",
         "orientation": "v",
         "showlegend": true,
         "type": "scatter",
         "x": [
          "2024-11-25T07:00:00",
          "2024-11-25T07:35:00",
          "2024-11-25T08:10:00",
          "2024-11-25T08:15:00",
          "2024-11-25T08:25:00",
          "2024-11-25T08:45:00",
          "2024-11-25T08:50:00",
          "2024-11-25T08:50:00",
          "2024-11-25T09:00:00",
          "2024-11-25T09:05:00",
          "2024-11-25T09:05:00",
          "2024-11-25T09:05:00",
          "2024-11-25T09:10:00",
          "2024-11-25T09:50:00",
          "2024-11-25T10:35:00",
          "2024-11-25T11:40:00",
          "2024-11-25T12:20:00",
          "2024-11-25T12:40:00",
          "2024-11-25T13:25:00",
          "2024-11-25T14:05:00",
          "2024-11-25T14:10:00",
          "2024-11-25T14:15:00",
          "2024-11-25T14:30:00",
          "2024-11-25T15:15:00",
          "2024-11-25T15:25:00",
          "2024-11-25T15:55:00",
          "2024-11-25T16:05:00",
          "2024-11-25T16:15:00",
          "2024-11-25T16:15:00",
          "2024-11-25T16:50:00",
          "2024-11-25T17:50:00",
          "2024-11-25T18:10:00",
          "2024-11-25T18:15:00",
          "2024-11-25T18:25:00",
          "2024-11-25T18:45:00",
          "2024-11-25T18:55:00",
          "2024-11-25T18:55:00",
          "2024-11-25T19:05:00",
          "2024-11-25T19:05:00",
          "2024-11-25T19:10:00",
          "2024-11-25T19:15:00",
          "2024-11-25T20:35:00"
         ],
         "xaxis": "x",
         "y": [
          "S340",
          "S340",
          "S340",
          "S340",
          "S340",
          "S340",
          "S340",
          "S340",
          "S340",
          "S340",
          "S340",
          "S340",
          "S340",
          "S340",
          "S340",
          "S340",
          "S340",
          "S340",
          "S340",
          "S340",
          "S340",
          "S340",
          "S340",
          "S340",
          "S340",
          "S340",
          "S340",
          "S340",
          "S340",
          "S340",
          "S340",
          "S340",
          "S340",
          "S340",
          "S340",
          "S340",
          "S340",
          "S340",
          "S340",
          "S340",
          "S340",
          "S340"
         ],
         "yaxis": "y"
        },
        {
         "customdata": [
          [
           "VA625",
           "07:05 AM",
           "YSCB",
           "YSSY",
           "SF34"
          ],
          [
           "ZL6161",
           "07:20 AM",
           "YORG",
           "YSSY",
           "SF34"
          ],
          [
           "ZL6517",
           "07:25 AM",
           "YPKS",
           "YSSY",
           "SF34"
          ],
          [
           "ZL6658",
           "07:40 AM",
           "YSWG",
           "YSSY",
           "SF34"
          ],
          [
           "ZL6821",
           "07:40 AM",
           "YSDU",
           "YSSY",
           "SF34"
          ],
          [
           "ZL6517",
           "07:45 AM",
           "YORG",
           "YSSY",
           "SF34"
          ],
          [
           "ZL6454",
           "07:50 AM",
           "YGTH",
           "YSSY",
           "SF34"
          ],
          [
           "ZL6413",
           "07:55 AM",
           "YCFS",
           "YSSY",
           "SF34"
          ],
          [
           "ZL6762",
           "07:55 AM",
           "YMAY",
           "YSSY",
           "SF34"
          ],
          [
           "VA629",
           "08:05 AM",
           "YSCB",
           "YSSY",
           "SF34"
          ],
          [
           "ZL6355",
           "08:10 AM",
           "YPMQ",
           "YSSY",
           "SF34"
          ],
          [
           "ZL6114",
           "08:15 AM",
           "YMRY",
           "YSSY",
           "SF34"
          ],
          [
           "VA631",
           "08:55 AM",
           "YSCB",
           "YSSY",
           "SF34"
          ],
          [
           "VA637",
           "10:05 AM",
           "YSCB",
           "YSSY",
           "SF34"
          ],
          [
           "ZL6167",
           "10:40 AM",
           "YORG",
           "YSSY",
           "SF3"
          ],
          [
           "ZL6825",
           "10:55 AM",
           "YSDU",
           "YSSY",
           "SF34"
          ],
          [
           "VA641",
           "11:20 AM",
           "YSCB",
           "YSSY",
           "SF34"
          ],
          [
           "ZL6519",
           "11:35 AM",
           "YPKS",
           "YSSY",
           "SF3"
          ],
          [
           "ZL6530",
           "11:40 AM",
           "YPKS",
           "YSSY",
           "SF34"
          ],
          [
           "ZL6363",
           "11:55 AM",
           "YPMQ",
           "YSSY",
           "SF3"
          ],
          [
           "ZL6768",
           "12:10 PM",
           "YMAY",
           "YSSY",
           "SF34"
          ],
          [
           "ZL6417",
           "12:15 PM",
           "YCFS",
           "YSSY",
           "SF34"
          ],
          [
           "ZL6463",
           "12:20 PM",
           "YNAR",
           "YSSY",
           "SF34"
          ],
          [
           "ZL6117",
           "12:25 PM",
           "YMRY",
           "YSSY",
           "SF34"
          ],
          [
           "ZL6855",
           "01:15 PM",
           "YBHI",
           "YSSY",
           "SF34"
          ],
          [
           "ZL6668",
           "01:50 PM",
           "YSWG",
           "YSSY",
           "SF34"
          ],
          [
           "ZL6829",
           "03:10 PM",
           "YSDU",
           "YSSY",
           "SF34"
          ],
          [
           "VA651",
           "03:35 PM",
           "YSCB",
           "YSSY",
           "SF34"
          ],
          [
           "VA653",
           "04:20 PM",
           "YSCB",
           "YSSY",
           "SF34"
          ],
          [
           "ZL6373",
           "04:50 PM",
           "YPMQ",
           "YSSY",
           "SF34"
          ],
          [
           "VA657",
           "05:05 PM",
           "YSCB",
           "YSSY",
           "SF34"
          ],
          [
           "ZL6776",
           "05:30 PM",
           "YMAY",
           "YSSY",
           "SF34"
          ],
          [
           "ZL6133",
           "05:35 PM",
           "YMRY",
           "YSSY",
           "SF3"
          ],
          [
           "ZL6437",
           "05:45 PM",
           "YCFS",
           "YSSY",
           "SF34"
          ],
          [
           "ZL6469",
           "05:55 PM",
           "YGTH",
           "YSSY",
           "SF34"
          ],
          [
           "ZL6179",
           "06:15 PM",
           "YORG",
           "YSSY",
           "SF3"
          ],
          [
           "ZL6674",
           "06:15 PM",
           "YSWG",
           "YSSY",
           "SF34"
          ],
          [
           "ZL6833",
           "06:20 PM",
           "YSDU",
           "YSSY",
           "SF34"
          ],
          [
           "ZL6527",
           "06:30 PM",
           "YPKS",
           "YSSY",
           "SF3"
          ],
          [
           "VA663",
           "06:35 PM",
           "YSCB",
           "YSSY",
           "SF34"
          ],
          [
           "ZL6540",
           "06:50 PM",
           "YPKS",
           "YSSY",
           "SF34"
          ],
          [
           "ZL6869",
           "07:40 PM",
           "YSDU",
           "YSSY",
           "SF34"
          ],
          [
           "VA669",
           "08:05 PM",
           "YSCB",
           "YSSY",
           "SF34"
          ]
         ],
         "hovertemplate": "Number: <b>%{customdata[0]}</b><br>Time: <b>%{customdata[1]}</b><br><br>Origin: %{customdata[2]}<br>Destination: %{customdata[3]}<extra></extra>",
         "hovertext": [
          "VA625",
          "ZL6161",
          "ZL6517",
          "ZL6658",
          "ZL6821",
          "ZL6517",
          "ZL6454",
          "ZL6413",
          "ZL6762",
          "VA629",
          "ZL6355",
          "ZL6114",
          "VA631",
          "VA637",
          "ZL6167",
          "ZL6825",
          "VA641",
          "ZL6519",
          "ZL6530",
          "ZL6363",
          "ZL6768",
          "ZL6417",
          "ZL6463",
          "ZL6117",
          "ZL6855",
          "ZL6668",
          "ZL6829",
          "VA651",
          "VA653",
          "ZL6373",
          "VA657",
          "ZL6776",
          "ZL6133",
          "ZL6437",
          "ZL6469",
          "ZL6179",
          "ZL6674",
          "ZL6833",
          "ZL6527",
          "VA663",
          "ZL6540",
          "ZL6869",
          "VA669"
         ],
         "legendgroup": "S340, landing",
         "marker": {
          "color": "#ab63fa",
          "size": 10,
          "sizemode": "area",
          "sizeref": 10,
          "symbol": "triangle-down"
         },
         "mode": "markers",
         "name": "S340, landing",
         "orientation": "v",
         "showlegend": true,
         "type": "scatter",
         "x": [
          "2024-11-25T07:05:00",
          "2024-11-25T07:20:00",
          "2024-11-25T07:25:00",
          "2024-11-25T07:40:00",
          "2024-11-25T07:40:00",
          "2024-11-25T07:45:00",
          "2024-11-25T07:50:00",
          "2024-11-25T07:55:00",
          "2024-11-25T07:55:00",
          "2024-11-25T08:05:00",
          "2024-11-25T08:10:00",
          "2024-11-25T08:15:00",
          "2024-11-25T08:55:00",
          "2024-11-25T10:05:00",
          "2024-11-25T10:40:00",
          "2024-11-25T10:55:00",
          "2024-11-25T11:20:00",
          "2024-11-25T11:35:00",
          "2024-11-25T11:40:00",
          "2024-11-25T11:55:00",
          "2024-11-25T12:10:00",
          "2024-11-25T12:15:00",
          "2024-11-25T12:20:00",
          "2024-11-25T12:25:00",
          "2024-11-25T13:15:00",
          "2024-11-25T13:50:00",
          "2024-11-25T15:10:00",
          "2024-11-25T15:35:00",
          "2024-11-25T16:20:00",
          "2024-11-25T16:50:00",
          "2024-11-25T17:05:00",
          "2024-11-25T17:30:00",
          "2024-11-25T17:35:00",
          "2024-11-25T17:45:00",
          "2024-11-25T17:55:00",
          "2024-11-25T18:15:00",
          "2024-11-25T18:15:00",
          "2024-11-25T18:20:00",
          "2024-11-25T18:30:00",
          "2024-11-25T18:35:00",
          "2024-11-25T18:50:00",
          "2024-11-25T19:40:00",
          "2024-11-25T20:05:00"
         ],
         "xaxis": "x",
         "y": [
          "S340",
          "S340",
          "S340",
          "S340",
          "S340",
          "S340",
          "S340",
          "S340",
          "S340",
          "S340",
          "S340",
          "S340",
          "S340",
          "S340",
          "S340",
          "S340",
          "S340",
          "S340",
          "S340",
          "S340",
          "S340",
          "S340",
          "S340",
          "S340",
          "S340",
          "S340",
          "S340",
          "S340",
          "S340",
          "S340",
          "S340",
          "S340",
          "S340",
          "S340",
          "S340",
          "S340",
          "S340",
          "S340",
          "S340",
          "S340",
          "S340",
          "S340",
          "S340"
         ],
         "yaxis": "y"
        },
        {
         "customdata": [
          [
           "LD8076",
           "07:10 AM",
           "YSSY",
           "VHHH",
           "A332"
          ],
          [
           "QF643",
           "08:20 AM",
           "YSSY",
           "YPPH",
           "A332"
          ],
          [
           "CZ3072",
           "09:20 AM",
           "YSSY",
           "ZGSZ",
           "A333"
          ],
          [
           "QF67",
           "09:30 AM",
           "YSSY",
           "VOBL",
           "A332"
          ],
          [
           "GA715",
           "10:05 AM",
           "YSSY",
           "WADD",
           "A333"
          ],
          [
           "QF295",
           "10:20 AM",
           "YSSY",
           "VTBS",
           "A333"
          ],
          [
           "JD480",
           "10:40 AM",
           "YSSY",
           "ZSQD",
           "A333"
          ],
          [
           "D7223",
           "10:45 AM",
           "YSSY",
           "WMKK",
           "A333"
          ],
          [
           "QF291",
           "11:00 AM",
           "YSSY",
           "WSSS",
           "A333"
          ],
          [
           "QF127",
           "11:15 AM",
           "YSSY",
           "VHHH",
           "A333"
          ],
          [
           "VJ86",
           "11:15 AM",
           "YSSY",
           "VVTS",
           "A333"
          ],
          [
           "QF87",
           "11:30 AM",
           "YSSY",
           "RKSI",
           "A333"
          ],
          [
           "GA713",
           "11:40 AM",
           "YSSY",
           "WIII",
           "A333"
          ],
          [
           "QF59",
           "12:00 PM",
           "YSSY",
           "RJTT",
           "A333"
          ],
          [
           "QF19",
           "12:05 PM",
           "YSSY",
           "RPLL",
           "A332"
          ],
          [
           "MH122",
           "12:10 PM",
           "YSSY",
           "WMKK",
           "A333"
          ],
          [
           "TW502",
           "12:15 PM",
           "YSSY",
           "RKSI",
           "A333"
          ],
          [
           "MU7562",
           "12:30 PM",
           "YSSY",
           "ZSPD",
           "333"
          ],
          [
           "MH7030",
           "01:10 PM",
           "YSSY",
           "WMKK",
           "333"
          ],
          [
           "MU750",
           "01:30 PM",
           "YSSY",
           "ZHHH",
           "A332"
          ],
          [
           "QF41",
           "02:20 PM",
           "YSSY",
           "WIII",
           "A332"
          ],
          [
           "MU712",
           "03:10 PM",
           "YSSY",
           "ZSHC",
           "A332"
          ],
          [
           "QF43",
           "04:30 PM",
           "YSSY",
           "WADD",
           "A332"
          ],
          [
           "GS7944",
           "04:50 PM",
           "YSSY",
           "ZUCK",
           "A332"
          ],
          [
           "QF655",
           "07:50 PM",
           "YSSY",
           "YPPH",
           "A332"
          ],
          [
           "MH6204",
           "08:40 PM",
           "YSSY",
           "WMKK",
           "A332"
          ],
          [
           "QF25",
           "09:55 PM",
           "YSSY",
           "RJTT",
           "A333"
          ],
          [
           "MH140",
           "10:15 PM",
           "YSSY",
           "WMKK",
           "A333"
          ],
          [
           "QF7345",
           "10:30 PM",
           "YSSY",
           "YMML",
           "33X"
          ]
         ],
         "hovertemplate": "Number: <b>%{customdata[0]}</b><br>Time: <b>%{customdata[1]}</b><br><br>Origin: %{customdata[2]}<br>Destination: %{customdata[3]}<extra></extra>",
         "hovertext": [
          "LD8076",
          "QF643",
          "CZ3072",
          "QF67",
          "GA715",
          "QF295",
          "JD480",
          "D7223",
          "QF291",
          "QF127",
          "VJ86",
          "QF87",
          "GA713",
          "QF59",
          "QF19",
          "MH122",
          "TW502",
          "MU7562",
          "MH7030",
          "MU750",
          "QF41",
          "MU712",
          "QF43",
          "GS7944",
          "QF655",
          "MH6204",
          "QF25",
          "MH140",
          "QF7345"
         ],
         "legendgroup": "A330, takeoff",
         "marker": {
          "color": "#FFA15A",
          "size": 10,
          "sizemode": "area",
          "sizeref": 10,
          "symbol": "triangle-up"
         },
         "mode": "markers",
         "name": "A330, takeoff",
         "orientation": "v",
         "showlegend": true,
         "type": "scatter",
         "x": [
          "2024-11-25T07:10:00",
          "2024-11-25T08:20:00",
          "2024-11-25T09:20:00",
          "2024-11-25T09:30:00",
          "2024-11-25T10:05:00",
          "2024-11-25T10:20:00",
          "2024-11-25T10:40:00",
          "2024-11-25T10:45:00",
          "2024-11-25T11:00:00",
          "2024-11-25T11:15:00",
          "2024-11-25T11:15:00",
          "2024-11-25T11:30:00",
          "2024-11-25T11:40:00",
          "2024-11-25T12:00:00",
          "2024-11-25T12:05:00",
          "2024-11-25T12:10:00",
          "2024-11-25T12:15:00",
          "2024-11-25T12:30:00",
          "2024-11-25T13:10:00",
          "2024-11-25T13:30:00",
          "2024-11-25T14:20:00",
          "2024-11-25T15:10:00",
          "2024-11-25T16:30:00",
          "2024-11-25T16:50:00",
          "2024-11-25T19:50:00",
          "2024-11-25T20:40:00",
          "2024-11-25T21:55:00",
          "2024-11-25T22:15:00",
          "2024-11-25T22:30:00"
         ],
         "xaxis": "x",
         "y": [
          "A330",
          "A330",
          "A330",
          "A330",
          "A330",
          "A330",
          "A330",
          "A330",
          "A330",
          "A330",
          "A330",
          "A330",
          "A330",
          "A330",
          "A330",
          "A330",
          "A330",
          "A330",
          "A330",
          "A330",
          "A330",
          "A330",
          "A330",
          "A330",
          "A330",
          "A330",
          "A330",
          "A330",
          "A330"
         ],
         "yaxis": "y"
        },
        {
         "customdata": [
          [
           "QF654",
           "06:05 AM",
           "YPPH",
           "YSSY",
           "A332"
          ],
          [
           "QF44",
           "06:15 AM",
           "WADD",
           "YSSY",
           "A332"
          ],
          [
           "QF20",
           "06:30 AM",
           "RPLL",
           "YSSY",
           "A332"
          ],
          [
           "QF42",
           "06:55 AM",
           "WIII",
           "YSSY",
           "A332"
          ],
          [
           "GA714",
           "07:10 AM",
           "WADD",
           "YSSY",
           "A333"
          ],
          [
           "QF292",
           "07:25 AM",
           "WSSS",
           "YSSY",
           "A333"
          ],
          [
           "CZ3071",
           "07:30 AM",
           "ZGSZ",
           "YSSY",
           "A333"
          ],
          [
           "QF128",
           "07:30 AM",
           "VHHH",
           "YSSY",
           "A333"
          ],
          [
           "QF296",
           "07:35 AM",
           "VTBS",
           "YSSY",
           "A333"
          ],
          [
           "JD479",
           "07:45 AM",
           "ZSQD",
           "YSSY",
           "A333"
          ],
          [
           "VJ85",
           "08:05 AM",
           "VVTS",
           "YSSY",
           "A333"
          ],
          [
           "D7222",
           "09:15 AM",
           "WMKK",
           "YSSY",
           "A333"
          ],
          [
           "GA712",
           "09:40 AM",
           "WIII",
           "YSSY",
           "333"
          ],
          [
           "QF60",
           "09:55 AM",
           "RJTT",
           "YSSY",
           "A333"
          ],
          [
           "TW501",
           "10:15 AM",
           "RKSI",
           "YSSY",
           "A333"
          ],
          [
           "MH123",
           "10:20 AM",
           "WMKK",
           "YSSY",
           "A333"
          ],
          [
           "QF68",
           "10:45 AM",
           "VOBL",
           "YSSY",
           "A332"
          ],
          [
           "MU749",
           "11:00 AM",
           "ZHHH",
           "YSSY",
           "A332"
          ],
          [
           "MH7031",
           "11:25 AM",
           "WMKK",
           "YSSY",
           "333"
          ],
          [
           "QF7526",
           "12:15 PM",
           "VHHH",
           "YSSY",
           "A332"
          ],
          [
           "MU712",
           "01:10 PM",
           "NZAA",
           "YSSY",
           "A332"
          ],
          [
           "GA712",
           "01:38 PM",
           "WIII",
           "YSSY",
           "A333"
          ],
          [
           "GS7943",
           "02:50 PM",
           "ZUCK",
           "YSSY",
           "A332"
          ],
          [
           "QF446",
           "02:55 PM",
           "YMML",
           "YSSY",
           "A333"
          ],
          [
           "QF648",
           "06:30 PM",
           "YPPH",
           "YSSY",
           "A332"
          ],
          [
           "MH6203",
           "06:40 PM",
           "WMKK",
           "YSSY",
           "A332"
          ],
          [
           "QF26",
           "06:50 PM",
           "RJTT",
           "YSSY",
           "A333"
          ],
          [
           "MH141",
           "08:35 PM",
           "WMKK",
           "YSSY",
           "A333"
          ]
         ],
         "hovertemplate": "Number: <b>%{customdata[0]}</b><br>Time: <b>%{customdata[1]}</b><br><br>Origin: %{customdata[2]}<br>Destination: %{customdata[3]}<extra></extra>",
         "hovertext": [
          "QF654",
          "QF44",
          "QF20",
          "QF42",
          "GA714",
          "QF292",
          "CZ3071",
          "QF128",
          "QF296",
          "JD479",
          "VJ85",
          "D7222",
          "GA712",
          "QF60",
          "TW501",
          "MH123",
          "QF68",
          "MU749",
          "MH7031",
          "QF7526",
          "MU712",
          "GA712",
          "GS7943",
          "QF446",
          "QF648",
          "MH6203",
          "QF26",
          "MH141"
         ],
         "legendgroup": "A330, landing",
         "marker": {
          "color": "#FFA15A",
          "size": 10,
          "sizemode": "area",
          "sizeref": 10,
          "symbol": "triangle-down"
         },
         "mode": "markers",
         "name": "A330, landing",
         "orientation": "v",
         "showlegend": true,
         "type": "scatter",
         "x": [
          "2024-11-25T06:05:00",
          "2024-11-25T06:15:00",
          "2024-11-25T06:30:00",
          "2024-11-25T06:55:00",
          "2024-11-25T07:10:00",
          "2024-11-25T07:25:00",
          "2024-11-25T07:30:00",
          "2024-11-25T07:30:00",
          "2024-11-25T07:35:00",
          "2024-11-25T07:45:00",
          "2024-11-25T08:05:00",
          "2024-11-25T09:15:00",
          "2024-11-25T09:40:00",
          "2024-11-25T09:55:00",
          "2024-11-25T10:15:00",
          "2024-11-25T10:20:00",
          "2024-11-25T10:45:00",
          "2024-11-25T11:00:00",
          "2024-11-25T11:25:00",
          "2024-11-25T12:15:00",
          "2024-11-25T13:10:00",
          "2024-11-25T13:38:00",
          "2024-11-25T14:50:00",
          "2024-11-25T14:55:00",
          "2024-11-25T18:30:00",
          "2024-11-25T18:40:00",
          "2024-11-25T18:50:00",
          "2024-11-25T20:35:00"
         ],
         "xaxis": "x",
         "y": [
          "A330",
          "A330",
          "A330",
          "A330",
          "A330",
          "A330",
          "A330",
          "A330",
          "A330",
          "A330",
          "A330",
          "A330",
          "A330",
          "A330",
          "A330",
          "A330",
          "A330",
          "A330",
          "A330",
          "A330",
          "A330",
          "A330",
          "A330",
          "A330",
          "A330",
          "A330",
          "A330",
          "A330"
         ],
         "yaxis": "y"
        },
        {
         "customdata": [
          [
           "AM266",
           "12:30 AM",
           "YSSY",
           "YIVL",
           "B350"
          ],
          [
           "n/a",
           "07:00 AM",
           "YSSY",
           "YSSY",
           "R44"
          ],
          [
           "AM260",
           "07:00 AM",
           "YSSY",
           "YMRY",
           "PC24"
          ],
          [
           "AM282",
           "07:00 AM",
           "YSSY",
           "YBKE",
           "B350"
          ],
          [
           "n/a",
           "08:00 AM",
           "YSSY",
           "YSHL",
           "GLEX"
          ],
          [
           "PE993",
           "08:00 AM",
           "YSSY",
           "YCOM",
           "JS32"
          ],
          [
           "QF1501",
           "08:40 AM",
           "YSSY",
           "YMHB",
           "BCS3"
          ],
          [
           "n/a",
           "10:10 AM",
           "YSSY",
           "YSSY",
           "R44"
          ],
          [
           "AM270",
           "10:15 AM",
           "YSSY",
           "YSTW",
           "B350"
          ],
          [
           "FD231",
           "10:30 AM",
           "YSSY",
           "YLHI",
           "BE20"
          ],
          [
           "FP823",
           "11:20 AM",
           "YSSY",
           "YCBA",
           "JS32"
          ],
          [
           "n/a",
           "11:40 AM",
           "YSSY",
           "NZWN",
           "BE20"
          ],
          [
           "FJ1931",
           "12:15 PM",
           "YSSY",
           "YMML",
           "7M8"
          ],
          [
           "n/a",
           "01:00 PM",
           "YSSY",
           "YDLQ",
           "C25M"
          ],
          [
           "AM281",
           "01:00 PM",
           "YSSY",
           "YARM",
           "B350"
          ],
          [
           "FC7374",
           "01:15 PM",
           "YSSY",
           "YNBR",
           "SWM"
          ],
          [
           "n/a",
           "01:15 PM",
           "YSSY",
           "YNBR",
           "SW4"
          ],
          [
           "QF1503",
           "02:05 PM",
           "YSSY",
           "YMHB",
           "BCS3"
          ],
          [
           "QF1267",
           "02:10 PM",
           "YSSY",
           "YMLT",
           "BCS3"
          ],
          [
           "FD249",
           "03:00 PM",
           "YSSY",
           "YSDU",
           "BE20"
          ],
          [
           "AM273",
           "03:00 PM",
           "YSSY",
           "YCFS",
           "PC24"
          ],
          [
           "PE556",
           "03:50 PM",
           "YSSY",
           "YNBR",
           "JS32"
          ],
          [
           "AM242",
           "04:20 PM",
           "YSSY",
           "YSWG",
           "B350"
          ],
          [
           "FP216",
           "04:30 PM",
           "YSSY",
           "YWLM",
           "J32"
          ],
          [
           "QF1990",
           "07:15 PM",
           "YSSY",
           "YBTL",
           "E190"
          ],
          [
           "QF1505",
           "07:30 PM",
           "YSSY",
           "YMHB",
           "BCS3"
          ],
          [
           "n/a",
           "09:00 PM",
           "YSSY",
           "YSDU",
           "E50P"
          ],
          [
           "HJ2",
           "10:45 PM",
           "YSSY",
           "NZAA",
           "B763"
          ],
          [
           "n/a",
           "06:50 AM",
           "YSSY",
           "YSSY",
           "R44"
          ],
          [
           "n/a",
           "11:00 AM",
           "YSSY",
           "YSSY",
           "R44"
          ]
         ],
         "hovertemplate": "Number: <b>%{customdata[0]}</b><br>Time: <b>%{customdata[1]}</b><br><br>Origin: %{customdata[2]}<br>Destination: %{customdata[3]}<extra></extra>",
         "hovertext": [
          "AM266",
          "n/a",
          "AM260",
          "AM282",
          "n/a",
          "PE993",
          "QF1501",
          "n/a",
          "AM270",
          "FD231",
          "FP823",
          "n/a",
          "FJ1931",
          "n/a",
          "AM281",
          "FC7374",
          "n/a",
          "QF1503",
          "QF1267",
          "FD249",
          "AM273",
          "PE556",
          "AM242",
          "FP216",
          "QF1990",
          "QF1505",
          "n/a",
          "HJ2",
          "n/a",
          "n/a"
         ],
         "legendgroup": "Unknown, takeoff",
         "marker": {
          "color": "#19d3f3",
          "size": 10,
          "sizemode": "area",
          "sizeref": 10,
          "symbol": "triangle-up"
         },
         "mode": "markers",
         "name": "Unknown, takeoff",
         "orientation": "v",
         "showlegend": true,
         "type": "scatter",
         "x": [
          "2024-11-25T00:30:00",
          "2024-11-25T07:00:00",
          "2024-11-25T07:00:00",
          "2024-11-25T07:00:00",
          "2024-11-25T08:00:00",
          "2024-11-25T08:00:00",
          "2024-11-25T08:40:00",
          "2024-11-25T10:10:00",
          "2024-11-25T10:15:00",
          "2024-11-25T10:30:00",
          "2024-11-25T11:20:00",
          "2024-11-25T11:40:00",
          "2024-11-25T12:15:00",
          "2024-11-25T13:00:00",
          "2024-11-25T13:00:00",
          "2024-11-25T13:15:00",
          "2024-11-25T13:15:00",
          "2024-11-25T14:05:00",
          "2024-11-25T14:10:00",
          "2024-11-25T15:00:00",
          "2024-11-25T15:00:00",
          "2024-11-25T15:50:00",
          "2024-11-25T16:20:00",
          "2024-11-25T16:30:00",
          "2024-11-25T19:15:00",
          "2024-11-25T19:30:00",
          "2024-11-25T21:00:00",
          "2024-11-25T22:45:00",
          "2024-11-25T06:50:00",
          "2024-11-25T11:00:00"
         ],
         "xaxis": "x",
         "y": [
          "Unknown",
          "Unknown",
          "Unknown",
          "Unknown",
          "Unknown",
          "Unknown",
          "Unknown",
          "Unknown",
          "Unknown",
          "Unknown",
          "Unknown",
          "Unknown",
          "Unknown",
          "Unknown",
          "Unknown",
          "Unknown",
          "Unknown",
          "Unknown",
          "Unknown",
          "Unknown",
          "Unknown",
          "Unknown",
          "Unknown",
          "Unknown",
          "Unknown",
          "Unknown",
          "Unknown",
          "Unknown",
          "Unknown",
          "Unknown"
         ],
         "yaxis": "y"
        },
        {
         "customdata": [
          [
           "n/a",
           "03:45 AM",
           "YSTW",
           "YSSY",
           "B350"
          ],
          [
           "AM266",
           "04:32 AM",
           "YIVL",
           "YSSY",
           "B350"
          ],
          [
           "FP210",
           "07:30 AM",
           "YWLM",
           "YSSY",
           "JS32"
          ],
          [
           "QF1504",
           "07:55 AM",
           "YMHB",
           "YSSY",
           "BCS3"
          ],
          [
           "FD249",
           "09:09 AM",
           "YSDU",
           "YSSY",
           "BE20"
          ],
          [
           "AM260",
           "10:15 AM",
           "YSCB",
           "YSSY",
           "PC24"
          ],
          [
           "FP211",
           "10:50 AM",
           "YWLM",
           "YSSY",
           "JS32"
          ],
          [
           "AM282",
           "11:46 AM",
           "YORG",
           "YSSY",
           "B350"
          ],
          [
           "n/a",
           "12:12 PM",
           "YNBR",
           "YSSY",
           "SW4"
          ],
          [
           "n/a",
           "12:22 PM",
           "YDLQ",
           "YSSY",
           "C25M"
          ],
          [
           "FC7172",
           "12:30 PM",
           "YNBR",
           "YSSY",
           "SWM"
          ],
          [
           "n/a",
           "12:32 PM",
           "YWYY",
           "YSSY",
           "EA50"
          ],
          [
           "n/a",
           "12:50 PM",
           "YMEN",
           "YSSY",
           "BE20"
          ],
          [
           "QF1266",
           "01:20 PM",
           "YMLT",
           "YSSY",
           "BCS3"
          ],
          [
           "AM270",
           "01:22 PM",
           "YWLM",
           "YSSY",
           "B350"
          ],
          [
           "QF1500",
           "01:25 PM",
           "YMHB",
           "YSSY",
           "BCS3"
          ],
          [
           "n/a",
           "02:35 PM",
           "YSDU",
           "YSSY",
           "E50P"
          ],
          [
           "FP824",
           "03:20 PM",
           "YCBA",
           "YSSY",
           "JS32"
          ],
          [
           "FD231",
           "03:32 PM",
           "YLHI",
           "YSSY",
           "BE20"
          ],
          [
           "n/a",
           "05:14 PM",
           "YSHL",
           "YSSY",
           "GLEX"
          ],
          [
           "AM281",
           "05:46 PM",
           "YBTH",
           "YSSY",
           "B350"
          ],
          [
           "QF1989",
           "06:25 PM",
           "YBTL",
           "YSSY",
           "E190"
          ],
          [
           "QF1522",
           "06:45 PM",
           "YMHB",
           "YSSY",
           "BCS3"
          ],
          [
           "AM242",
           "08:10 PM",
           "YSWG",
           "YSSY",
           "B350"
          ],
          [
           "HJ1",
           "09:15 PM",
           "NZAA",
           "YSSY",
           "B763"
          ]
         ],
         "hovertemplate": "Number: <b>%{customdata[0]}</b><br>Time: <b>%{customdata[1]}</b><br><br>Origin: %{customdata[2]}<br>Destination: %{customdata[3]}<extra></extra>",
         "hovertext": [
          "n/a",
          "AM266",
          "FP210",
          "QF1504",
          "FD249",
          "AM260",
          "FP211",
          "AM282",
          "n/a",
          "n/a",
          "FC7172",
          "n/a",
          "n/a",
          "QF1266",
          "AM270",
          "QF1500",
          "n/a",
          "FP824",
          "FD231",
          "n/a",
          "AM281",
          "QF1989",
          "QF1522",
          "AM242",
          "HJ1"
         ],
         "legendgroup": "Unknown, landing",
         "marker": {
          "color": "#19d3f3",
          "size": 10,
          "sizemode": "area",
          "sizeref": 10,
          "symbol": "triangle-down"
         },
         "mode": "markers",
         "name": "Unknown, landing",
         "orientation": "v",
         "showlegend": true,
         "type": "scatter",
         "x": [
          "2024-11-25T03:45:00",
          "2024-11-25T04:32:00",
          "2024-11-25T07:30:00",
          "2024-11-25T07:55:00",
          "2024-11-25T09:09:00",
          "2024-11-25T10:15:00",
          "2024-11-25T10:50:00",
          "2024-11-25T11:46:00",
          "2024-11-25T12:12:00",
          "2024-11-25T12:22:00",
          "2024-11-25T12:30:00",
          "2024-11-25T12:32:00",
          "2024-11-25T12:50:00",
          "2024-11-25T13:20:00",
          "2024-11-25T13:22:00",
          "2024-11-25T13:25:00",
          "2024-11-25T14:35:00",
          "2024-11-25T15:20:00",
          "2024-11-25T15:32:00",
          "2024-11-25T17:14:00",
          "2024-11-25T17:46:00",
          "2024-11-25T18:25:00",
          "2024-11-25T18:45:00",
          "2024-11-25T20:10:00",
          "2024-11-25T21:15:00"
         ],
         "xaxis": "x",
         "y": [
          "Unknown",
          "Unknown",
          "Unknown",
          "Unknown",
          "Unknown",
          "Unknown",
          "Unknown",
          "Unknown",
          "Unknown",
          "Unknown",
          "Unknown",
          "Unknown",
          "Unknown",
          "Unknown",
          "Unknown",
          "Unknown",
          "Unknown",
          "Unknown",
          "Unknown",
          "Unknown",
          "Unknown",
          "Unknown",
          "Unknown",
          "Unknown",
          "Unknown"
         ],
         "yaxis": "y"
        },
        {
         "customdata": [
          [
           "QF3",
           "09:45 AM",
           "YSSY",
           "NZAA",
           "B789"
          ],
          [
           "AI301",
           "10:25 AM",
           "YSSY",
           "VIDP",
           "B788"
          ],
          [
           "UA842",
           "11:20 AM",
           "YSSY",
           "KLAX",
           "B789"
          ],
          [
           "CZ326",
           "11:25 AM",
           "YSSY",
           "ZGGG",
           "B789"
          ],
          [
           "JQ47",
           "11:40 AM",
           "YSSY",
           "RKSI",
           "B788"
          ],
          [
           "LA800",
           "11:40 AM",
           "YSSY",
           "NZAA",
           "B789"
          ],
          [
           "QF7",
           "11:50 AM",
           "YSSY",
           "KDFW",
           "B789"
          ],
          [
           "NH890",
           "12:25 PM",
           "YSSY",
           "RJTT",
           "B789"
          ],
          [
           "MF802",
           "12:30 PM",
           "YSSY",
           "ZSAM",
           "B789"
          ],
          [
           "LA810",
           "12:35 PM",
           "YSSY",
           "SCEL",
           "B789"
          ],
          [
           "TR3",
           "02:05 PM",
           "YSSY",
           "WSSS",
           "B789"
          ],
          [
           "JQ27",
           "03:00 PM",
           "YSSY",
           "VTSP",
           "B788"
          ],
          [
           "QF33",
           "03:30 PM",
           "YSSY",
           "YPPH",
           "B789"
          ],
          [
           "JQ3",
           "05:25 PM",
           "YSSY",
           "PHNL",
           "B788"
          ],
          [
           "QF75",
           "08:30 PM",
           "YSSY",
           "CYVR",
           "B789"
          ],
          [
           "QF103",
           "08:35 PM",
           "YSSY",
           "PHNL",
           "B789"
          ],
          [
           "CA174",
           "08:40 PM",
           "YSSY",
           "ZBAA",
           "B789"
          ],
          [
           "NH880",
           "09:45 PM",
           "YSSY",
           "RJTT",
           "B789"
          ],
          [
           "TR21",
           "09:50 PM",
           "YSSY",
           "WSSS",
           "B789"
          ]
         ],
         "hovertemplate": "Number: <b>%{customdata[0]}</b><br>Time: <b>%{customdata[1]}</b><br><br>Origin: %{customdata[2]}<br>Destination: %{customdata[3]}<extra></extra>",
         "hovertext": [
          "QF3",
          "AI301",
          "UA842",
          "CZ326",
          "JQ47",
          "LA800",
          "QF7",
          "NH890",
          "MF802",
          "LA810",
          "TR3",
          "JQ27",
          "QF33",
          "JQ3",
          "QF75",
          "QF103",
          "CA174",
          "NH880",
          "TR21"
         ],
         "legendgroup": "B787, takeoff",
         "marker": {
          "color": "#FF6692",
          "size": 10,
          "sizemode": "area",
          "sizeref": 10,
          "symbol": "triangle-up"
         },
         "mode": "markers",
         "name": "B787, takeoff",
         "orientation": "v",
         "showlegend": true,
         "type": "scatter",
         "x": [
          "2024-11-25T09:45:00",
          "2024-11-25T10:25:00",
          "2024-11-25T11:20:00",
          "2024-11-25T11:25:00",
          "2024-11-25T11:40:00",
          "2024-11-25T11:40:00",
          "2024-11-25T11:50:00",
          "2024-11-25T12:25:00",
          "2024-11-25T12:30:00",
          "2024-11-25T12:35:00",
          "2024-11-25T14:05:00",
          "2024-11-25T15:00:00",
          "2024-11-25T15:30:00",
          "2024-11-25T17:25:00",
          "2024-11-25T20:30:00",
          "2024-11-25T20:35:00",
          "2024-11-25T20:40:00",
          "2024-11-25T21:45:00",
          "2024-11-25T21:50:00"
         ],
         "xaxis": "x",
         "y": [
          "B787",
          "B787",
          "B787",
          "B787",
          "B787",
          "B787",
          "B787",
          "B787",
          "B787",
          "B787",
          "B787",
          "B787",
          "B787",
          "B787",
          "B787",
          "B787",
          "B787",
          "B787",
          "B787"
         ],
         "yaxis": "y"
        },
        {
         "customdata": [
          [
           "LA809",
           "06:30 AM",
           "SCEL",
           "YSSY",
           "B789"
          ],
          [
           "QF8",
           "06:35 AM",
           "KDFW",
           "YSSY",
           "B789"
          ],
          [
           "QF76",
           "06:35 AM",
           "CYVR",
           "YSSY",
           "B789"
          ],
          [
           "JQ38",
           "07:25 AM",
           "WADD",
           "YSSY",
           "B788"
          ],
          [
           "AI302",
           "08:10 AM",
           "VIDP",
           "YSSY",
           "B788"
          ],
          [
           "QF4",
           "08:20 AM",
           "NZAA",
           "YSSY",
           "B789"
          ],
          [
           "UA839",
           "09:05 AM",
           "KLAX",
           "YSSY",
           "B789"
          ],
          [
           "CZ325",
           "09:25 AM",
           "ZGGG",
           "YSSY",
           "B789"
          ],
          [
           "LA801",
           "09:25 AM",
           "NZAA",
           "YSSY",
           "B789"
          ],
          [
           "JQ48",
           "10:05 AM",
           "RKSI",
           "YSSY",
           "B788"
          ],
          [
           "MF801",
           "10:25 AM",
           "ZSAM",
           "YSSY",
           "B789"
          ],
          [
           "NH879",
           "10:30 AM",
           "RJTT",
           "YSSY",
           "B789"
          ],
          [
           "JQ62",
           "11:30 AM",
           "VVTS",
           "YSSY",
           "B788"
          ],
          [
           "QF436",
           "12:25 PM",
           "YMML",
           "YSSY",
           "B789"
          ],
          [
           "TR2",
           "12:50 PM",
           "WSSS",
           "YSSY",
           "B789"
          ],
          [
           "HU797",
           "01:00 PM",
           "ZJHK",
           "YSSY",
           "789"
          ],
          [
           "CA173",
           "03:30 PM",
           "ZBAA",
           "YSSY",
           "B789"
          ],
          [
           "QF28",
           "05:40 PM",
           "SCEL",
           "YSSY",
           "B789"
          ],
          [
           "QF104",
           "06:20 PM",
           "PHNL",
           "YSSY",
           "B789"
          ],
          [
           "NH889",
           "08:15 PM",
           "RJTT",
           "YSSY",
           "B789"
          ],
          [
           "TR20",
           "08:35 PM",
           "WSSS",
           "YSSY",
           "B789"
          ]
         ],
         "hovertemplate": "Number: <b>%{customdata[0]}</b><br>Time: <b>%{customdata[1]}</b><br><br>Origin: %{customdata[2]}<br>Destination: %{customdata[3]}<extra></extra>",
         "hovertext": [
          "LA809",
          "QF8",
          "QF76",
          "JQ38",
          "AI302",
          "QF4",
          "UA839",
          "CZ325",
          "LA801",
          "JQ48",
          "MF801",
          "NH879",
          "JQ62",
          "QF436",
          "TR2",
          "HU797",
          "CA173",
          "QF28",
          "QF104",
          "NH889",
          "TR20"
         ],
         "legendgroup": "B787, landing",
         "marker": {
          "color": "#FF6692",
          "size": 10,
          "sizemode": "area",
          "sizeref": 10,
          "symbol": "triangle-down"
         },
         "mode": "markers",
         "name": "B787, landing",
         "orientation": "v",
         "showlegend": true,
         "type": "scatter",
         "x": [
          "2024-11-25T06:30:00",
          "2024-11-25T06:35:00",
          "2024-11-25T06:35:00",
          "2024-11-25T07:25:00",
          "2024-11-25T08:10:00",
          "2024-11-25T08:20:00",
          "2024-11-25T09:05:00",
          "2024-11-25T09:25:00",
          "2024-11-25T09:25:00",
          "2024-11-25T10:05:00",
          "2024-11-25T10:25:00",
          "2024-11-25T10:30:00",
          "2024-11-25T11:30:00",
          "2024-11-25T12:25:00",
          "2024-11-25T12:50:00",
          "2024-11-25T13:00:00",
          "2024-11-25T15:30:00",
          "2024-11-25T17:40:00",
          "2024-11-25T18:20:00",
          "2024-11-25T20:15:00",
          "2024-11-25T20:35:00"
         ],
         "xaxis": "x",
         "y": [
          "B787",
          "B787",
          "B787",
          "B787",
          "B787",
          "B787",
          "B787",
          "B787",
          "B787",
          "B787",
          "B787",
          "B787",
          "B787",
          "B787",
          "B787",
          "B787",
          "B787",
          "B787",
          "B787",
          "B787",
          "B787"
         ],
         "yaxis": "y"
        },
        {
         "customdata": [
          [
           "SQ262",
           "06:45 AM",
           "YSSY",
           "WSSS",
           "B77W"
          ],
          [
           "KE402",
           "09:10 AM",
           "YSSY",
           "RKSI",
           "B77W"
          ],
          [
           "JL52",
           "09:15 AM",
           "YSSY",
           "RJTT",
           "B77W"
          ],
          [
           "SQ212",
           "10:00 AM",
           "YSSY",
           "WSSS",
           "B77W"
          ],
          [
           "AA72",
           "11:15 AM",
           "YSSY",
           "KLAX",
           "B77W"
          ],
          [
           "AC34",
           "11:20 AM",
           "YSSY",
           "CYVR",
           "B77L"
          ],
          [
           "NZ104",
           "11:45 AM",
           "YSSY",
           "NZAA",
           "B77W"
          ],
          [
           "UA830",
           "12:10 PM",
           "YSSY",
           "KSFO",
           "B772"
          ],
          [
           "CX100",
           "03:15 PM",
           "YSSY",
           "VHHH",
           "B77W"
          ],
          [
           "BA16",
           "04:20 PM",
           "YSSY",
           "WSSS",
           "B77W"
          ],
          [
           "FX75",
           "06:45 PM",
           "YSSY",
           "ZGGG",
           "B77L"
          ],
          [
           "SQ7447",
           "07:45 PM",
           "YSSY",
           "WSSS",
           "B77L"
          ],
          [
           "EY455",
           "09:30 PM",
           "YSSY",
           "OMAA",
           "B77W"
          ],
          [
           "EK9820",
           "10:00 PM",
           "YSSY",
           "VHHH",
           "B77L"
          ]
         ],
         "hovertemplate": "Number: <b>%{customdata[0]}</b><br>Time: <b>%{customdata[1]}</b><br><br>Origin: %{customdata[2]}<br>Destination: %{customdata[3]}<extra></extra>",
         "hovertext": [
          "SQ262",
          "KE402",
          "JL52",
          "SQ212",
          "AA72",
          "AC34",
          "NZ104",
          "UA830",
          "CX100",
          "BA16",
          "FX75",
          "SQ7447",
          "EY455",
          "EK9820"
         ],
         "legendgroup": "B777, takeoff",
         "marker": {
          "color": "#B6E880",
          "size": 10,
          "sizemode": "area",
          "sizeref": 10,
          "symbol": "triangle-up"
         },
         "mode": "markers",
         "name": "B777, takeoff",
         "orientation": "v",
         "showlegend": true,
         "type": "scatter",
         "x": [
          "2024-11-25T06:45:00",
          "2024-11-25T09:10:00",
          "2024-11-25T09:15:00",
          "2024-11-25T10:00:00",
          "2024-11-25T11:15:00",
          "2024-11-25T11:20:00",
          "2024-11-25T11:45:00",
          "2024-11-25T12:10:00",
          "2024-11-25T15:15:00",
          "2024-11-25T16:20:00",
          "2024-11-25T18:45:00",
          "2024-11-25T19:45:00",
          "2024-11-25T21:30:00",
          "2024-11-25T22:00:00"
         ],
         "xaxis": "x",
         "y": [
          "B777",
          "B777",
          "B777",
          "B777",
          "B777",
          "B777",
          "B777",
          "B777",
          "B777",
          "B777",
          "B777",
          "B777",
          "B777",
          "B777"
         ],
         "yaxis": "y"
        },
        {
         "customdata": [
          [
           "SQ261",
           "05:55 AM",
           "WSSS",
           "YSSY",
           "B77W"
          ],
          [
           "JL51",
           "06:50 AM",
           "RJTT",
           "YSSY",
           "B77W"
          ],
          [
           "BA15",
           "06:55 AM",
           "WSSS",
           "YSSY",
           "B77W"
          ],
          [
           "KE401",
           "06:55 AM",
           "RKSI",
           "YSSY",
           "B77W"
          ],
          [
           "AA73",
           "09:00 AM",
           "KLAX",
           "YSSY",
           "B77W"
          ],
          [
           "UA863",
           "09:15 AM",
           "KSFO",
           "YSSY",
           "B772"
          ],
          [
           "AC33",
           "09:35 AM",
           "CYVR",
           "YSSY",
           "B77L"
          ],
          [
           "EK9820",
           "10:20 AM",
           "OMDW",
           "YSSY",
           "B77L"
          ],
          [
           "NZ103",
           "10:25 AM",
           "NZAA",
           "YSSY",
           "B77W"
          ],
          [
           "CX101",
           "12:00 PM",
           "VHHH",
           "YSSY",
           "B77W"
          ],
          [
           "FX5071",
           "02:15 PM",
           "WSSS",
           "YSSY",
           "B77L"
          ],
          [
           "SQ7447",
           "04:15 PM",
           "KLAX",
           "YSSY",
           "B77L"
          ],
          [
           "EY454",
           "06:35 PM",
           "OMAA",
           "YSSY",
           "B77W"
          ],
          [
           "EK9820",
           "07:40 PM",
           "WSSS",
           "YSSY",
           "B77L"
          ],
          [
           "SQ211",
           "09:20 PM",
           "WSSS",
           "YSSY",
           "B77W"
          ]
         ],
         "hovertemplate": "Number: <b>%{customdata[0]}</b><br>Time: <b>%{customdata[1]}</b><br><br>Origin: %{customdata[2]}<br>Destination: %{customdata[3]}<extra></extra>",
         "hovertext": [
          "SQ261",
          "JL51",
          "BA15",
          "KE401",
          "AA73",
          "UA863",
          "AC33",
          "EK9820",
          "NZ103",
          "CX101",
          "FX5071",
          "SQ7447",
          "EY454",
          "EK9820",
          "SQ211"
         ],
         "legendgroup": "B777, landing",
         "marker": {
          "color": "#B6E880",
          "size": 10,
          "sizemode": "area",
          "sizeref": 10,
          "symbol": "triangle-down"
         },
         "mode": "markers",
         "name": "B777, landing",
         "orientation": "v",
         "showlegend": true,
         "type": "scatter",
         "x": [
          "2024-11-25T05:55:00",
          "2024-11-25T06:50:00",
          "2024-11-25T06:55:00",
          "2024-11-25T06:55:00",
          "2024-11-25T09:00:00",
          "2024-11-25T09:15:00",
          "2024-11-25T09:35:00",
          "2024-11-25T10:20:00",
          "2024-11-25T10:25:00",
          "2024-11-25T12:00:00",
          "2024-11-25T14:15:00",
          "2024-11-25T16:15:46",
          "2024-11-25T18:35:00",
          "2024-11-25T19:40:00",
          "2024-11-25T21:20:00"
         ],
         "xaxis": "x",
         "y": [
          "B777",
          "B777",
          "B777",
          "B777",
          "B777",
          "B777",
          "B777",
          "B777",
          "B777",
          "B777",
          "B777",
          "B777",
          "B777",
          "B777",
          "B777"
         ],
         "yaxis": "y"
        },
        {
         "customdata": [
          [
           "CX110",
           "08:45 AM",
           "YSSY",
           "VHHH",
           "A359"
          ],
          [
           "TG476",
           "10:00 AM",
           "YSSY",
           "VTBS",
           "A359"
          ],
          [
           "OZ602",
           "10:20 AM",
           "YSSY",
           "RKSI",
           "A359"
          ],
          [
           "CX162",
           "11:05 AM",
           "YSSY",
           "VHHH",
           "A359"
          ],
          [
           "DL40",
           "11:05 AM",
           "YSSY",
           "KLAX",
           "A359"
          ],
          [
           "VN772",
           "11:50 AM",
           "YSSY",
           "VVTS",
           "A359"
          ],
          [
           "MU562",
           "12:00 PM",
           "YSSY",
           "ZSPD",
           "A359"
          ],
          [
           "FJ910",
           "02:00 PM",
           "YSSY",
           "NFFN",
           "A359"
          ],
          [
           "VN786",
           "03:15 PM",
           "YSSY",
           "VVNB",
           "A359"
          ],
          [
           "TG472",
           "03:50 PM",
           "YSSY",
           "VTBS",
           "A359"
          ],
          [
           "SQ242",
           "07:10 PM",
           "YSSY",
           "WSSS",
           "A359"
          ],
          [
           "3U3892",
           "08:50 PM",
           "YSSY",
           "ZUTF",
           "A359"
          ],
          [
           "CZ302",
           "10:00 PM",
           "YSSY",
           "ZGGG",
           "A359"
          ],
          [
           "CI52",
           "10:10 PM",
           "YSSY",
           "RCTP",
           "A359"
          ]
         ],
         "hovertemplate": "Number: <b>%{customdata[0]}</b><br>Time: <b>%{customdata[1]}</b><br><br>Origin: %{customdata[2]}<br>Destination: %{customdata[3]}<extra></extra>",
         "hovertext": [
          "CX110",
          "TG476",
          "OZ602",
          "CX162",
          "DL40",
          "VN772",
          "MU562",
          "FJ910",
          "VN786",
          "TG472",
          "SQ242",
          "3U3892",
          "CZ302",
          "CI52"
         ],
         "legendgroup": "A350, takeoff",
         "marker": {
          "color": "#FF97FF",
          "size": 10,
          "sizemode": "area",
          "sizeref": 10,
          "symbol": "triangle-up"
         },
         "mode": "markers",
         "name": "A350, takeoff",
         "orientation": "v",
         "showlegend": true,
         "type": "scatter",
         "x": [
          "2024-11-25T08:45:00",
          "2024-11-25T10:00:00",
          "2024-11-25T10:20:00",
          "2024-11-25T11:05:00",
          "2024-11-25T11:05:00",
          "2024-11-25T11:50:00",
          "2024-11-25T12:00:00",
          "2024-11-25T14:00:00",
          "2024-11-25T15:15:00",
          "2024-11-25T15:50:00",
          "2024-11-25T19:10:00",
          "2024-11-25T20:50:00",
          "2024-11-25T22:00:00",
          "2024-11-25T22:10:00"
         ],
         "xaxis": "x",
         "y": [
          "A350",
          "A350",
          "A350",
          "A350",
          "A350",
          "A350",
          "A350",
          "A350",
          "A350",
          "A350",
          "A350",
          "A350",
          "A350",
          "A350"
         ],
         "yaxis": "y"
        },
        {
         "customdata": [
          [
           "CX111",
           "07:15 AM",
           "VHHH",
           "YSSY",
           "A359"
          ],
          [
           "OZ601",
           "08:20 AM",
           "RKSI",
           "YSSY",
           "A359"
          ],
          [
           "DL41",
           "08:35 AM",
           "KLAX",
           "YSSY",
           "A359"
          ],
          [
           "CX161",
           "09:35 AM",
           "VHHH",
           "YSSY",
           "A359"
          ],
          [
           "VN773",
           "09:50 AM",
           "VVTS",
           "YSSY",
           "A359"
          ],
          [
           "MU561",
           "10:00 AM",
           "ZSPD",
           "YSSY",
           "A359"
          ],
          [
           "TG471",
           "11:55 AM",
           "VTBS",
           "YSSY",
           "A359"
          ],
          [
           "CI51",
           "12:10 PM",
           "RCTP",
           "YSSY",
           "A359"
          ],
          [
           "FJ911",
           "12:30 PM",
           "NFFN",
           "YSSY",
           "A359"
          ],
          [
           "VN787",
           "01:15 PM",
           "VVNB",
           "YSSY",
           "A359"
          ],
          [
           "3U3891",
           "03:25 PM",
           "ZUTF",
           "YSSY",
           "A359"
          ],
          [
           "SQ241",
           "05:55 PM",
           "WSSS",
           "YSSY",
           "A359"
          ],
          [
           "CZ301",
           "08:20 PM",
           "ZGGG",
           "YSSY",
           "A359"
          ],
          [
           "TG475",
           "09:50 PM",
           "VTBS",
           "YSSY",
           "A359"
          ]
         ],
         "hovertemplate": "Number: <b>%{customdata[0]}</b><br>Time: <b>%{customdata[1]}</b><br><br>Origin: %{customdata[2]}<br>Destination: %{customdata[3]}<extra></extra>",
         "hovertext": [
          "CX111",
          "OZ601",
          "DL41",
          "CX161",
          "VN773",
          "MU561",
          "TG471",
          "CI51",
          "FJ911",
          "VN787",
          "3U3891",
          "SQ241",
          "CZ301",
          "TG475"
         ],
         "legendgroup": "A350, landing",
         "marker": {
          "color": "#FF97FF",
          "size": 10,
          "sizemode": "area",
          "sizeref": 10,
          "symbol": "triangle-down"
         },
         "mode": "markers",
         "name": "A350, landing",
         "orientation": "v",
         "showlegend": true,
         "type": "scatter",
         "x": [
          "2024-11-25T07:15:00",
          "2024-11-25T08:20:00",
          "2024-11-25T08:35:00",
          "2024-11-25T09:35:00",
          "2024-11-25T09:50:00",
          "2024-11-25T10:00:00",
          "2024-11-25T11:55:00",
          "2024-11-25T12:10:00",
          "2024-11-25T12:30:00",
          "2024-11-25T13:15:00",
          "2024-11-25T15:25:00",
          "2024-11-25T17:55:00",
          "2024-11-25T20:20:00",
          "2024-11-25T21:50:00"
         ],
         "xaxis": "x",
         "y": [
          "A350",
          "A350",
          "A350",
          "A350",
          "A350",
          "A350",
          "A350",
          "A350",
          "A350",
          "A350",
          "A350",
          "A350",
          "A350",
          "A350"
         ],
         "yaxis": "y"
        },
        {
         "customdata": [
          [
           "EK415",
           "06:00 AM",
           "YSSY",
           "OMDB",
           "A388"
          ],
          [
           "EK412",
           "08:45 AM",
           "YSSY",
           "NZCH",
           "A388"
          ],
          [
           "QF63",
           "09:30 AM",
           "YSSY",
           "FAOR",
           "A388"
          ],
          [
           "SQ232",
           "12:15 PM",
           "YSSY",
           "WSSS",
           "A388"
          ],
          [
           "QF1",
           "03:55 PM",
           "YSSY",
           "WSSS",
           "A388"
          ],
          [
           "SQ222",
           "04:10 PM",
           "YSSY",
           "WSSS",
           "A388"
          ],
          [
           "QF11",
           "05:25 PM",
           "YSSY",
           "KLAX",
           "A388"
          ],
          [
           "EK417",
           "09:10 PM",
           "YSSY",
           "OMDB",
           "A388"
          ],
          [
           "QR909",
           "09:40 PM",
           "YSSY",
           "OTHH",
           "A388"
          ],
          [
           "EK413",
           "09:45 PM",
           "YSSY",
           "OMDB",
           "A388"
          ]
         ],
         "hovertemplate": "Number: <b>%{customdata[0]}</b><br>Time: <b>%{customdata[1]}</b><br><br>Origin: %{customdata[2]}<br>Destination: %{customdata[3]}<extra></extra>",
         "hovertext": [
          "EK415",
          "EK412",
          "QF63",
          "SQ232",
          "QF1",
          "SQ222",
          "QF11",
          "EK417",
          "QR909",
          "EK413"
         ],
         "legendgroup": "A380, takeoff",
         "marker": {
          "color": "#FECB52",
          "size": 10,
          "sizemode": "area",
          "sizeref": 10,
          "symbol": "triangle-up"
         },
         "mode": "markers",
         "name": "A380, takeoff",
         "orientation": "v",
         "showlegend": true,
         "type": "scatter",
         "x": [
          "2024-11-25T06:00:00",
          "2024-11-25T08:45:00",
          "2024-11-25T09:30:00",
          "2024-11-25T12:15:00",
          "2024-11-25T15:55:00",
          "2024-11-25T16:10:00",
          "2024-11-25T17:25:00",
          "2024-11-25T21:10:00",
          "2024-11-25T21:40:00",
          "2024-11-25T21:45:00"
         ],
         "xaxis": "x",
         "y": [
          "A380",
          "A380",
          "A380",
          "A380",
          "A380",
          "A380",
          "A380",
          "A380",
          "A380",
          "A380"
         ],
         "yaxis": "y"
        },
        {
         "customdata": [
          [
           "QF2",
           "06:30 AM",
           "WSSS",
           "YSSY",
           "A388"
          ],
          [
           "EK412",
           "07:00 AM",
           "OMDB",
           "YSSY",
           "A388"
          ],
          [
           "QF12",
           "07:25 AM",
           "KLAX",
           "YSSY",
           "A388"
          ],
          [
           "SQ221",
           "07:40 AM",
           "WSSS",
           "YSSY",
           "A388"
          ],
          [
           "SQ231",
           "11:50 AM",
           "WSSS",
           "YSSY",
           "A388"
          ],
          [
           "QF64",
           "02:15 PM",
           "FAOR",
           "YSSY",
           "A388"
          ],
          [
           "EK416",
           "06:35 PM",
           "OMDB",
           "YSSY",
           "A388"
          ],
          [
           "QR908",
           "06:50 PM",
           "OTHH",
           "YSSY",
           "A388"
          ],
          [
           "EK413",
           "07:40 PM",
           "NZCH",
           "YSSY",
           "A388"
          ],
          [
           "EK414",
           "10:30 PM",
           "OMDB",
           "YSSY",
           "A388"
          ]
         ],
         "hovertemplate": "Number: <b>%{customdata[0]}</b><br>Time: <b>%{customdata[1]}</b><br><br>Origin: %{customdata[2]}<br>Destination: %{customdata[3]}<extra></extra>",
         "hovertext": [
          "QF2",
          "EK412",
          "QF12",
          "SQ221",
          "SQ231",
          "QF64",
          "EK416",
          "QR908",
          "EK413",
          "EK414"
         ],
         "legendgroup": "A380, landing",
         "marker": {
          "color": "#FECB52",
          "size": 10,
          "sizemode": "area",
          "sizeref": 10,
          "symbol": "triangle-down"
         },
         "mode": "markers",
         "name": "A380, landing",
         "orientation": "v",
         "showlegend": true,
         "type": "scatter",
         "x": [
          "2024-11-25T06:30:00",
          "2024-11-25T07:00:00",
          "2024-11-25T07:25:00",
          "2024-11-25T07:40:00",
          "2024-11-25T11:50:00",
          "2024-11-25T14:15:00",
          "2024-11-25T18:35:00",
          "2024-11-25T18:50:00",
          "2024-11-25T19:40:00",
          "2024-11-25T22:30:00"
         ],
         "xaxis": "x",
         "y": [
          "A380",
          "A380",
          "A380",
          "A380",
          "A380",
          "A380",
          "A380",
          "A380",
          "A380",
          "A380"
         ],
         "yaxis": "y"
        },
        {
         "customdata": [
          [
           "QF7408",
           "04:00 PM",
           "YSSY",
           "YPAD",
           "14Z"
          ],
          [
           "QF7293",
           "10:40 PM",
           "YSSY",
           "YMML",
           "B463"
          ],
          [
           "QF7412",
           "11:25 PM",
           "YSSY",
           "YBBN",
           "14Y"
          ],
          [
           "QF7440",
           "11:50 PM",
           "YSSY",
           "YBBN",
           "14Z"
          ],
          [
           "NC7440",
           "11:50 PM",
           "YSSY",
           "YBBN",
           "B463"
          ]
         ],
         "hovertemplate": "Number: <b>%{customdata[0]}</b><br>Time: <b>%{customdata[1]}</b><br><br>Origin: %{customdata[2]}<br>Destination: %{customdata[3]}<extra></extra>",
         "hovertext": [
          "QF7408",
          "QF7293",
          "QF7412",
          "QF7440",
          "NC7440"
         ],
         "legendgroup": "BA146, takeoff",
         "marker": {
          "color": "#636efa",
          "size": 10,
          "sizemode": "area",
          "sizeref": 10,
          "symbol": "triangle-up"
         },
         "mode": "markers",
         "name": "BA146, takeoff",
         "orientation": "v",
         "showlegend": true,
         "type": "scatter",
         "x": [
          "2024-11-25T16:00:00",
          "2024-11-25T22:40:00",
          "2024-11-25T23:25:00",
          "2024-11-25T23:50:00",
          "2024-11-25T23:50:00"
         ],
         "xaxis": "x",
         "y": [
          "BA146",
          "BA146",
          "BA146",
          "BA146",
          "BA146"
         ],
         "yaxis": "y"
        },
        {
         "customdata": [
          [
           "QF7298",
           "09:54 PM",
           "YBBN",
           "YSSY",
           "B463"
          ],
          [
           "QF7411",
           "10:50 PM",
           "YMML",
           "YSSY",
           "14Y"
          ],
          [
           "NC7484",
           "11:02 PM",
           "YPAD",
           "YSSY",
           "B463"
          ],
          [
           "QF7226",
           "11:11 PM",
           "YBBN",
           "YSSY",
           "B463"
          ],
          [
           "QF7484",
           "11:15 PM",
           "YPAD",
           "YSSY",
           "14Z"
          ],
          [
           "NC7434",
           "11:38 PM",
           "YBCG",
           "YSSY",
           "B463"
          ],
          [
           "NC7487",
           "11:44 PM",
           "YMML",
           "YSSY",
           "B463"
          ],
          [
           "QF7419",
           "11:45 PM",
           "YBBN",
           "YSSY",
           "B462"
          ],
          [
           "QF7434",
           "11:50 PM",
           "YBCG",
           "YSSY",
           "B463"
          ]
         ],
         "hovertemplate": "Number: <b>%{customdata[0]}</b><br>Time: <b>%{customdata[1]}</b><br><br>Origin: %{customdata[2]}<br>Destination: %{customdata[3]}<extra></extra>",
         "hovertext": [
          "QF7298",
          "QF7411",
          "NC7484",
          "QF7226",
          "QF7484",
          "NC7434",
          "NC7487",
          "QF7419",
          "QF7434"
         ],
         "legendgroup": "BA146, landing",
         "marker": {
          "color": "#636efa",
          "size": 10,
          "sizemode": "area",
          "sizeref": 10,
          "symbol": "triangle-down"
         },
         "mode": "markers",
         "name": "BA146, landing",
         "orientation": "v",
         "showlegend": true,
         "type": "scatter",
         "x": [
          "2024-11-25T21:54:00",
          "2024-11-25T22:50:00",
          "2024-11-25T23:02:00",
          "2024-11-25T23:11:00",
          "2024-11-25T23:15:00",
          "2024-11-25T23:38:00",
          "2024-11-25T23:44:00",
          "2024-11-25T23:45:00",
          "2024-11-25T23:50:00"
         ],
         "xaxis": "x",
         "y": [
          "BA146",
          "BA146",
          "BA146",
          "BA146",
          "BA146",
          "BA146",
          "BA146",
          "BA146",
          "BA146"
         ],
         "yaxis": "y"
        },
        {
         "customdata": [
          [
           "CX20",
           "02:10 PM",
           "YSSY",
           "YMML",
           "B748"
          ],
          [
           "QF7581",
           "08:40 PM",
           "YSSY",
           "VTBS",
           "74Y"
          ],
          [
           "5Y7581",
           "08:40 PM",
           "YSSY",
           "VTBS",
           "74F"
          ],
          [
           "5X33",
           "09:00 PM",
           "YSSY",
           "ZSPD",
           "B748"
          ]
         ],
         "hovertemplate": "Number: <b>%{customdata[0]}</b><br>Time: <b>%{customdata[1]}</b><br><br>Origin: %{customdata[2]}<br>Destination: %{customdata[3]}<extra></extra>",
         "hovertext": [
          "CX20",
          "QF7581",
          "5Y7581",
          "5X33"
         ],
         "legendgroup": "B747, takeoff",
         "marker": {
          "color": "#EF553B",
          "size": 10,
          "sizemode": "area",
          "sizeref": 10,
          "symbol": "triangle-up"
         },
         "mode": "markers",
         "name": "B747, takeoff",
         "orientation": "v",
         "showlegend": true,
         "type": "scatter",
         "x": [
          "2024-11-25T14:10:00",
          "2024-11-25T20:40:00",
          "2024-11-25T20:40:00",
          "2024-11-25T21:00:00"
         ],
         "xaxis": "x",
         "y": [
          "B747",
          "B747",
          "B747",
          "B747"
         ],
         "yaxis": "y"
        },
        {
         "customdata": [
          [
           "CX21",
           "11:45 AM",
           "VHHH",
           "YSSY",
           "B748"
          ],
          [
           "QF7552",
           "03:00 PM",
           "NZAA",
           "YSSY",
           "74Y"
          ],
          [
           "5Y7552",
           "03:00 PM",
           "NZAA",
           "YSSY",
           "74F"
          ],
          [
           "5X34",
           "04:49 PM",
           "PHNL",
           "YSSY",
           "B744"
          ],
          [
           "5X34",
           "07:22 PM",
           "PHNL",
           "YSSY",
           "B748"
          ]
         ],
         "hovertemplate": "Number: <b>%{customdata[0]}</b><br>Time: <b>%{customdata[1]}</b><br><br>Origin: %{customdata[2]}<br>Destination: %{customdata[3]}<extra></extra>",
         "hovertext": [
          "CX21",
          "QF7552",
          "5Y7552",
          "5X34",
          "5X34"
         ],
         "legendgroup": "B747, landing",
         "marker": {
          "color": "#EF553B",
          "size": 10,
          "sizemode": "area",
          "sizeref": 10,
          "symbol": "triangle-down"
         },
         "mode": "markers",
         "name": "B747, landing",
         "orientation": "v",
         "showlegend": true,
         "type": "scatter",
         "x": [
          "2024-11-25T11:45:00",
          "2024-11-25T15:00:00",
          "2024-11-25T15:00:00",
          "2024-11-25T16:49:00",
          "2024-11-25T19:22:00"
         ],
         "xaxis": "x",
         "y": [
          "B747",
          "B747",
          "B747",
          "B747",
          "B747"
         ],
         "yaxis": "y"
        }
       ],
       "layout": {
        "height": 600,
        "hoverlabel": {
         "align": "right"
        },
        "legend": {
         "title": {
          "text": "Aircraft Family, mode"
         },
         "tracegroupgap": 0
        },
        "showlegend": false,
        "template": {
         "data": {
          "bar": [
           {
            "error_x": {
             "color": "#2a3f5f"
            },
            "error_y": {
             "color": "#2a3f5f"
            },
            "marker": {
             "line": {
              "color": "white",
              "width": 0.5
             },
             "pattern": {
              "fillmode": "overlay",
              "size": 10,
              "solidity": 0.2
             }
            },
            "type": "bar"
           }
          ],
          "barpolar": [
           {
            "marker": {
             "line": {
              "color": "white",
              "width": 0.5
             },
             "pattern": {
              "fillmode": "overlay",
              "size": 10,
              "solidity": 0.2
             }
            },
            "type": "barpolar"
           }
          ],
          "carpet": [
           {
            "aaxis": {
             "endlinecolor": "#2a3f5f",
             "gridcolor": "#C8D4E3",
             "linecolor": "#C8D4E3",
             "minorgridcolor": "#C8D4E3",
             "startlinecolor": "#2a3f5f"
            },
            "baxis": {
             "endlinecolor": "#2a3f5f",
             "gridcolor": "#C8D4E3",
             "linecolor": "#C8D4E3",
             "minorgridcolor": "#C8D4E3",
             "startlinecolor": "#2a3f5f"
            },
            "type": "carpet"
           }
          ],
          "choropleth": [
           {
            "colorbar": {
             "outlinewidth": 0,
             "ticks": ""
            },
            "type": "choropleth"
           }
          ],
          "contour": [
           {
            "colorbar": {
             "outlinewidth": 0,
             "ticks": ""
            },
            "colorscale": [
             [
              0,
              "#0d0887"
             ],
             [
              0.1111111111111111,
              "#46039f"
             ],
             [
              0.2222222222222222,
              "#7201a8"
             ],
             [
              0.3333333333333333,
              "#9c179e"
             ],
             [
              0.4444444444444444,
              "#bd3786"
             ],
             [
              0.5555555555555556,
              "#d8576b"
             ],
             [
              0.6666666666666666,
              "#ed7953"
             ],
             [
              0.7777777777777778,
              "#fb9f3a"
             ],
             [
              0.8888888888888888,
              "#fdca26"
             ],
             [
              1,
              "#f0f921"
             ]
            ],
            "type": "contour"
           }
          ],
          "contourcarpet": [
           {
            "colorbar": {
             "outlinewidth": 0,
             "ticks": ""
            },
            "type": "contourcarpet"
           }
          ],
          "heatmap": [
           {
            "colorbar": {
             "outlinewidth": 0,
             "ticks": ""
            },
            "colorscale": [
             [
              0,
              "#0d0887"
             ],
             [
              0.1111111111111111,
              "#46039f"
             ],
             [
              0.2222222222222222,
              "#7201a8"
             ],
             [
              0.3333333333333333,
              "#9c179e"
             ],
             [
              0.4444444444444444,
              "#bd3786"
             ],
             [
              0.5555555555555556,
              "#d8576b"
             ],
             [
              0.6666666666666666,
              "#ed7953"
             ],
             [
              0.7777777777777778,
              "#fb9f3a"
             ],
             [
              0.8888888888888888,
              "#fdca26"
             ],
             [
              1,
              "#f0f921"
             ]
            ],
            "type": "heatmap"
           }
          ],
          "heatmapgl": [
           {
            "colorbar": {
             "outlinewidth": 0,
             "ticks": ""
            },
            "colorscale": [
             [
              0,
              "#0d0887"
             ],
             [
              0.1111111111111111,
              "#46039f"
             ],
             [
              0.2222222222222222,
              "#7201a8"
             ],
             [
              0.3333333333333333,
              "#9c179e"
             ],
             [
              0.4444444444444444,
              "#bd3786"
             ],
             [
              0.5555555555555556,
              "#d8576b"
             ],
             [
              0.6666666666666666,
              "#ed7953"
             ],
             [
              0.7777777777777778,
              "#fb9f3a"
             ],
             [
              0.8888888888888888,
              "#fdca26"
             ],
             [
              1,
              "#f0f921"
             ]
            ],
            "type": "heatmapgl"
           }
          ],
          "histogram": [
           {
            "marker": {
             "pattern": {
              "fillmode": "overlay",
              "size": 10,
              "solidity": 0.2
             }
            },
            "type": "histogram"
           }
          ],
          "histogram2d": [
           {
            "colorbar": {
             "outlinewidth": 0,
             "ticks": ""
            },
            "colorscale": [
             [
              0,
              "#0d0887"
             ],
             [
              0.1111111111111111,
              "#46039f"
             ],
             [
              0.2222222222222222,
              "#7201a8"
             ],
             [
              0.3333333333333333,
              "#9c179e"
             ],
             [
              0.4444444444444444,
              "#bd3786"
             ],
             [
              0.5555555555555556,
              "#d8576b"
             ],
             [
              0.6666666666666666,
              "#ed7953"
             ],
             [
              0.7777777777777778,
              "#fb9f3a"
             ],
             [
              0.8888888888888888,
              "#fdca26"
             ],
             [
              1,
              "#f0f921"
             ]
            ],
            "type": "histogram2d"
           }
          ],
          "histogram2dcontour": [
           {
            "colorbar": {
             "outlinewidth": 0,
             "ticks": ""
            },
            "colorscale": [
             [
              0,
              "#0d0887"
             ],
             [
              0.1111111111111111,
              "#46039f"
             ],
             [
              0.2222222222222222,
              "#7201a8"
             ],
             [
              0.3333333333333333,
              "#9c179e"
             ],
             [
              0.4444444444444444,
              "#bd3786"
             ],
             [
              0.5555555555555556,
              "#d8576b"
             ],
             [
              0.6666666666666666,
              "#ed7953"
             ],
             [
              0.7777777777777778,
              "#fb9f3a"
             ],
             [
              0.8888888888888888,
              "#fdca26"
             ],
             [
              1,
              "#f0f921"
             ]
            ],
            "type": "histogram2dcontour"
           }
          ],
          "mesh3d": [
           {
            "colorbar": {
             "outlinewidth": 0,
             "ticks": ""
            },
            "type": "mesh3d"
           }
          ],
          "parcoords": [
           {
            "line": {
             "colorbar": {
              "outlinewidth": 0,
              "ticks": ""
             }
            },
            "type": "parcoords"
           }
          ],
          "pie": [
           {
            "automargin": true,
            "type": "pie"
           }
          ],
          "scatter": [
           {
            "fillpattern": {
             "fillmode": "overlay",
             "size": 10,
             "solidity": 0.2
            },
            "type": "scatter"
           }
          ],
          "scatter3d": [
           {
            "line": {
             "colorbar": {
              "outlinewidth": 0,
              "ticks": ""
             }
            },
            "marker": {
             "colorbar": {
              "outlinewidth": 0,
              "ticks": ""
             }
            },
            "type": "scatter3d"
           }
          ],
          "scattercarpet": [
           {
            "marker": {
             "colorbar": {
              "outlinewidth": 0,
              "ticks": ""
             }
            },
            "type": "scattercarpet"
           }
          ],
          "scattergeo": [
           {
            "marker": {
             "colorbar": {
              "outlinewidth": 0,
              "ticks": ""
             }
            },
            "type": "scattergeo"
           }
          ],
          "scattergl": [
           {
            "marker": {
             "colorbar": {
              "outlinewidth": 0,
              "ticks": ""
             }
            },
            "type": "scattergl"
           }
          ],
          "scattermapbox": [
           {
            "marker": {
             "colorbar": {
              "outlinewidth": 0,
              "ticks": ""
             }
            },
            "type": "scattermapbox"
           }
          ],
          "scatterpolar": [
           {
            "marker": {
             "colorbar": {
              "outlinewidth": 0,
              "ticks": ""
             }
            },
            "type": "scatterpolar"
           }
          ],
          "scatterpolargl": [
           {
            "marker": {
             "colorbar": {
              "outlinewidth": 0,
              "ticks": ""
             }
            },
            "type": "scatterpolargl"
           }
          ],
          "scatterternary": [
           {
            "marker": {
             "colorbar": {
              "outlinewidth": 0,
              "ticks": ""
             }
            },
            "type": "scatterternary"
           }
          ],
          "surface": [
           {
            "colorbar": {
             "outlinewidth": 0,
             "ticks": ""
            },
            "colorscale": [
             [
              0,
              "#0d0887"
             ],
             [
              0.1111111111111111,
              "#46039f"
             ],
             [
              0.2222222222222222,
              "#7201a8"
             ],
             [
              0.3333333333333333,
              "#9c179e"
             ],
             [
              0.4444444444444444,
              "#bd3786"
             ],
             [
              0.5555555555555556,
              "#d8576b"
             ],
             [
              0.6666666666666666,
              "#ed7953"
             ],
             [
              0.7777777777777778,
              "#fb9f3a"
             ],
             [
              0.8888888888888888,
              "#fdca26"
             ],
             [
              1,
              "#f0f921"
             ]
            ],
            "type": "surface"
           }
          ],
          "table": [
           {
            "cells": {
             "fill": {
              "color": "#EBF0F8"
             },
             "line": {
              "color": "white"
             }
            },
            "header": {
             "fill": {
              "color": "#C8D4E3"
             },
             "line": {
              "color": "white"
             }
            },
            "type": "table"
           }
          ]
         },
         "layout": {
          "annotationdefaults": {
           "arrowcolor": "#2a3f5f",
           "arrowhead": 0,
           "arrowwidth": 1
          },
          "autotypenumbers": "strict",
          "coloraxis": {
           "colorbar": {
            "outlinewidth": 0,
            "ticks": ""
           }
          },
          "colorscale": {
           "diverging": [
            [
             0,
             "#8e0152"
            ],
            [
             0.1,
             "#c51b7d"
            ],
            [
             0.2,
             "#de77ae"
            ],
            [
             0.3,
             "#f1b6da"
            ],
            [
             0.4,
             "#fde0ef"
            ],
            [
             0.5,
             "#f7f7f7"
            ],
            [
             0.6,
             "#e6f5d0"
            ],
            [
             0.7,
             "#b8e186"
            ],
            [
             0.8,
             "#7fbc41"
            ],
            [
             0.9,
             "#4d9221"
            ],
            [
             1,
             "#276419"
            ]
           ],
           "sequential": [
            [
             0,
             "#0d0887"
            ],
            [
             0.1111111111111111,
             "#46039f"
            ],
            [
             0.2222222222222222,
             "#7201a8"
            ],
            [
             0.3333333333333333,
             "#9c179e"
            ],
            [
             0.4444444444444444,
             "#bd3786"
            ],
            [
             0.5555555555555556,
             "#d8576b"
            ],
            [
             0.6666666666666666,
             "#ed7953"
            ],
            [
             0.7777777777777778,
             "#fb9f3a"
            ],
            [
             0.8888888888888888,
             "#fdca26"
            ],
            [
             1,
             "#f0f921"
            ]
           ],
           "sequentialminus": [
            [
             0,
             "#0d0887"
            ],
            [
             0.1111111111111111,
             "#46039f"
            ],
            [
             0.2222222222222222,
             "#7201a8"
            ],
            [
             0.3333333333333333,
             "#9c179e"
            ],
            [
             0.4444444444444444,
             "#bd3786"
            ],
            [
             0.5555555555555556,
             "#d8576b"
            ],
            [
             0.6666666666666666,
             "#ed7953"
            ],
            [
             0.7777777777777778,
             "#fb9f3a"
            ],
            [
             0.8888888888888888,
             "#fdca26"
            ],
            [
             1,
             "#f0f921"
            ]
           ]
          },
          "colorway": [
           "#636efa",
           "#EF553B",
           "#00cc96",
           "#ab63fa",
           "#FFA15A",
           "#19d3f3",
           "#FF6692",
           "#B6E880",
           "#FF97FF",
           "#FECB52"
          ],
          "font": {
           "color": "#2a3f5f"
          },
          "geo": {
           "bgcolor": "white",
           "lakecolor": "white",
           "landcolor": "white",
           "showlakes": true,
           "showland": true,
           "subunitcolor": "#C8D4E3"
          },
          "hoverlabel": {
           "align": "left"
          },
          "hovermode": "closest",
          "mapbox": {
           "style": "light"
          },
          "paper_bgcolor": "white",
          "plot_bgcolor": "white",
          "polar": {
           "angularaxis": {
            "gridcolor": "#EBF0F8",
            "linecolor": "#EBF0F8",
            "ticks": ""
           },
           "bgcolor": "white",
           "radialaxis": {
            "gridcolor": "#EBF0F8",
            "linecolor": "#EBF0F8",
            "ticks": ""
           }
          },
          "scene": {
           "xaxis": {
            "backgroundcolor": "white",
            "gridcolor": "#DFE8F3",
            "gridwidth": 2,
            "linecolor": "#EBF0F8",
            "showbackground": true,
            "ticks": "",
            "zerolinecolor": "#EBF0F8"
           },
           "yaxis": {
            "backgroundcolor": "white",
            "gridcolor": "#DFE8F3",
            "gridwidth": 2,
            "linecolor": "#EBF0F8",
            "showbackground": true,
            "ticks": "",
            "zerolinecolor": "#EBF0F8"
           },
           "zaxis": {
            "backgroundcolor": "white",
            "gridcolor": "#DFE8F3",
            "gridwidth": 2,
            "linecolor": "#EBF0F8",
            "showbackground": true,
            "ticks": "",
            "zerolinecolor": "#EBF0F8"
           }
          },
          "shapedefaults": {
           "line": {
            "color": "#2a3f5f"
           }
          },
          "ternary": {
           "aaxis": {
            "gridcolor": "#DFE8F3",
            "linecolor": "#A2B1C6",
            "ticks": ""
           },
           "baxis": {
            "gridcolor": "#DFE8F3",
            "linecolor": "#A2B1C6",
            "ticks": ""
           },
           "bgcolor": "white",
           "caxis": {
            "gridcolor": "#DFE8F3",
            "linecolor": "#A2B1C6",
            "ticks": ""
           }
          },
          "title": {
           "x": 0.05
          },
          "xaxis": {
           "automargin": true,
           "gridcolor": "#EBF0F8",
           "linecolor": "#EBF0F8",
           "ticks": "",
           "title": {
            "standoff": 15
           },
           "zerolinecolor": "#EBF0F8",
           "zerolinewidth": 2
          },
          "yaxis": {
           "automargin": true,
           "gridcolor": "#EBF0F8",
           "linecolor": "#EBF0F8",
           "ticks": "",
           "title": {
            "standoff": 15
           },
           "zerolinecolor": "#EBF0F8",
           "zerolinewidth": 2
          }
         }
        },
        "title": {
         "text": "Flight Schedule by Aircraft Family"
        },
        "xaxis": {
         "anchor": "y",
         "domain": [
          0,
          1
         ],
         "title": {
          "text": "Scheduled Time"
         }
        },
        "yaxis": {
         "anchor": "x",
         "categoryarray": [
          "B747",
          "BA146",
          "A380",
          "A350",
          "B777",
          "B787",
          "Unknown",
          "A330",
          "S340",
          "DHC8",
          "A320",
          "B737"
         ],
         "categoryorder": "array",
         "domain": [
          0,
          1
         ],
         "title": {
          "text": "Aircraft Family"
         }
        }
       }
      }
     },
     "metadata": {},
     "output_type": "display_data"
    }
   ],
   "source": [
    "plot_activity_by_aircraft_family(df)"
   ]
  },
  {
   "cell_type": "code",
   "execution_count": 8,
   "metadata": {},
   "outputs": [
    {
     "data": {
      "application/vnd.plotly.v1+json": {
       "config": {
        "plotlyServerURL": "https://plot.ly"
       },
       "data": [
        {
         "customdata": [
          [
           "LD8076",
           "07:10 AM",
           "YSSY",
           "VHHH",
           "A332"
          ],
          [
           "QF643",
           "08:20 AM",
           "YSSY",
           "YPPH",
           "A332"
          ],
          [
           "CZ3072",
           "09:20 AM",
           "YSSY",
           "ZGSZ",
           "A333"
          ],
          [
           "QF67",
           "09:30 AM",
           "YSSY",
           "VOBL",
           "A332"
          ],
          [
           "GA715",
           "10:05 AM",
           "YSSY",
           "WADD",
           "A333"
          ],
          [
           "QF295",
           "10:20 AM",
           "YSSY",
           "VTBS",
           "A333"
          ],
          [
           "JD480",
           "10:40 AM",
           "YSSY",
           "ZSQD",
           "A333"
          ],
          [
           "D7223",
           "10:45 AM",
           "YSSY",
           "WMKK",
           "A333"
          ],
          [
           "QF291",
           "11:00 AM",
           "YSSY",
           "WSSS",
           "A333"
          ],
          [
           "QF127",
           "11:15 AM",
           "YSSY",
           "VHHH",
           "A333"
          ],
          [
           "VJ86",
           "11:15 AM",
           "YSSY",
           "VVTS",
           "A333"
          ],
          [
           "QF87",
           "11:30 AM",
           "YSSY",
           "RKSI",
           "A333"
          ],
          [
           "GA713",
           "11:40 AM",
           "YSSY",
           "WIII",
           "A333"
          ],
          [
           "QF59",
           "12:00 PM",
           "YSSY",
           "RJTT",
           "A333"
          ],
          [
           "QF19",
           "12:05 PM",
           "YSSY",
           "RPLL",
           "A332"
          ],
          [
           "MH122",
           "12:10 PM",
           "YSSY",
           "WMKK",
           "A333"
          ],
          [
           "TW502",
           "12:15 PM",
           "YSSY",
           "RKSI",
           "A333"
          ],
          [
           "MU7562",
           "12:30 PM",
           "YSSY",
           "ZSPD",
           "333"
          ],
          [
           "MH7030",
           "01:10 PM",
           "YSSY",
           "WMKK",
           "333"
          ],
          [
           "MU750",
           "01:30 PM",
           "YSSY",
           "ZHHH",
           "A332"
          ],
          [
           "QF41",
           "02:20 PM",
           "YSSY",
           "WIII",
           "A332"
          ],
          [
           "MU712",
           "03:10 PM",
           "YSSY",
           "ZSHC",
           "A332"
          ],
          [
           "QF43",
           "04:30 PM",
           "YSSY",
           "WADD",
           "A332"
          ],
          [
           "GS7944",
           "04:50 PM",
           "YSSY",
           "ZUCK",
           "A332"
          ],
          [
           "QF655",
           "07:50 PM",
           "YSSY",
           "YPPH",
           "A332"
          ],
          [
           "MH6204",
           "08:40 PM",
           "YSSY",
           "WMKK",
           "A332"
          ],
          [
           "QF25",
           "09:55 PM",
           "YSSY",
           "RJTT",
           "A333"
          ],
          [
           "MH140",
           "10:15 PM",
           "YSSY",
           "WMKK",
           "A333"
          ],
          [
           "QF7345",
           "10:30 PM",
           "YSSY",
           "YMML",
           "33X"
          ]
         ],
         "hovertemplate": "Number: <b>%{customdata[0]}</b><br>Time: <b>%{customdata[1]}</b><br><br>Origin: %{customdata[2]}<br>Destination: %{customdata[3]}<extra></extra>",
         "hovertext": [
          "LD8076",
          "QF643",
          "CZ3072",
          "QF67",
          "GA715",
          "QF295",
          "JD480",
          "D7223",
          "QF291",
          "QF127",
          "VJ86",
          "QF87",
          "GA713",
          "QF59",
          "QF19",
          "MH122",
          "TW502",
          "MU7562",
          "MH7030",
          "MU750",
          "QF41",
          "MU712",
          "QF43",
          "GS7944",
          "QF655",
          "MH6204",
          "QF25",
          "MH140",
          "QF7345"
         ],
         "legendgroup": "A330, takeoff",
         "marker": {
          "color": "#636efa",
          "size": 10,
          "sizemode": "area",
          "sizeref": 10,
          "symbol": "triangle-up"
         },
         "mode": "markers",
         "name": "A330, takeoff",
         "orientation": "v",
         "showlegend": true,
         "type": "scatter",
         "x": [
          "2024-11-25T07:10:00",
          "2024-11-25T08:20:00",
          "2024-11-25T09:20:00",
          "2024-11-25T09:30:00",
          "2024-11-25T10:05:00",
          "2024-11-25T10:20:00",
          "2024-11-25T10:40:00",
          "2024-11-25T10:45:00",
          "2024-11-25T11:00:00",
          "2024-11-25T11:15:00",
          "2024-11-25T11:15:00",
          "2024-11-25T11:30:00",
          "2024-11-25T11:40:00",
          "2024-11-25T12:00:00",
          "2024-11-25T12:05:00",
          "2024-11-25T12:10:00",
          "2024-11-25T12:15:00",
          "2024-11-25T12:30:00",
          "2024-11-25T13:10:00",
          "2024-11-25T13:30:00",
          "2024-11-25T14:20:00",
          "2024-11-25T15:10:00",
          "2024-11-25T16:30:00",
          "2024-11-25T16:50:00",
          "2024-11-25T19:50:00",
          "2024-11-25T20:40:00",
          "2024-11-25T21:55:00",
          "2024-11-25T22:15:00",
          "2024-11-25T22:30:00"
         ],
         "xaxis": "x",
         "y": [
          "A330",
          "A330",
          "A330",
          "A330",
          "A330",
          "A330",
          "A330",
          "A330",
          "A330",
          "A330",
          "A330",
          "A330",
          "A330",
          "A330",
          "A330",
          "A330",
          "A330",
          "A330",
          "A330",
          "A330",
          "A330",
          "A330",
          "A330",
          "A330",
          "A330",
          "A330",
          "A330",
          "A330",
          "A330"
         ],
         "yaxis": "y"
        },
        {
         "customdata": [
          [
           "QF654",
           "06:05 AM",
           "YPPH",
           "YSSY",
           "A332"
          ],
          [
           "QF44",
           "06:15 AM",
           "WADD",
           "YSSY",
           "A332"
          ],
          [
           "QF20",
           "06:30 AM",
           "RPLL",
           "YSSY",
           "A332"
          ],
          [
           "QF42",
           "06:55 AM",
           "WIII",
           "YSSY",
           "A332"
          ],
          [
           "GA714",
           "07:10 AM",
           "WADD",
           "YSSY",
           "A333"
          ],
          [
           "QF292",
           "07:25 AM",
           "WSSS",
           "YSSY",
           "A333"
          ],
          [
           "CZ3071",
           "07:30 AM",
           "ZGSZ",
           "YSSY",
           "A333"
          ],
          [
           "QF128",
           "07:30 AM",
           "VHHH",
           "YSSY",
           "A333"
          ],
          [
           "QF296",
           "07:35 AM",
           "VTBS",
           "YSSY",
           "A333"
          ],
          [
           "JD479",
           "07:45 AM",
           "ZSQD",
           "YSSY",
           "A333"
          ],
          [
           "VJ85",
           "08:05 AM",
           "VVTS",
           "YSSY",
           "A333"
          ],
          [
           "D7222",
           "09:15 AM",
           "WMKK",
           "YSSY",
           "A333"
          ],
          [
           "GA712",
           "09:40 AM",
           "WIII",
           "YSSY",
           "333"
          ],
          [
           "QF60",
           "09:55 AM",
           "RJTT",
           "YSSY",
           "A333"
          ],
          [
           "TW501",
           "10:15 AM",
           "RKSI",
           "YSSY",
           "A333"
          ],
          [
           "MH123",
           "10:20 AM",
           "WMKK",
           "YSSY",
           "A333"
          ],
          [
           "QF68",
           "10:45 AM",
           "VOBL",
           "YSSY",
           "A332"
          ],
          [
           "MU749",
           "11:00 AM",
           "ZHHH",
           "YSSY",
           "A332"
          ],
          [
           "MH7031",
           "11:25 AM",
           "WMKK",
           "YSSY",
           "333"
          ],
          [
           "QF7526",
           "12:15 PM",
           "VHHH",
           "YSSY",
           "A332"
          ],
          [
           "MU712",
           "01:10 PM",
           "NZAA",
           "YSSY",
           "A332"
          ],
          [
           "GA712",
           "01:38 PM",
           "WIII",
           "YSSY",
           "A333"
          ],
          [
           "GS7943",
           "02:50 PM",
           "ZUCK",
           "YSSY",
           "A332"
          ],
          [
           "QF446",
           "02:55 PM",
           "YMML",
           "YSSY",
           "A333"
          ],
          [
           "QF648",
           "06:30 PM",
           "YPPH",
           "YSSY",
           "A332"
          ],
          [
           "MH6203",
           "06:40 PM",
           "WMKK",
           "YSSY",
           "A332"
          ],
          [
           "QF26",
           "06:50 PM",
           "RJTT",
           "YSSY",
           "A333"
          ],
          [
           "MH141",
           "08:35 PM",
           "WMKK",
           "YSSY",
           "A333"
          ]
         ],
         "hovertemplate": "Number: <b>%{customdata[0]}</b><br>Time: <b>%{customdata[1]}</b><br><br>Origin: %{customdata[2]}<br>Destination: %{customdata[3]}<extra></extra>",
         "hovertext": [
          "QF654",
          "QF44",
          "QF20",
          "QF42",
          "GA714",
          "QF292",
          "CZ3071",
          "QF128",
          "QF296",
          "JD479",
          "VJ85",
          "D7222",
          "GA712",
          "QF60",
          "TW501",
          "MH123",
          "QF68",
          "MU749",
          "MH7031",
          "QF7526",
          "MU712",
          "GA712",
          "GS7943",
          "QF446",
          "QF648",
          "MH6203",
          "QF26",
          "MH141"
         ],
         "legendgroup": "A330, landing",
         "marker": {
          "color": "#636efa",
          "size": 10,
          "sizemode": "area",
          "sizeref": 10,
          "symbol": "triangle-down"
         },
         "mode": "markers",
         "name": "A330, landing",
         "orientation": "v",
         "showlegend": true,
         "type": "scatter",
         "x": [
          "2024-11-25T06:05:00",
          "2024-11-25T06:15:00",
          "2024-11-25T06:30:00",
          "2024-11-25T06:55:00",
          "2024-11-25T07:10:00",
          "2024-11-25T07:25:00",
          "2024-11-25T07:30:00",
          "2024-11-25T07:30:00",
          "2024-11-25T07:35:00",
          "2024-11-25T07:45:00",
          "2024-11-25T08:05:00",
          "2024-11-25T09:15:00",
          "2024-11-25T09:40:00",
          "2024-11-25T09:55:00",
          "2024-11-25T10:15:00",
          "2024-11-25T10:20:00",
          "2024-11-25T10:45:00",
          "2024-11-25T11:00:00",
          "2024-11-25T11:25:00",
          "2024-11-25T12:15:00",
          "2024-11-25T13:10:00",
          "2024-11-25T13:38:00",
          "2024-11-25T14:50:00",
          "2024-11-25T14:55:00",
          "2024-11-25T18:30:00",
          "2024-11-25T18:40:00",
          "2024-11-25T18:50:00",
          "2024-11-25T20:35:00"
         ],
         "xaxis": "x",
         "y": [
          "A330",
          "A330",
          "A330",
          "A330",
          "A330",
          "A330",
          "A330",
          "A330",
          "A330",
          "A330",
          "A330",
          "A330",
          "A330",
          "A330",
          "A330",
          "A330",
          "A330",
          "A330",
          "A330",
          "A330",
          "A330",
          "A330",
          "A330",
          "A330",
          "A330",
          "A330",
          "A330",
          "A330"
         ],
         "yaxis": "y"
        },
        {
         "customdata": [
          [
           "QF3",
           "09:45 AM",
           "YSSY",
           "NZAA",
           "B789"
          ],
          [
           "AI301",
           "10:25 AM",
           "YSSY",
           "VIDP",
           "B788"
          ],
          [
           "UA842",
           "11:20 AM",
           "YSSY",
           "KLAX",
           "B789"
          ],
          [
           "CZ326",
           "11:25 AM",
           "YSSY",
           "ZGGG",
           "B789"
          ],
          [
           "JQ47",
           "11:40 AM",
           "YSSY",
           "RKSI",
           "B788"
          ],
          [
           "LA800",
           "11:40 AM",
           "YSSY",
           "NZAA",
           "B789"
          ],
          [
           "QF7",
           "11:50 AM",
           "YSSY",
           "KDFW",
           "B789"
          ],
          [
           "NH890",
           "12:25 PM",
           "YSSY",
           "RJTT",
           "B789"
          ],
          [
           "MF802",
           "12:30 PM",
           "YSSY",
           "ZSAM",
           "B789"
          ],
          [
           "LA810",
           "12:35 PM",
           "YSSY",
           "SCEL",
           "B789"
          ],
          [
           "TR3",
           "02:05 PM",
           "YSSY",
           "WSSS",
           "B789"
          ],
          [
           "JQ27",
           "03:00 PM",
           "YSSY",
           "VTSP",
           "B788"
          ],
          [
           "QF33",
           "03:30 PM",
           "YSSY",
           "YPPH",
           "B789"
          ],
          [
           "JQ3",
           "05:25 PM",
           "YSSY",
           "PHNL",
           "B788"
          ],
          [
           "QF75",
           "08:30 PM",
           "YSSY",
           "CYVR",
           "B789"
          ],
          [
           "QF103",
           "08:35 PM",
           "YSSY",
           "PHNL",
           "B789"
          ],
          [
           "CA174",
           "08:40 PM",
           "YSSY",
           "ZBAA",
           "B789"
          ],
          [
           "NH880",
           "09:45 PM",
           "YSSY",
           "RJTT",
           "B789"
          ],
          [
           "TR21",
           "09:50 PM",
           "YSSY",
           "WSSS",
           "B789"
          ]
         ],
         "hovertemplate": "Number: <b>%{customdata[0]}</b><br>Time: <b>%{customdata[1]}</b><br><br>Origin: %{customdata[2]}<br>Destination: %{customdata[3]}<extra></extra>",
         "hovertext": [
          "QF3",
          "AI301",
          "UA842",
          "CZ326",
          "JQ47",
          "LA800",
          "QF7",
          "NH890",
          "MF802",
          "LA810",
          "TR3",
          "JQ27",
          "QF33",
          "JQ3",
          "QF75",
          "QF103",
          "CA174",
          "NH880",
          "TR21"
         ],
         "legendgroup": "B787, takeoff",
         "marker": {
          "color": "#EF553B",
          "size": 10,
          "sizemode": "area",
          "sizeref": 10,
          "symbol": "triangle-up"
         },
         "mode": "markers",
         "name": "B787, takeoff",
         "orientation": "v",
         "showlegend": true,
         "type": "scatter",
         "x": [
          "2024-11-25T09:45:00",
          "2024-11-25T10:25:00",
          "2024-11-25T11:20:00",
          "2024-11-25T11:25:00",
          "2024-11-25T11:40:00",
          "2024-11-25T11:40:00",
          "2024-11-25T11:50:00",
          "2024-11-25T12:25:00",
          "2024-11-25T12:30:00",
          "2024-11-25T12:35:00",
          "2024-11-25T14:05:00",
          "2024-11-25T15:00:00",
          "2024-11-25T15:30:00",
          "2024-11-25T17:25:00",
          "2024-11-25T20:30:00",
          "2024-11-25T20:35:00",
          "2024-11-25T20:40:00",
          "2024-11-25T21:45:00",
          "2024-11-25T21:50:00"
         ],
         "xaxis": "x",
         "y": [
          "B787",
          "B787",
          "B787",
          "B787",
          "B787",
          "B787",
          "B787",
          "B787",
          "B787",
          "B787",
          "B787",
          "B787",
          "B787",
          "B787",
          "B787",
          "B787",
          "B787",
          "B787",
          "B787"
         ],
         "yaxis": "y"
        },
        {
         "customdata": [
          [
           "LA809",
           "06:30 AM",
           "SCEL",
           "YSSY",
           "B789"
          ],
          [
           "QF8",
           "06:35 AM",
           "KDFW",
           "YSSY",
           "B789"
          ],
          [
           "QF76",
           "06:35 AM",
           "CYVR",
           "YSSY",
           "B789"
          ],
          [
           "JQ38",
           "07:25 AM",
           "WADD",
           "YSSY",
           "B788"
          ],
          [
           "AI302",
           "08:10 AM",
           "VIDP",
           "YSSY",
           "B788"
          ],
          [
           "QF4",
           "08:20 AM",
           "NZAA",
           "YSSY",
           "B789"
          ],
          [
           "UA839",
           "09:05 AM",
           "KLAX",
           "YSSY",
           "B789"
          ],
          [
           "CZ325",
           "09:25 AM",
           "ZGGG",
           "YSSY",
           "B789"
          ],
          [
           "LA801",
           "09:25 AM",
           "NZAA",
           "YSSY",
           "B789"
          ],
          [
           "JQ48",
           "10:05 AM",
           "RKSI",
           "YSSY",
           "B788"
          ],
          [
           "MF801",
           "10:25 AM",
           "ZSAM",
           "YSSY",
           "B789"
          ],
          [
           "NH879",
           "10:30 AM",
           "RJTT",
           "YSSY",
           "B789"
          ],
          [
           "JQ62",
           "11:30 AM",
           "VVTS",
           "YSSY",
           "B788"
          ],
          [
           "QF436",
           "12:25 PM",
           "YMML",
           "YSSY",
           "B789"
          ],
          [
           "TR2",
           "12:50 PM",
           "WSSS",
           "YSSY",
           "B789"
          ],
          [
           "HU797",
           "01:00 PM",
           "ZJHK",
           "YSSY",
           "789"
          ],
          [
           "CA173",
           "03:30 PM",
           "ZBAA",
           "YSSY",
           "B789"
          ],
          [
           "QF28",
           "05:40 PM",
           "SCEL",
           "YSSY",
           "B789"
          ],
          [
           "QF104",
           "06:20 PM",
           "PHNL",
           "YSSY",
           "B789"
          ],
          [
           "NH889",
           "08:15 PM",
           "RJTT",
           "YSSY",
           "B789"
          ],
          [
           "TR20",
           "08:35 PM",
           "WSSS",
           "YSSY",
           "B789"
          ]
         ],
         "hovertemplate": "Number: <b>%{customdata[0]}</b><br>Time: <b>%{customdata[1]}</b><br><br>Origin: %{customdata[2]}<br>Destination: %{customdata[3]}<extra></extra>",
         "hovertext": [
          "LA809",
          "QF8",
          "QF76",
          "JQ38",
          "AI302",
          "QF4",
          "UA839",
          "CZ325",
          "LA801",
          "JQ48",
          "MF801",
          "NH879",
          "JQ62",
          "QF436",
          "TR2",
          "HU797",
          "CA173",
          "QF28",
          "QF104",
          "NH889",
          "TR20"
         ],
         "legendgroup": "B787, landing",
         "marker": {
          "color": "#EF553B",
          "size": 10,
          "sizemode": "area",
          "sizeref": 10,
          "symbol": "triangle-down"
         },
         "mode": "markers",
         "name": "B787, landing",
         "orientation": "v",
         "showlegend": true,
         "type": "scatter",
         "x": [
          "2024-11-25T06:30:00",
          "2024-11-25T06:35:00",
          "2024-11-25T06:35:00",
          "2024-11-25T07:25:00",
          "2024-11-25T08:10:00",
          "2024-11-25T08:20:00",
          "2024-11-25T09:05:00",
          "2024-11-25T09:25:00",
          "2024-11-25T09:25:00",
          "2024-11-25T10:05:00",
          "2024-11-25T10:25:00",
          "2024-11-25T10:30:00",
          "2024-11-25T11:30:00",
          "2024-11-25T12:25:00",
          "2024-11-25T12:50:00",
          "2024-11-25T13:00:00",
          "2024-11-25T15:30:00",
          "2024-11-25T17:40:00",
          "2024-11-25T18:20:00",
          "2024-11-25T20:15:00",
          "2024-11-25T20:35:00"
         ],
         "xaxis": "x",
         "y": [
          "B787",
          "B787",
          "B787",
          "B787",
          "B787",
          "B787",
          "B787",
          "B787",
          "B787",
          "B787",
          "B787",
          "B787",
          "B787",
          "B787",
          "B787",
          "B787",
          "B787",
          "B787",
          "B787",
          "B787",
          "B787"
         ],
         "yaxis": "y"
        },
        {
         "customdata": [
          [
           "SQ262",
           "06:45 AM",
           "YSSY",
           "WSSS",
           "B77W"
          ],
          [
           "KE402",
           "09:10 AM",
           "YSSY",
           "RKSI",
           "B77W"
          ],
          [
           "JL52",
           "09:15 AM",
           "YSSY",
           "RJTT",
           "B77W"
          ],
          [
           "SQ212",
           "10:00 AM",
           "YSSY",
           "WSSS",
           "B77W"
          ],
          [
           "AA72",
           "11:15 AM",
           "YSSY",
           "KLAX",
           "B77W"
          ],
          [
           "AC34",
           "11:20 AM",
           "YSSY",
           "CYVR",
           "B77L"
          ],
          [
           "NZ104",
           "11:45 AM",
           "YSSY",
           "NZAA",
           "B77W"
          ],
          [
           "UA830",
           "12:10 PM",
           "YSSY",
           "KSFO",
           "B772"
          ],
          [
           "CX100",
           "03:15 PM",
           "YSSY",
           "VHHH",
           "B77W"
          ],
          [
           "BA16",
           "04:20 PM",
           "YSSY",
           "WSSS",
           "B77W"
          ],
          [
           "FX75",
           "06:45 PM",
           "YSSY",
           "ZGGG",
           "B77L"
          ],
          [
           "SQ7447",
           "07:45 PM",
           "YSSY",
           "WSSS",
           "B77L"
          ],
          [
           "EY455",
           "09:30 PM",
           "YSSY",
           "OMAA",
           "B77W"
          ],
          [
           "EK9820",
           "10:00 PM",
           "YSSY",
           "VHHH",
           "B77L"
          ]
         ],
         "hovertemplate": "Number: <b>%{customdata[0]}</b><br>Time: <b>%{customdata[1]}</b><br><br>Origin: %{customdata[2]}<br>Destination: %{customdata[3]}<extra></extra>",
         "hovertext": [
          "SQ262",
          "KE402",
          "JL52",
          "SQ212",
          "AA72",
          "AC34",
          "NZ104",
          "UA830",
          "CX100",
          "BA16",
          "FX75",
          "SQ7447",
          "EY455",
          "EK9820"
         ],
         "legendgroup": "B777, takeoff",
         "marker": {
          "color": "#00cc96",
          "size": 10,
          "sizemode": "area",
          "sizeref": 10,
          "symbol": "triangle-up"
         },
         "mode": "markers",
         "name": "B777, takeoff",
         "orientation": "v",
         "showlegend": true,
         "type": "scatter",
         "x": [
          "2024-11-25T06:45:00",
          "2024-11-25T09:10:00",
          "2024-11-25T09:15:00",
          "2024-11-25T10:00:00",
          "2024-11-25T11:15:00",
          "2024-11-25T11:20:00",
          "2024-11-25T11:45:00",
          "2024-11-25T12:10:00",
          "2024-11-25T15:15:00",
          "2024-11-25T16:20:00",
          "2024-11-25T18:45:00",
          "2024-11-25T19:45:00",
          "2024-11-25T21:30:00",
          "2024-11-25T22:00:00"
         ],
         "xaxis": "x",
         "y": [
          "B777",
          "B777",
          "B777",
          "B777",
          "B777",
          "B777",
          "B777",
          "B777",
          "B777",
          "B777",
          "B777",
          "B777",
          "B777",
          "B777"
         ],
         "yaxis": "y"
        },
        {
         "customdata": [
          [
           "SQ261",
           "05:55 AM",
           "WSSS",
           "YSSY",
           "B77W"
          ],
          [
           "JL51",
           "06:50 AM",
           "RJTT",
           "YSSY",
           "B77W"
          ],
          [
           "BA15",
           "06:55 AM",
           "WSSS",
           "YSSY",
           "B77W"
          ],
          [
           "KE401",
           "06:55 AM",
           "RKSI",
           "YSSY",
           "B77W"
          ],
          [
           "AA73",
           "09:00 AM",
           "KLAX",
           "YSSY",
           "B77W"
          ],
          [
           "UA863",
           "09:15 AM",
           "KSFO",
           "YSSY",
           "B772"
          ],
          [
           "AC33",
           "09:35 AM",
           "CYVR",
           "YSSY",
           "B77L"
          ],
          [
           "EK9820",
           "10:20 AM",
           "OMDW",
           "YSSY",
           "B77L"
          ],
          [
           "NZ103",
           "10:25 AM",
           "NZAA",
           "YSSY",
           "B77W"
          ],
          [
           "CX101",
           "12:00 PM",
           "VHHH",
           "YSSY",
           "B77W"
          ],
          [
           "FX5071",
           "02:15 PM",
           "WSSS",
           "YSSY",
           "B77L"
          ],
          [
           "SQ7447",
           "04:15 PM",
           "KLAX",
           "YSSY",
           "B77L"
          ],
          [
           "EY454",
           "06:35 PM",
           "OMAA",
           "YSSY",
           "B77W"
          ],
          [
           "EK9820",
           "07:40 PM",
           "WSSS",
           "YSSY",
           "B77L"
          ],
          [
           "SQ211",
           "09:20 PM",
           "WSSS",
           "YSSY",
           "B77W"
          ]
         ],
         "hovertemplate": "Number: <b>%{customdata[0]}</b><br>Time: <b>%{customdata[1]}</b><br><br>Origin: %{customdata[2]}<br>Destination: %{customdata[3]}<extra></extra>",
         "hovertext": [
          "SQ261",
          "JL51",
          "BA15",
          "KE401",
          "AA73",
          "UA863",
          "AC33",
          "EK9820",
          "NZ103",
          "CX101",
          "FX5071",
          "SQ7447",
          "EY454",
          "EK9820",
          "SQ211"
         ],
         "legendgroup": "B777, landing",
         "marker": {
          "color": "#00cc96",
          "size": 10,
          "sizemode": "area",
          "sizeref": 10,
          "symbol": "triangle-down"
         },
         "mode": "markers",
         "name": "B777, landing",
         "orientation": "v",
         "showlegend": true,
         "type": "scatter",
         "x": [
          "2024-11-25T05:55:00",
          "2024-11-25T06:50:00",
          "2024-11-25T06:55:00",
          "2024-11-25T06:55:00",
          "2024-11-25T09:00:00",
          "2024-11-25T09:15:00",
          "2024-11-25T09:35:00",
          "2024-11-25T10:20:00",
          "2024-11-25T10:25:00",
          "2024-11-25T12:00:00",
          "2024-11-25T14:15:00",
          "2024-11-25T16:15:46",
          "2024-11-25T18:35:00",
          "2024-11-25T19:40:00",
          "2024-11-25T21:20:00"
         ],
         "xaxis": "x",
         "y": [
          "B777",
          "B777",
          "B777",
          "B777",
          "B777",
          "B777",
          "B777",
          "B777",
          "B777",
          "B777",
          "B777",
          "B777",
          "B777",
          "B777",
          "B777"
         ],
         "yaxis": "y"
        },
        {
         "customdata": [
          [
           "CX110",
           "08:45 AM",
           "YSSY",
           "VHHH",
           "A359"
          ],
          [
           "TG476",
           "10:00 AM",
           "YSSY",
           "VTBS",
           "A359"
          ],
          [
           "OZ602",
           "10:20 AM",
           "YSSY",
           "RKSI",
           "A359"
          ],
          [
           "CX162",
           "11:05 AM",
           "YSSY",
           "VHHH",
           "A359"
          ],
          [
           "DL40",
           "11:05 AM",
           "YSSY",
           "KLAX",
           "A359"
          ],
          [
           "VN772",
           "11:50 AM",
           "YSSY",
           "VVTS",
           "A359"
          ],
          [
           "MU562",
           "12:00 PM",
           "YSSY",
           "ZSPD",
           "A359"
          ],
          [
           "FJ910",
           "02:00 PM",
           "YSSY",
           "NFFN",
           "A359"
          ],
          [
           "VN786",
           "03:15 PM",
           "YSSY",
           "VVNB",
           "A359"
          ],
          [
           "TG472",
           "03:50 PM",
           "YSSY",
           "VTBS",
           "A359"
          ],
          [
           "SQ242",
           "07:10 PM",
           "YSSY",
           "WSSS",
           "A359"
          ],
          [
           "3U3892",
           "08:50 PM",
           "YSSY",
           "ZUTF",
           "A359"
          ],
          [
           "CZ302",
           "10:00 PM",
           "YSSY",
           "ZGGG",
           "A359"
          ],
          [
           "CI52",
           "10:10 PM",
           "YSSY",
           "RCTP",
           "A359"
          ]
         ],
         "hovertemplate": "Number: <b>%{customdata[0]}</b><br>Time: <b>%{customdata[1]}</b><br><br>Origin: %{customdata[2]}<br>Destination: %{customdata[3]}<extra></extra>",
         "hovertext": [
          "CX110",
          "TG476",
          "OZ602",
          "CX162",
          "DL40",
          "VN772",
          "MU562",
          "FJ910",
          "VN786",
          "TG472",
          "SQ242",
          "3U3892",
          "CZ302",
          "CI52"
         ],
         "legendgroup": "A350, takeoff",
         "marker": {
          "color": "#ab63fa",
          "size": 10,
          "sizemode": "area",
          "sizeref": 10,
          "symbol": "triangle-up"
         },
         "mode": "markers",
         "name": "A350, takeoff",
         "orientation": "v",
         "showlegend": true,
         "type": "scatter",
         "x": [
          "2024-11-25T08:45:00",
          "2024-11-25T10:00:00",
          "2024-11-25T10:20:00",
          "2024-11-25T11:05:00",
          "2024-11-25T11:05:00",
          "2024-11-25T11:50:00",
          "2024-11-25T12:00:00",
          "2024-11-25T14:00:00",
          "2024-11-25T15:15:00",
          "2024-11-25T15:50:00",
          "2024-11-25T19:10:00",
          "2024-11-25T20:50:00",
          "2024-11-25T22:00:00",
          "2024-11-25T22:10:00"
         ],
         "xaxis": "x",
         "y": [
          "A350",
          "A350",
          "A350",
          "A350",
          "A350",
          "A350",
          "A350",
          "A350",
          "A350",
          "A350",
          "A350",
          "A350",
          "A350",
          "A350"
         ],
         "yaxis": "y"
        },
        {
         "customdata": [
          [
           "CX111",
           "07:15 AM",
           "VHHH",
           "YSSY",
           "A359"
          ],
          [
           "OZ601",
           "08:20 AM",
           "RKSI",
           "YSSY",
           "A359"
          ],
          [
           "DL41",
           "08:35 AM",
           "KLAX",
           "YSSY",
           "A359"
          ],
          [
           "CX161",
           "09:35 AM",
           "VHHH",
           "YSSY",
           "A359"
          ],
          [
           "VN773",
           "09:50 AM",
           "VVTS",
           "YSSY",
           "A359"
          ],
          [
           "MU561",
           "10:00 AM",
           "ZSPD",
           "YSSY",
           "A359"
          ],
          [
           "TG471",
           "11:55 AM",
           "VTBS",
           "YSSY",
           "A359"
          ],
          [
           "CI51",
           "12:10 PM",
           "RCTP",
           "YSSY",
           "A359"
          ],
          [
           "FJ911",
           "12:30 PM",
           "NFFN",
           "YSSY",
           "A359"
          ],
          [
           "VN787",
           "01:15 PM",
           "VVNB",
           "YSSY",
           "A359"
          ],
          [
           "3U3891",
           "03:25 PM",
           "ZUTF",
           "YSSY",
           "A359"
          ],
          [
           "SQ241",
           "05:55 PM",
           "WSSS",
           "YSSY",
           "A359"
          ],
          [
           "CZ301",
           "08:20 PM",
           "ZGGG",
           "YSSY",
           "A359"
          ],
          [
           "TG475",
           "09:50 PM",
           "VTBS",
           "YSSY",
           "A359"
          ]
         ],
         "hovertemplate": "Number: <b>%{customdata[0]}</b><br>Time: <b>%{customdata[1]}</b><br><br>Origin: %{customdata[2]}<br>Destination: %{customdata[3]}<extra></extra>",
         "hovertext": [
          "CX111",
          "OZ601",
          "DL41",
          "CX161",
          "VN773",
          "MU561",
          "TG471",
          "CI51",
          "FJ911",
          "VN787",
          "3U3891",
          "SQ241",
          "CZ301",
          "TG475"
         ],
         "legendgroup": "A350, landing",
         "marker": {
          "color": "#ab63fa",
          "size": 10,
          "sizemode": "area",
          "sizeref": 10,
          "symbol": "triangle-down"
         },
         "mode": "markers",
         "name": "A350, landing",
         "orientation": "v",
         "showlegend": true,
         "type": "scatter",
         "x": [
          "2024-11-25T07:15:00",
          "2024-11-25T08:20:00",
          "2024-11-25T08:35:00",
          "2024-11-25T09:35:00",
          "2024-11-25T09:50:00",
          "2024-11-25T10:00:00",
          "2024-11-25T11:55:00",
          "2024-11-25T12:10:00",
          "2024-11-25T12:30:00",
          "2024-11-25T13:15:00",
          "2024-11-25T15:25:00",
          "2024-11-25T17:55:00",
          "2024-11-25T20:20:00",
          "2024-11-25T21:50:00"
         ],
         "xaxis": "x",
         "y": [
          "A350",
          "A350",
          "A350",
          "A350",
          "A350",
          "A350",
          "A350",
          "A350",
          "A350",
          "A350",
          "A350",
          "A350",
          "A350",
          "A350"
         ],
         "yaxis": "y"
        },
        {
         "customdata": [
          [
           "EK415",
           "06:00 AM",
           "YSSY",
           "OMDB",
           "A388"
          ],
          [
           "EK412",
           "08:45 AM",
           "YSSY",
           "NZCH",
           "A388"
          ],
          [
           "QF63",
           "09:30 AM",
           "YSSY",
           "FAOR",
           "A388"
          ],
          [
           "SQ232",
           "12:15 PM",
           "YSSY",
           "WSSS",
           "A388"
          ],
          [
           "QF1",
           "03:55 PM",
           "YSSY",
           "WSSS",
           "A388"
          ],
          [
           "SQ222",
           "04:10 PM",
           "YSSY",
           "WSSS",
           "A388"
          ],
          [
           "QF11",
           "05:25 PM",
           "YSSY",
           "KLAX",
           "A388"
          ],
          [
           "EK417",
           "09:10 PM",
           "YSSY",
           "OMDB",
           "A388"
          ],
          [
           "QR909",
           "09:40 PM",
           "YSSY",
           "OTHH",
           "A388"
          ],
          [
           "EK413",
           "09:45 PM",
           "YSSY",
           "OMDB",
           "A388"
          ]
         ],
         "hovertemplate": "Number: <b>%{customdata[0]}</b><br>Time: <b>%{customdata[1]}</b><br><br>Origin: %{customdata[2]}<br>Destination: %{customdata[3]}<extra></extra>",
         "hovertext": [
          "EK415",
          "EK412",
          "QF63",
          "SQ232",
          "QF1",
          "SQ222",
          "QF11",
          "EK417",
          "QR909",
          "EK413"
         ],
         "legendgroup": "A380, takeoff",
         "marker": {
          "color": "#FFA15A",
          "size": 10,
          "sizemode": "area",
          "sizeref": 10,
          "symbol": "triangle-up"
         },
         "mode": "markers",
         "name": "A380, takeoff",
         "orientation": "v",
         "showlegend": true,
         "type": "scatter",
         "x": [
          "2024-11-25T06:00:00",
          "2024-11-25T08:45:00",
          "2024-11-25T09:30:00",
          "2024-11-25T12:15:00",
          "2024-11-25T15:55:00",
          "2024-11-25T16:10:00",
          "2024-11-25T17:25:00",
          "2024-11-25T21:10:00",
          "2024-11-25T21:40:00",
          "2024-11-25T21:45:00"
         ],
         "xaxis": "x",
         "y": [
          "A380",
          "A380",
          "A380",
          "A380",
          "A380",
          "A380",
          "A380",
          "A380",
          "A380",
          "A380"
         ],
         "yaxis": "y"
        },
        {
         "customdata": [
          [
           "QF2",
           "06:30 AM",
           "WSSS",
           "YSSY",
           "A388"
          ],
          [
           "EK412",
           "07:00 AM",
           "OMDB",
           "YSSY",
           "A388"
          ],
          [
           "QF12",
           "07:25 AM",
           "KLAX",
           "YSSY",
           "A388"
          ],
          [
           "SQ221",
           "07:40 AM",
           "WSSS",
           "YSSY",
           "A388"
          ],
          [
           "SQ231",
           "11:50 AM",
           "WSSS",
           "YSSY",
           "A388"
          ],
          [
           "QF64",
           "02:15 PM",
           "FAOR",
           "YSSY",
           "A388"
          ],
          [
           "EK416",
           "06:35 PM",
           "OMDB",
           "YSSY",
           "A388"
          ],
          [
           "QR908",
           "06:50 PM",
           "OTHH",
           "YSSY",
           "A388"
          ],
          [
           "EK413",
           "07:40 PM",
           "NZCH",
           "YSSY",
           "A388"
          ],
          [
           "EK414",
           "10:30 PM",
           "OMDB",
           "YSSY",
           "A388"
          ]
         ],
         "hovertemplate": "Number: <b>%{customdata[0]}</b><br>Time: <b>%{customdata[1]}</b><br><br>Origin: %{customdata[2]}<br>Destination: %{customdata[3]}<extra></extra>",
         "hovertext": [
          "QF2",
          "EK412",
          "QF12",
          "SQ221",
          "SQ231",
          "QF64",
          "EK416",
          "QR908",
          "EK413",
          "EK414"
         ],
         "legendgroup": "A380, landing",
         "marker": {
          "color": "#FFA15A",
          "size": 10,
          "sizemode": "area",
          "sizeref": 10,
          "symbol": "triangle-down"
         },
         "mode": "markers",
         "name": "A380, landing",
         "orientation": "v",
         "showlegend": true,
         "type": "scatter",
         "x": [
          "2024-11-25T06:30:00",
          "2024-11-25T07:00:00",
          "2024-11-25T07:25:00",
          "2024-11-25T07:40:00",
          "2024-11-25T11:50:00",
          "2024-11-25T14:15:00",
          "2024-11-25T18:35:00",
          "2024-11-25T18:50:00",
          "2024-11-25T19:40:00",
          "2024-11-25T22:30:00"
         ],
         "xaxis": "x",
         "y": [
          "A380",
          "A380",
          "A380",
          "A380",
          "A380",
          "A380",
          "A380",
          "A380",
          "A380",
          "A380"
         ],
         "yaxis": "y"
        },
        {
         "customdata": [
          [
           "CX20",
           "02:10 PM",
           "YSSY",
           "YMML",
           "B748"
          ],
          [
           "QF7581",
           "08:40 PM",
           "YSSY",
           "VTBS",
           "74Y"
          ],
          [
           "5Y7581",
           "08:40 PM",
           "YSSY",
           "VTBS",
           "74F"
          ],
          [
           "5X33",
           "09:00 PM",
           "YSSY",
           "ZSPD",
           "B748"
          ]
         ],
         "hovertemplate": "Number: <b>%{customdata[0]}</b><br>Time: <b>%{customdata[1]}</b><br><br>Origin: %{customdata[2]}<br>Destination: %{customdata[3]}<extra></extra>",
         "hovertext": [
          "CX20",
          "QF7581",
          "5Y7581",
          "5X33"
         ],
         "legendgroup": "B747, takeoff",
         "marker": {
          "color": "#19d3f3",
          "size": 10,
          "sizemode": "area",
          "sizeref": 10,
          "symbol": "triangle-up"
         },
         "mode": "markers",
         "name": "B747, takeoff",
         "orientation": "v",
         "showlegend": true,
         "type": "scatter",
         "x": [
          "2024-11-25T14:10:00",
          "2024-11-25T20:40:00",
          "2024-11-25T20:40:00",
          "2024-11-25T21:00:00"
         ],
         "xaxis": "x",
         "y": [
          "B747",
          "B747",
          "B747",
          "B747"
         ],
         "yaxis": "y"
        },
        {
         "customdata": [
          [
           "CX21",
           "11:45 AM",
           "VHHH",
           "YSSY",
           "B748"
          ],
          [
           "QF7552",
           "03:00 PM",
           "NZAA",
           "YSSY",
           "74Y"
          ],
          [
           "5Y7552",
           "03:00 PM",
           "NZAA",
           "YSSY",
           "74F"
          ],
          [
           "5X34",
           "04:49 PM",
           "PHNL",
           "YSSY",
           "B744"
          ],
          [
           "5X34",
           "07:22 PM",
           "PHNL",
           "YSSY",
           "B748"
          ]
         ],
         "hovertemplate": "Number: <b>%{customdata[0]}</b><br>Time: <b>%{customdata[1]}</b><br><br>Origin: %{customdata[2]}<br>Destination: %{customdata[3]}<extra></extra>",
         "hovertext": [
          "CX21",
          "QF7552",
          "5Y7552",
          "5X34",
          "5X34"
         ],
         "legendgroup": "B747, landing",
         "marker": {
          "color": "#19d3f3",
          "size": 10,
          "sizemode": "area",
          "sizeref": 10,
          "symbol": "triangle-down"
         },
         "mode": "markers",
         "name": "B747, landing",
         "orientation": "v",
         "showlegend": true,
         "type": "scatter",
         "x": [
          "2024-11-25T11:45:00",
          "2024-11-25T15:00:00",
          "2024-11-25T15:00:00",
          "2024-11-25T16:49:00",
          "2024-11-25T19:22:00"
         ],
         "xaxis": "x",
         "y": [
          "B747",
          "B747",
          "B747",
          "B747",
          "B747"
         ],
         "yaxis": "y"
        }
       ],
       "layout": {
        "height": 600,
        "hoverlabel": {
         "align": "right"
        },
        "legend": {
         "title": {
          "text": "Aircraft Family, mode"
         },
         "tracegroupgap": 0
        },
        "showlegend": false,
        "template": {
         "data": {
          "bar": [
           {
            "error_x": {
             "color": "#2a3f5f"
            },
            "error_y": {
             "color": "#2a3f5f"
            },
            "marker": {
             "line": {
              "color": "white",
              "width": 0.5
             },
             "pattern": {
              "fillmode": "overlay",
              "size": 10,
              "solidity": 0.2
             }
            },
            "type": "bar"
           }
          ],
          "barpolar": [
           {
            "marker": {
             "line": {
              "color": "white",
              "width": 0.5
             },
             "pattern": {
              "fillmode": "overlay",
              "size": 10,
              "solidity": 0.2
             }
            },
            "type": "barpolar"
           }
          ],
          "carpet": [
           {
            "aaxis": {
             "endlinecolor": "#2a3f5f",
             "gridcolor": "#C8D4E3",
             "linecolor": "#C8D4E3",
             "minorgridcolor": "#C8D4E3",
             "startlinecolor": "#2a3f5f"
            },
            "baxis": {
             "endlinecolor": "#2a3f5f",
             "gridcolor": "#C8D4E3",
             "linecolor": "#C8D4E3",
             "minorgridcolor": "#C8D4E3",
             "startlinecolor": "#2a3f5f"
            },
            "type": "carpet"
           }
          ],
          "choropleth": [
           {
            "colorbar": {
             "outlinewidth": 0,
             "ticks": ""
            },
            "type": "choropleth"
           }
          ],
          "contour": [
           {
            "colorbar": {
             "outlinewidth": 0,
             "ticks": ""
            },
            "colorscale": [
             [
              0,
              "#0d0887"
             ],
             [
              0.1111111111111111,
              "#46039f"
             ],
             [
              0.2222222222222222,
              "#7201a8"
             ],
             [
              0.3333333333333333,
              "#9c179e"
             ],
             [
              0.4444444444444444,
              "#bd3786"
             ],
             [
              0.5555555555555556,
              "#d8576b"
             ],
             [
              0.6666666666666666,
              "#ed7953"
             ],
             [
              0.7777777777777778,
              "#fb9f3a"
             ],
             [
              0.8888888888888888,
              "#fdca26"
             ],
             [
              1,
              "#f0f921"
             ]
            ],
            "type": "contour"
           }
          ],
          "contourcarpet": [
           {
            "colorbar": {
             "outlinewidth": 0,
             "ticks": ""
            },
            "type": "contourcarpet"
           }
          ],
          "heatmap": [
           {
            "colorbar": {
             "outlinewidth": 0,
             "ticks": ""
            },
            "colorscale": [
             [
              0,
              "#0d0887"
             ],
             [
              0.1111111111111111,
              "#46039f"
             ],
             [
              0.2222222222222222,
              "#7201a8"
             ],
             [
              0.3333333333333333,
              "#9c179e"
             ],
             [
              0.4444444444444444,
              "#bd3786"
             ],
             [
              0.5555555555555556,
              "#d8576b"
             ],
             [
              0.6666666666666666,
              "#ed7953"
             ],
             [
              0.7777777777777778,
              "#fb9f3a"
             ],
             [
              0.8888888888888888,
              "#fdca26"
             ],
             [
              1,
              "#f0f921"
             ]
            ],
            "type": "heatmap"
           }
          ],
          "heatmapgl": [
           {
            "colorbar": {
             "outlinewidth": 0,
             "ticks": ""
            },
            "colorscale": [
             [
              0,
              "#0d0887"
             ],
             [
              0.1111111111111111,
              "#46039f"
             ],
             [
              0.2222222222222222,
              "#7201a8"
             ],
             [
              0.3333333333333333,
              "#9c179e"
             ],
             [
              0.4444444444444444,
              "#bd3786"
             ],
             [
              0.5555555555555556,
              "#d8576b"
             ],
             [
              0.6666666666666666,
              "#ed7953"
             ],
             [
              0.7777777777777778,
              "#fb9f3a"
             ],
             [
              0.8888888888888888,
              "#fdca26"
             ],
             [
              1,
              "#f0f921"
             ]
            ],
            "type": "heatmapgl"
           }
          ],
          "histogram": [
           {
            "marker": {
             "pattern": {
              "fillmode": "overlay",
              "size": 10,
              "solidity": 0.2
             }
            },
            "type": "histogram"
           }
          ],
          "histogram2d": [
           {
            "colorbar": {
             "outlinewidth": 0,
             "ticks": ""
            },
            "colorscale": [
             [
              0,
              "#0d0887"
             ],
             [
              0.1111111111111111,
              "#46039f"
             ],
             [
              0.2222222222222222,
              "#7201a8"
             ],
             [
              0.3333333333333333,
              "#9c179e"
             ],
             [
              0.4444444444444444,
              "#bd3786"
             ],
             [
              0.5555555555555556,
              "#d8576b"
             ],
             [
              0.6666666666666666,
              "#ed7953"
             ],
             [
              0.7777777777777778,
              "#fb9f3a"
             ],
             [
              0.8888888888888888,
              "#fdca26"
             ],
             [
              1,
              "#f0f921"
             ]
            ],
            "type": "histogram2d"
           }
          ],
          "histogram2dcontour": [
           {
            "colorbar": {
             "outlinewidth": 0,
             "ticks": ""
            },
            "colorscale": [
             [
              0,
              "#0d0887"
             ],
             [
              0.1111111111111111,
              "#46039f"
             ],
             [
              0.2222222222222222,
              "#7201a8"
             ],
             [
              0.3333333333333333,
              "#9c179e"
             ],
             [
              0.4444444444444444,
              "#bd3786"
             ],
             [
              0.5555555555555556,
              "#d8576b"
             ],
             [
              0.6666666666666666,
              "#ed7953"
             ],
             [
              0.7777777777777778,
              "#fb9f3a"
             ],
             [
              0.8888888888888888,
              "#fdca26"
             ],
             [
              1,
              "#f0f921"
             ]
            ],
            "type": "histogram2dcontour"
           }
          ],
          "mesh3d": [
           {
            "colorbar": {
             "outlinewidth": 0,
             "ticks": ""
            },
            "type": "mesh3d"
           }
          ],
          "parcoords": [
           {
            "line": {
             "colorbar": {
              "outlinewidth": 0,
              "ticks": ""
             }
            },
            "type": "parcoords"
           }
          ],
          "pie": [
           {
            "automargin": true,
            "type": "pie"
           }
          ],
          "scatter": [
           {
            "fillpattern": {
             "fillmode": "overlay",
             "size": 10,
             "solidity": 0.2
            },
            "type": "scatter"
           }
          ],
          "scatter3d": [
           {
            "line": {
             "colorbar": {
              "outlinewidth": 0,
              "ticks": ""
             }
            },
            "marker": {
             "colorbar": {
              "outlinewidth": 0,
              "ticks": ""
             }
            },
            "type": "scatter3d"
           }
          ],
          "scattercarpet": [
           {
            "marker": {
             "colorbar": {
              "outlinewidth": 0,
              "ticks": ""
             }
            },
            "type": "scattercarpet"
           }
          ],
          "scattergeo": [
           {
            "marker": {
             "colorbar": {
              "outlinewidth": 0,
              "ticks": ""
             }
            },
            "type": "scattergeo"
           }
          ],
          "scattergl": [
           {
            "marker": {
             "colorbar": {
              "outlinewidth": 0,
              "ticks": ""
             }
            },
            "type": "scattergl"
           }
          ],
          "scattermapbox": [
           {
            "marker": {
             "colorbar": {
              "outlinewidth": 0,
              "ticks": ""
             }
            },
            "type": "scattermapbox"
           }
          ],
          "scatterpolar": [
           {
            "marker": {
             "colorbar": {
              "outlinewidth": 0,
              "ticks": ""
             }
            },
            "type": "scatterpolar"
           }
          ],
          "scatterpolargl": [
           {
            "marker": {
             "colorbar": {
              "outlinewidth": 0,
              "ticks": ""
             }
            },
            "type": "scatterpolargl"
           }
          ],
          "scatterternary": [
           {
            "marker": {
             "colorbar": {
              "outlinewidth": 0,
              "ticks": ""
             }
            },
            "type": "scatterternary"
           }
          ],
          "surface": [
           {
            "colorbar": {
             "outlinewidth": 0,
             "ticks": ""
            },
            "colorscale": [
             [
              0,
              "#0d0887"
             ],
             [
              0.1111111111111111,
              "#46039f"
             ],
             [
              0.2222222222222222,
              "#7201a8"
             ],
             [
              0.3333333333333333,
              "#9c179e"
             ],
             [
              0.4444444444444444,
              "#bd3786"
             ],
             [
              0.5555555555555556,
              "#d8576b"
             ],
             [
              0.6666666666666666,
              "#ed7953"
             ],
             [
              0.7777777777777778,
              "#fb9f3a"
             ],
             [
              0.8888888888888888,
              "#fdca26"
             ],
             [
              1,
              "#f0f921"
             ]
            ],
            "type": "surface"
           }
          ],
          "table": [
           {
            "cells": {
             "fill": {
              "color": "#EBF0F8"
             },
             "line": {
              "color": "white"
             }
            },
            "header": {
             "fill": {
              "color": "#C8D4E3"
             },
             "line": {
              "color": "white"
             }
            },
            "type": "table"
           }
          ]
         },
         "layout": {
          "annotationdefaults": {
           "arrowcolor": "#2a3f5f",
           "arrowhead": 0,
           "arrowwidth": 1
          },
          "autotypenumbers": "strict",
          "coloraxis": {
           "colorbar": {
            "outlinewidth": 0,
            "ticks": ""
           }
          },
          "colorscale": {
           "diverging": [
            [
             0,
             "#8e0152"
            ],
            [
             0.1,
             "#c51b7d"
            ],
            [
             0.2,
             "#de77ae"
            ],
            [
             0.3,
             "#f1b6da"
            ],
            [
             0.4,
             "#fde0ef"
            ],
            [
             0.5,
             "#f7f7f7"
            ],
            [
             0.6,
             "#e6f5d0"
            ],
            [
             0.7,
             "#b8e186"
            ],
            [
             0.8,
             "#7fbc41"
            ],
            [
             0.9,
             "#4d9221"
            ],
            [
             1,
             "#276419"
            ]
           ],
           "sequential": [
            [
             0,
             "#0d0887"
            ],
            [
             0.1111111111111111,
             "#46039f"
            ],
            [
             0.2222222222222222,
             "#7201a8"
            ],
            [
             0.3333333333333333,
             "#9c179e"
            ],
            [
             0.4444444444444444,
             "#bd3786"
            ],
            [
             0.5555555555555556,
             "#d8576b"
            ],
            [
             0.6666666666666666,
             "#ed7953"
            ],
            [
             0.7777777777777778,
             "#fb9f3a"
            ],
            [
             0.8888888888888888,
             "#fdca26"
            ],
            [
             1,
             "#f0f921"
            ]
           ],
           "sequentialminus": [
            [
             0,
             "#0d0887"
            ],
            [
             0.1111111111111111,
             "#46039f"
            ],
            [
             0.2222222222222222,
             "#7201a8"
            ],
            [
             0.3333333333333333,
             "#9c179e"
            ],
            [
             0.4444444444444444,
             "#bd3786"
            ],
            [
             0.5555555555555556,
             "#d8576b"
            ],
            [
             0.6666666666666666,
             "#ed7953"
            ],
            [
             0.7777777777777778,
             "#fb9f3a"
            ],
            [
             0.8888888888888888,
             "#fdca26"
            ],
            [
             1,
             "#f0f921"
            ]
           ]
          },
          "colorway": [
           "#636efa",
           "#EF553B",
           "#00cc96",
           "#ab63fa",
           "#FFA15A",
           "#19d3f3",
           "#FF6692",
           "#B6E880",
           "#FF97FF",
           "#FECB52"
          ],
          "font": {
           "color": "#2a3f5f"
          },
          "geo": {
           "bgcolor": "white",
           "lakecolor": "white",
           "landcolor": "white",
           "showlakes": true,
           "showland": true,
           "subunitcolor": "#C8D4E3"
          },
          "hoverlabel": {
           "align": "left"
          },
          "hovermode": "closest",
          "mapbox": {
           "style": "light"
          },
          "paper_bgcolor": "white",
          "plot_bgcolor": "white",
          "polar": {
           "angularaxis": {
            "gridcolor": "#EBF0F8",
            "linecolor": "#EBF0F8",
            "ticks": ""
           },
           "bgcolor": "white",
           "radialaxis": {
            "gridcolor": "#EBF0F8",
            "linecolor": "#EBF0F8",
            "ticks": ""
           }
          },
          "scene": {
           "xaxis": {
            "backgroundcolor": "white",
            "gridcolor": "#DFE8F3",
            "gridwidth": 2,
            "linecolor": "#EBF0F8",
            "showbackground": true,
            "ticks": "",
            "zerolinecolor": "#EBF0F8"
           },
           "yaxis": {
            "backgroundcolor": "white",
            "gridcolor": "#DFE8F3",
            "gridwidth": 2,
            "linecolor": "#EBF0F8",
            "showbackground": true,
            "ticks": "",
            "zerolinecolor": "#EBF0F8"
           },
           "zaxis": {
            "backgroundcolor": "white",
            "gridcolor": "#DFE8F3",
            "gridwidth": 2,
            "linecolor": "#EBF0F8",
            "showbackground": true,
            "ticks": "",
            "zerolinecolor": "#EBF0F8"
           }
          },
          "shapedefaults": {
           "line": {
            "color": "#2a3f5f"
           }
          },
          "ternary": {
           "aaxis": {
            "gridcolor": "#DFE8F3",
            "linecolor": "#A2B1C6",
            "ticks": ""
           },
           "baxis": {
            "gridcolor": "#DFE8F3",
            "linecolor": "#A2B1C6",
            "ticks": ""
           },
           "bgcolor": "white",
           "caxis": {
            "gridcolor": "#DFE8F3",
            "linecolor": "#A2B1C6",
            "ticks": ""
           }
          },
          "title": {
           "x": 0.05
          },
          "xaxis": {
           "automargin": true,
           "gridcolor": "#EBF0F8",
           "linecolor": "#EBF0F8",
           "ticks": "",
           "title": {
            "standoff": 15
           },
           "zerolinecolor": "#EBF0F8",
           "zerolinewidth": 2
          },
          "yaxis": {
           "automargin": true,
           "gridcolor": "#EBF0F8",
           "linecolor": "#EBF0F8",
           "ticks": "",
           "title": {
            "standoff": 15
           },
           "zerolinecolor": "#EBF0F8",
           "zerolinewidth": 2
          }
         }
        },
        "title": {
         "text": "Flight Schedule by Aircraft Family"
        },
        "xaxis": {
         "anchor": "y",
         "domain": [
          0,
          1
         ],
         "title": {
          "text": "Scheduled Time"
         }
        },
        "yaxis": {
         "anchor": "x",
         "categoryarray": [
          "B747",
          "A380",
          "A350",
          "B777",
          "B787",
          "A330"
         ],
         "categoryorder": "array",
         "domain": [
          0,
          1
         ],
         "title": {
          "text": "Aircraft Family"
         }
        }
       }
      }
     },
     "metadata": {},
     "output_type": "display_data"
    }
   ],
   "source": [
    "filtered = df[df['aircraftFamily'].isin(['A330', 'B787', 'A350', 'B777', 'A380', 'B747'])]\n",
    "plot_activity_by_aircraft_family(filtered)"
   ]
  },
  {
   "cell_type": "code",
   "execution_count": null,
   "metadata": {},
   "outputs": [],
   "source": []
  }
 ],
 "metadata": {
  "kernelspec": {
   "display_name": "flightRadarKernel",
   "language": "python",
   "name": "flightradarkernel"
  },
  "language_info": {
   "codemirror_mode": {
    "name": "ipython",
    "version": 3
   },
   "file_extension": ".py",
   "mimetype": "text/x-python",
   "name": "python",
   "nbconvert_exporter": "python",
   "pygments_lexer": "ipython3",
   "version": "3.12.3"
  }
 },
 "nbformat": 4,
 "nbformat_minor": 2
}
